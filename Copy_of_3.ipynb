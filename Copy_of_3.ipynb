{
  "cells": [
    {
      "cell_type": "markdown",
      "metadata": {
        "id": "view-in-github",
        "colab_type": "text"
      },
      "source": [
        "<a href=\"https://colab.research.google.com/github/Hadeer-Youssef/Problem-Solving/blob/main/Copy_of_3.ipynb\" target=\"_parent\"><img src=\"https://colab.research.google.com/assets/colab-badge.svg\" alt=\"Open In Colab\"/></a>"
      ]
    },
    {
      "cell_type": "markdown",
      "metadata": {
        "id": "ABH06cT4YKXT"
      },
      "source": [
        "# Advanced programming and AI Frameworks"
      ]
    },
    {
      "cell_type": "markdown",
      "metadata": {
        "id": "Fdn5GsWmYKXU"
      },
      "source": [
        "## copy — Shallow and deep copy operations"
      ]
    },
    {
      "cell_type": "markdown",
      "metadata": {
        "id": "KKsrSUeYYKXU"
      },
      "source": [
        "- #### A deep copy makes a new and separate copy of an entire object or list with its own unique memory address. What this means is that any changes you make in the new copy of the object/list won't reflect in the original one.\n",
        "\n",
        "- #### A shallow copy also makes a separate new object object or list, but instead of copying the child elements to the new object, it simply copies the references to their memory addresses."
      ]
    },
    {
      "cell_type": "code",
      "execution_count": null,
      "metadata": {
        "id": "goRUV-2MYKXV"
      },
      "outputs": [],
      "source": [
        "import copy"
      ]
    },
    {
      "cell_type": "code",
      "execution_count": null,
      "metadata": {
        "id": "Kw7gmQ7SYKXV",
        "outputId": "802c9935-da14-4500-93f0-148d365c1d49",
        "colab": {
          "base_uri": "https://localhost:8080/"
        }
      },
      "outputs": [
        {
          "output_type": "stream",
          "name": "stdout",
          "text": [
            "Original List: \n",
            "[[30, 85, 82], [72, 88, 90]]\n",
            "Shallow Copy:\n",
            "[[30, 85, 82], [72, 88, 90]]\n"
          ]
        }
      ],
      "source": [
        "result_A = [[90, 85, 82],\n",
        "            [72, 88, 90]] # Student A grades\n",
        "\n",
        "result_B = copy.copy(result_A) # Student B grades (copied from A)\n",
        "\n",
        "# Change first year and first subject's marks to 30\n",
        "result_B[0][0] = 30\n",
        "\n",
        "print(\"Original List: \")\n",
        "print(result_A)\n",
        "print(\"Shallow Copy:\")\n",
        "print(result_B)"
      ]
    },
    {
      "cell_type": "code",
      "execution_count": null,
      "metadata": {
        "id": "x_esM7UJYKXW",
        "outputId": "8c8445c6-ac60-47b8-82d1-2f6a9819a2a3",
        "colab": {
          "base_uri": "https://localhost:8080/"
        }
      },
      "outputs": [
        {
          "output_type": "stream",
          "name": "stdout",
          "text": [
            "Original List: \n",
            "[[90, 85, 82], [72, 88, 90]]\n",
            "Deep Copy:\n",
            "[[30, 85, 82], [72, 88, 90]]\n"
          ]
        }
      ],
      "source": [
        "import copy\n",
        "\n",
        "result_A = [[90, 85, 82], [72, 88, 90]] # Student A grades\n",
        "result_B = copy.deepcopy(result_A) # Student B grades (copied from A)\n",
        "\n",
        "# Change first year and first subject's marks to 30\n",
        "result_B[0][0] = 30\n",
        "\n",
        "print(\"Original List: \")\n",
        "print(result_A)\n",
        "print(\"Deep Copy:\")\n",
        "print(result_B)"
      ]
    },
    {
      "cell_type": "code",
      "execution_count": null,
      "metadata": {
        "id": "WGTk-MDBYKXW"
      },
      "outputs": [],
      "source": []
    },
    {
      "cell_type": "markdown",
      "metadata": {
        "id": "b0HWPFNBYKXW"
      },
      "source": [
        "## pickle"
      ]
    },
    {
      "cell_type": "markdown",
      "metadata": {
        "id": "_NgLMTCZYKXW"
      },
      "source": [
        "- #### Python Pickle is used to serialize and deserialize a python object structure. Any object on python can be pickled so that it can be saved on disk."
      ]
    },
    {
      "cell_type": "code",
      "source": [],
      "metadata": {
        "id": "O7Q1i_W7ERaN"
      },
      "execution_count": null,
      "outputs": []
    },
    {
      "cell_type": "code",
      "execution_count": null,
      "metadata": {
        "id": "_p-3IR-tYKXW"
      },
      "outputs": [],
      "source": [
        "import pickle"
      ]
    },
    {
      "cell_type": "code",
      "execution_count": null,
      "metadata": {
        "id": "NU_5Pd_dYKXX"
      },
      "outputs": [],
      "source": [
        "L=[1,2,3,4]\n",
        "\n",
        "file = open('aaa', 'wb')\n",
        "pickle.dump(L, file)\n",
        "file.close()"
      ]
    },
    {
      "cell_type": "code",
      "execution_count": null,
      "metadata": {
        "id": "Oj3V0YRyYKXX",
        "outputId": "4ae089b8-ae7e-44ac-9085-a5fb4fcc80ed",
        "colab": {
          "base_uri": "https://localhost:8080/"
        }
      },
      "outputs": [
        {
          "output_type": "stream",
          "name": "stdout",
          "text": [
            "[1, 2, 3, 4]\n"
          ]
        }
      ],
      "source": [
        "fo = open('aaa', 'rb')\n",
        "d = pickle.load(fo)\n",
        "#fo.close()\n",
        "print(d)"
      ]
    },
    {
      "cell_type": "code",
      "execution_count": null,
      "metadata": {
        "id": "HrKzeVJ6YKXX"
      },
      "outputs": [],
      "source": [
        "def read_from_file(fileName):\n",
        "    fo = open(fileName, 'rb')\n",
        "    d = pickle.load(fo)\n",
        "    fo.close()\n",
        "    return d"
      ]
    },
    {
      "cell_type": "code",
      "execution_count": null,
      "metadata": {
        "id": "a4e2Mu01YKXX"
      },
      "outputs": [],
      "source": [
        "def write_to_file(data,f_name):\n",
        "    # open a file, where you ant to store the data\n",
        "    file = open(f_name, 'wb')\n",
        "    # dump information to that file\n",
        "    pickle.dump(data, file)\n",
        "\n",
        "# close the file\n",
        "    file.close()\n"
      ]
    },
    {
      "cell_type": "code",
      "execution_count": null,
      "metadata": {
        "id": "KeGY-ZAVYKXX"
      },
      "outputs": [],
      "source": [
        "aa=[2,3,True,'AAAA']\n",
        "write_to_file(aa,'bbbb')"
      ]
    },
    {
      "cell_type": "code",
      "execution_count": null,
      "metadata": {
        "id": "qu0kMzMKYKXX"
      },
      "outputs": [],
      "source": [
        "aa1=read_from_file('bbbb')"
      ]
    },
    {
      "cell_type": "code",
      "execution_count": null,
      "metadata": {
        "id": "vzThMa4SYKXX",
        "outputId": "82b7c2ab-4d56-4efa-b1b5-6e3e96aa17bf",
        "colab": {
          "base_uri": "https://localhost:8080/"
        }
      },
      "outputs": [
        {
          "output_type": "execute_result",
          "data": {
            "text/plain": [
              "[2, 3, True, 'AAAA']"
            ]
          },
          "metadata": {},
          "execution_count": 21
        }
      ],
      "source": [
        "aa1\n"
      ]
    },
    {
      "cell_type": "markdown",
      "metadata": {
        "id": "hGkymou_YKXY"
      },
      "source": [
        "## Read file line by line"
      ]
    },
    {
      "cell_type": "code",
      "source": [
        "from google.colab import drive\n",
        "drive.mount('/content/drive')"
      ],
      "metadata": {
        "colab": {
          "base_uri": "https://localhost:8080/"
        },
        "id": "xdEPRbhsNNbQ",
        "outputId": "6d5741d5-18b7-4e4e-ea0e-32a5b40f5b01"
      },
      "execution_count": null,
      "outputs": [
        {
          "output_type": "stream",
          "name": "stdout",
          "text": [
            "Mounted at /content/drive\n"
          ]
        }
      ]
    },
    {
      "cell_type": "code",
      "source": [
        "cd /content/drive/MyDrive/learn_pytorch/python practice"
      ],
      "metadata": {
        "colab": {
          "base_uri": "https://localhost:8080/"
        },
        "id": "hI6hPUAkNnjJ",
        "outputId": "6c10a347-7813-42dc-e806-8f2278703b25"
      },
      "execution_count": null,
      "outputs": [
        {
          "output_type": "stream",
          "name": "stdout",
          "text": [
            "/content/drive/MyDrive/learn_pytorch/python practice\n"
          ]
        }
      ]
    },
    {
      "cell_type": "code",
      "source": [
        "ls"
      ],
      "metadata": {
        "colab": {
          "base_uri": "https://localhost:8080/"
        },
        "id": "rXYIAZe5NfMN",
        "outputId": "ef1513a2-6418-4a74-95d5-9140489e88f7"
      },
      "execution_count": null,
      "outputs": [
        {
          "output_type": "stream",
          "name": "stdout",
          "text": [
            "aaa  bbbb\n"
          ]
        }
      ]
    },
    {
      "cell_type": "code",
      "execution_count": null,
      "metadata": {
        "id": "zPXF1RBlYKXY",
        "outputId": "a9d0d20e-5d10-4568-927c-901e23d735e6",
        "colab": {
          "base_uri": "https://localhost:8080/"
        }
      },
      "outputs": [
        {
          "output_type": "stream",
          "name": "stdout",
          "text": [
            "hello hadder\n",
            "you will finish this journey\n",
            "i promise you "
          ]
        }
      ],
      "source": [
        "def read_line_by_line_from_file(fname):\n",
        "    f = open(fname, 'r')\n",
        "\n",
        "    for line in f:\n",
        "            print(line, end=\"\")\n",
        "    f.close()\n",
        "\n",
        "read_line_by_line_from_file('file.txt')\n",
        "# Using for loop"
      ]
    },
    {
      "cell_type": "code",
      "execution_count": null,
      "metadata": {
        "id": "V5eWU_ISYKXY",
        "outputId": "bfa5b3dc-2308-4ec4-d61c-f637fb3c8f64",
        "colab": {
          "base_uri": "https://localhost:8080/"
        }
      },
      "outputs": [
        {
          "output_type": "stream",
          "name": "stdout",
          "text": [
            "['hello', 'hadder']\n",
            "hello\n",
            "hadder\n",
            "['you', 'will', 'finish', 'this', 'journey']\n",
            "you\n",
            "will\n",
            "finish\n",
            "this\n",
            "journey\n",
            "['i', 'promise', 'you']\n",
            "i\n",
            "promise\n",
            "you\n"
          ]
        }
      ],
      "source": [
        "f = open('file.txt', 'r')\n",
        "for line in f:\n",
        "    print(line.split())\n",
        "    for word in line.split():\n",
        "        print(word)"
      ]
    },
    {
      "cell_type": "code",
      "execution_count": null,
      "metadata": {
        "id": "rKx5wzoYYKXY"
      },
      "outputs": [],
      "source": [
        "def add(a,b):\n",
        "\n",
        "    return a+b"
      ]
    },
    {
      "cell_type": "markdown",
      "metadata": {
        "id": "MSTnqc5FYKXY"
      },
      "source": [
        "## Lambda expression\n"
      ]
    },
    {
      "cell_type": "markdown",
      "metadata": {
        "id": "1RHtoXtQYKXY"
      },
      "source": [
        "- A lambda function is a small anonymous function.\n",
        "\n",
        "- A lambda function can take any number of arguments, but can only have one expression.\n",
        "\n",
        "### Syntax:\n",
        "<font color='blue'><h5>lambda arguments : expression"
      ]
    },
    {
      "cell_type": "code",
      "execution_count": null,
      "metadata": {
        "id": "S0K5Yh5fYKXY",
        "outputId": "8d5793a3-83f1-47a8-fffb-f07f2d6717e1",
        "colab": {
          "base_uri": "https://localhost:8080/"
        }
      },
      "outputs": [
        {
          "output_type": "stream",
          "name": "stdout",
          "text": [
            "105\n"
          ]
        }
      ],
      "source": [
        "def add_5(x):\n",
        "    return x + 5\n",
        "\n",
        "print(add_5(100))"
      ]
    },
    {
      "cell_type": "code",
      "execution_count": null,
      "metadata": {
        "id": "cCTSC3-xYKXY",
        "outputId": "1c35c48a-39b8-49c1-cc54-99e3b5e51a47",
        "colab": {
          "base_uri": "https://localhost:8080/"
        }
      },
      "outputs": [
        {
          "output_type": "stream",
          "name": "stdout",
          "text": [
            "110\n"
          ]
        }
      ],
      "source": [
        "r=lambda a:a+10\n",
        "\n",
        "res=r(100)\n",
        "print(res)"
      ]
    },
    {
      "cell_type": "markdown",
      "metadata": {
        "id": "4C8Xi7dyYKXZ"
      },
      "source": [
        "## Convert function to lambda"
      ]
    },
    {
      "cell_type": "code",
      "execution_count": null,
      "metadata": {
        "id": "5wLfSs-iYKXZ",
        "outputId": "7b583e97-1238-4f73-f881-2fec0910f67e",
        "colab": {
          "base_uri": "https://localhost:8080/"
        }
      },
      "outputs": [
        {
          "output_type": "stream",
          "name": "stdout",
          "text": [
            "-30\n"
          ]
        }
      ],
      "source": [
        "def multiply_a_and_b(a,b):\n",
        "    return a*b\n",
        "\n",
        "res=multiply_a_and_b(3,-10)\n",
        "print(res)"
      ]
    },
    {
      "cell_type": "code",
      "source": [
        "x=lambda a,b:a*b\n",
        "print(x(1,10))"
      ],
      "metadata": {
        "colab": {
          "base_uri": "https://localhost:8080/"
        },
        "id": "JGYlIgFQrjTg",
        "outputId": "e289e7c6-0189-46ae-dac7-b8b0d1d8e64b"
      },
      "execution_count": null,
      "outputs": [
        {
          "output_type": "stream",
          "name": "stdout",
          "text": [
            "10\n"
          ]
        }
      ]
    },
    {
      "cell_type": "code",
      "execution_count": null,
      "metadata": {
        "id": "xf0APGDVYKXZ"
      },
      "outputs": [],
      "source": [
        "m=lambda a,b: a*b"
      ]
    },
    {
      "cell_type": "code",
      "execution_count": null,
      "metadata": {
        "id": "S3X-87d5YKXZ",
        "outputId": "b21dfe75-1489-4b29-fc05-55a1019797f1",
        "colab": {
          "base_uri": "https://localhost:8080/"
        }
      },
      "outputs": [
        {
          "output_type": "stream",
          "name": "stdout",
          "text": [
            "300\n"
          ]
        }
      ],
      "source": [
        "print(m(30,10))"
      ]
    },
    {
      "cell_type": "code",
      "execution_count": null,
      "metadata": {
        "id": "iY5kYCdQYKXZ",
        "outputId": "d0df379f-9643-41f8-fa92-721b52195c50",
        "colab": {
          "base_uri": "https://localhost:8080/"
        }
      },
      "outputs": [
        {
          "output_type": "stream",
          "name": "stdout",
          "text": [
            "32\n"
          ]
        }
      ],
      "source": [
        "def a_exp_b(a,b):\n",
        "    return a**b\n",
        "\n",
        "\n",
        "print(a_exp_b(2,5))"
      ]
    },
    {
      "cell_type": "code",
      "execution_count": null,
      "metadata": {
        "id": "96yV2yUIYKXc",
        "outputId": "86104acf-37b4-40a2-9067-9e0006f676ab",
        "colab": {
          "base_uri": "https://localhost:8080/"
        }
      },
      "outputs": [
        {
          "output_type": "stream",
          "name": "stdout",
          "text": [
            "32\n"
          ]
        }
      ],
      "source": [
        "e=lambda a,b:a**b\n",
        "print(e(2,5))"
      ]
    },
    {
      "cell_type": "code",
      "execution_count": null,
      "metadata": {
        "id": "4nmcLF3GYKXd",
        "outputId": "f3770e1d-7192-4ab2-8414-6d286fd5aa2d",
        "colab": {
          "base_uri": "https://localhost:8080/"
        }
      },
      "outputs": [
        {
          "output_type": "stream",
          "name": "stdout",
          "text": [
            "15\n",
            "30\n"
          ]
        }
      ],
      "source": [
        "# example 1:\n",
        "\n",
        "add= lambda a : a + 10\n",
        "print(add(5))\n",
        "\n",
        "# example 2:\n",
        "x = lambda a, b : a * b\n",
        "res=x(5, 6)\n",
        "print(res)"
      ]
    },
    {
      "cell_type": "markdown",
      "metadata": {
        "id": "gkvz2o3QYKXd"
      },
      "source": [
        "### map() and lambda Function\n",
        "\n",
        "- The map() function in Python takes in a function and a list.\n",
        "\n",
        "- The function is called with all the items in the list and a new list is returned which contains items returned by that function for each item"
      ]
    },
    {
      "cell_type": "code",
      "execution_count": null,
      "metadata": {
        "id": "8FVwqV7XYKXd",
        "outputId": "39a4010c-01e3-4b58-8eab-e0095dab5f0d",
        "colab": {
          "base_uri": "https://localhost:8080/"
        }
      },
      "outputs": [
        {
          "output_type": "stream",
          "name": "stdout",
          "text": [
            "[1, 25, 16, 36, 64, 121, 9, 144]\n"
          ]
        }
      ],
      "source": [
        "def list_square(lst):\n",
        "    res=[]\n",
        "    for l in lst:\n",
        "        res.append(l**2)\n",
        "\n",
        "    return res\n",
        "\n",
        "my_list = [1, 5, 4, 6, 8, 11, 3, 12]\n",
        "\n",
        "print(list_square(my_list))"
      ]
    },
    {
      "cell_type": "code",
      "execution_count": null,
      "metadata": {
        "id": "1fqy6MMjYKXd",
        "outputId": "9505e8a3-38fa-4f03-83ff-775aad7f7f74",
        "colab": {
          "base_uri": "https://localhost:8080/"
        }
      },
      "outputs": [
        {
          "output_type": "execute_result",
          "data": {
            "text/plain": [
              "[1, 25, 16, 36, 64, 121, 9, 144]"
            ]
          },
          "metadata": {},
          "execution_count": 56
        }
      ],
      "source": [
        "list(map(lambda x:x**2,my_list))"
      ]
    },
    {
      "cell_type": "code",
      "source": [
        "my_list = [1, 5, 4, 6, 8, 11, 3, 12]\n",
        "max_value = max(map(lambda x:x, my_list))\n",
        "print(max_value)  # Output: 12\n"
      ],
      "metadata": {
        "colab": {
          "base_uri": "https://localhost:8080/"
        },
        "id": "FsSAkV-5B531",
        "outputId": "adc02126-e99b-452e-89f2-3adfd99fe4a3"
      },
      "execution_count": null,
      "outputs": [
        {
          "output_type": "stream",
          "name": "stdout",
          "text": [
            "12\n"
          ]
        }
      ]
    },
    {
      "cell_type": "code",
      "source": [
        "my_list = [1, 5, 4, 6, 8, 11, 3, 12]\n",
        "max_value = max(my_list, key=lambda x: x)\n",
        "print(max_value)  # Output: 12\n"
      ],
      "metadata": {
        "colab": {
          "base_uri": "https://localhost:8080/"
        },
        "id": "6X-E2x7mBiwH",
        "outputId": "8bedc857-6299-4141-9138-5b37d1cdd203"
      },
      "execution_count": null,
      "outputs": [
        {
          "output_type": "stream",
          "name": "stdout",
          "text": [
            "12\n"
          ]
        }
      ]
    },
    {
      "cell_type": "code",
      "execution_count": null,
      "metadata": {
        "id": "8auJAW31YKXd",
        "outputId": "f385db20-cb27-4161-9778-871022c0fbaa",
        "colab": {
          "base_uri": "https://localhost:8080/"
        }
      },
      "outputs": [
        {
          "output_type": "execute_result",
          "data": {
            "text/plain": [
              "[9, 16, 25]"
            ]
          },
          "metadata": {},
          "execution_count": 59
        }
      ],
      "source": [
        "list(map(lambda a:a**2,[3,4,5]))"
      ]
    },
    {
      "cell_type": "markdown",
      "metadata": {
        "id": "HWQmbxeMYKXd"
      },
      "source": [
        "### filter and lambda function\n",
        "- In simple words, filter() method filters the given iterable with the help of a function that tests each element in the iterable to be true or not.\n",
        "<br>\n",
        "<br>\n",
        "- The filter() function in Python takes in a function and a list as arguments. This offers an elegant way to filter out all the elements of a sequence “sequence”, for which the function returns True."
      ]
    },
    {
      "cell_type": "code",
      "execution_count": null,
      "metadata": {
        "id": "Ke069hPCYKXd",
        "outputId": "c6115b7f-5876-424d-8940-1494f5ea70b7",
        "colab": {
          "base_uri": "https://localhost:8080/"
        }
      },
      "outputs": [
        {
          "output_type": "stream",
          "name": "stdout",
          "text": [
            "[12, 15]\n"
          ]
        }
      ],
      "source": [
        "my_list = [1,2,3,4,8,10,12,15 ]\n",
        "\n",
        "# use anonymous function to filter and comparing\n",
        "\n",
        "res1=list(filter(lambda x:x>10,my_list))\n",
        "\n",
        "\n",
        "# printing the result\n",
        "print(res1)"
      ]
    },
    {
      "cell_type": "markdown",
      "metadata": {
        "id": "03w1qBN_YKXe"
      },
      "source": [
        "### reduce\n",
        "Python’s reduce() is a function that implements a mathematical technique called folding or reduction. reduce() is useful when you need to apply a function to an iterable and reduce it to a single cumulative value. Python’s reduce() is popular among developers with a functional programming background, but Python has more to offer."
      ]
    },
    {
      "cell_type": "code",
      "execution_count": null,
      "metadata": {
        "id": "Zl0zKjtYYKXe",
        "outputId": "7be4ee33-c62d-40d7-c827-24ab1967c473",
        "colab": {
          "base_uri": "https://localhost:8080/"
        }
      },
      "outputs": [
        {
          "output_type": "stream",
          "name": "stdout",
          "text": [
            "24\n"
          ]
        }
      ],
      "source": [
        "product = 1\n",
        "list22 = [1, 2, 3, 4]\n",
        "for num in list22:\n",
        "    product = product * num\n",
        "\n",
        "print(product)\n",
        "# product = 24"
      ]
    },
    {
      "cell_type": "code",
      "execution_count": null,
      "metadata": {
        "id": "PjIsCEh8YKXe",
        "outputId": "8d4592e8-955f-4df5-b984-545c54a63c4e",
        "colab": {
          "base_uri": "https://localhost:8080/"
        }
      },
      "outputs": [
        {
          "output_type": "stream",
          "name": "stdout",
          "text": [
            "10\n"
          ]
        }
      ],
      "source": [
        "from functools import reduce\n",
        "print(reduce(lambda a,b:a+b,list22))"
      ]
    },
    {
      "cell_type": "code",
      "execution_count": null,
      "metadata": {
        "id": "x-yaPpLjYKXe",
        "outputId": "cc781e06-7e89-4014-9b21-abba90c74947",
        "colab": {
          "base_uri": "https://localhost:8080/"
        }
      },
      "outputs": [
        {
          "output_type": "stream",
          "name": "stdout",
          "text": [
            "16\n"
          ]
        }
      ],
      "source": [
        "from functools import reduce\n",
        "\n",
        "def add(x, y):\n",
        "    return x + y\n",
        "\n",
        "list11 = [2, 4, 7, 3]\n",
        "print(reduce(add, list11))"
      ]
    },
    {
      "cell_type": "code",
      "execution_count": null,
      "metadata": {
        "id": "YpXs-pa3YKXe",
        "outputId": "3d912692-619d-4d9c-e81c-ac3a4d3232e8",
        "colab": {
          "base_uri": "https://localhost:8080/"
        }
      },
      "outputs": [
        {
          "output_type": "stream",
          "name": "stdout",
          "text": [
            "16\n",
            "With an initial value: 26\n"
          ]
        }
      ],
      "source": [
        "from functools import reduce\n",
        "\n",
        "list11 = [2, 4, 7, 3]\n",
        "\n",
        "print(reduce(lambda x, y: x + y, list11))\n",
        "\n",
        "print(\"With an initial value: \" + str(reduce(lambda x, y: x + y, list11, 10)))"
      ]
    },
    {
      "cell_type": "code",
      "execution_count": null,
      "metadata": {
        "id": "szQ3jJTcYKXe"
      },
      "outputs": [],
      "source": [
        "from functools import reduce\n",
        "product = reduce((lambda x, y: x * y), [1, 2, 3, 4])\n",
        "\n",
        "# Output: 24"
      ]
    },
    {
      "cell_type": "code",
      "execution_count": null,
      "metadata": {
        "id": "iupCG1fsYKXf",
        "outputId": "a5c1f9f2-6ad3-453d-d5a6-a87ab26702b8",
        "colab": {
          "base_uri": "https://localhost:8080/"
        }
      },
      "outputs": [
        {
          "output_type": "execute_result",
          "data": {
            "text/plain": [
              "5050"
            ]
          },
          "metadata": {},
          "execution_count": 68
        }
      ],
      "source": [
        "## Calculating the sum of the numbers from 1 to 100:\n",
        "from functools import reduce\n",
        "reduce(lambda x, y: x+y, range(1,101)) #  [1 ... 100]"
      ]
    },
    {
      "cell_type": "code",
      "execution_count": null,
      "metadata": {
        "id": "xrfu0sA2YKXf",
        "outputId": "e2b84466-99b3-4f3c-9d42-520b9daf4725",
        "colab": {
          "base_uri": "https://localhost:8080/"
        }
      },
      "outputs": [
        {
          "output_type": "stream",
          "name": "stdout",
          "text": [
            "102\n"
          ]
        }
      ],
      "source": [
        "from functools import reduce\n",
        "\n",
        "r= lambda a,b: a if (a > b) else b\n",
        "\n",
        "f = reduce( r, [47,11,42,102,13, 10])\n",
        "print(f)"
      ]
    },
    {
      "cell_type": "code",
      "execution_count": null,
      "metadata": {
        "id": "0i7RjiBLYKXf",
        "outputId": "e852a75a-32be-4e08-d835-801dc64e3569",
        "colab": {
          "base_uri": "https://localhost:8080/"
        }
      },
      "outputs": [
        {
          "output_type": "stream",
          "name": "stdout",
          "text": [
            "['even', 'odd', 'even', 'odd', 'even']\n"
          ]
        }
      ],
      "source": [
        "f = lambda a: 'even' if (a %2==0) else 'odd'\n",
        "\n",
        "res=list(map(f,[2,3,4,5,8]))\n",
        "\n",
        "print(res)"
      ]
    },
    {
      "cell_type": "markdown",
      "metadata": {
        "id": "8h1y-S_BYKXf"
      },
      "source": [
        "## List comprehensions in Python\n",
        "\n",
        "- List comprehensions provide you a way of writing for loops more concisely.\n",
        "- They can be useful when you want to create new lists from existing lists or iterables."
      ]
    },
    {
      "cell_type": "code",
      "execution_count": null,
      "metadata": {
        "id": "JWYgYVTLYKXf",
        "outputId": "2b363fc4-dc64-42d8-99ee-ecc840490ce8",
        "colab": {
          "base_uri": "https://localhost:8080/"
        }
      },
      "outputs": [
        {
          "output_type": "stream",
          "name": "stdout",
          "text": [
            "[16, 9, 25, 9]\n"
          ]
        }
      ],
      "source": [
        "lst4=[4,3,5,3]\n",
        "lst_res=[]\n",
        "for ll in lst4:\n",
        "    lst_res.append(ll*ll)\n",
        "print(lst_res)"
      ]
    },
    {
      "cell_type": "markdown",
      "metadata": {
        "id": "qMiRnB3HYKXf"
      },
      "source": [
        "### Syntax of List comprehensions"
      ]
    },
    {
      "cell_type": "markdown",
      "metadata": {
        "id": "MPyI9kJvYKXf"
      },
      "source": [
        "<font color= \"red\" size=\"3\">Let's begin by writing a very basic for loop to list the first 15 multiples of 5. First, you need to create an empty list. Then, you have to iterate over a range of numbers and multiply them by 5. The new sequence of numbers that you get will consist of multiples of 5 </font>"
      ]
    },
    {
      "cell_type": "code",
      "execution_count": null,
      "metadata": {
        "id": "NbyU4oJsYKXf",
        "outputId": "86bf3eec-199f-481d-e514-ca0acd2a186e",
        "colab": {
          "base_uri": "https://localhost:8080/"
        }
      },
      "outputs": [
        {
          "output_type": "stream",
          "name": "stdout",
          "text": [
            "[5, 10, 15, 20, 25, 30, 35, 40, 45, 50, 55, 60, 65, 70, 75]\n"
          ]
        }
      ],
      "source": [
        "multiples = []\n",
        "\n",
        "for n in range(1,16):\n",
        "    multiples.append(n*5)\n",
        "\n",
        "print(multiples)\n",
        "# [5, 10, 15, 20, 25, 30, 35, 40, 45, 50, 55, 60, 65, 70, 75]\n"
      ]
    },
    {
      "cell_type": "code",
      "execution_count": null,
      "metadata": {
        "id": "1xrdB9iZYKXg",
        "outputId": "26585d89-f88f-4ada-df35-f60235dfeb68",
        "colab": {
          "base_uri": "https://localhost:8080/"
        }
      },
      "outputs": [
        {
          "output_type": "stream",
          "name": "stdout",
          "text": [
            "[5, 10, 15, 20, 25, 30, 35, 40, 45, 50, 55, 60, 65, 70, 75]\n"
          ]
        }
      ],
      "source": [
        "res=[n*5 for n in range(1,16)]\n",
        "print(res)"
      ]
    },
    {
      "cell_type": "code",
      "execution_count": null,
      "metadata": {
        "id": "lrM0XIlKYKXg",
        "outputId": "39482331-843b-4022-a729-6a5e9943b82f",
        "colab": {
          "base_uri": "https://localhost:8080/"
        }
      },
      "outputs": [
        {
          "output_type": "stream",
          "name": "stdout",
          "text": [
            "[1, 1, 1, 1, 1, 1, 1, 1, 1, 1, 1, 1, 1, 1, 1, 1, 1, 1, 1, 1]\n"
          ]
        }
      ],
      "source": [
        "print([1 for _ in range (20)])"
      ]
    },
    {
      "cell_type": "code",
      "execution_count": null,
      "metadata": {
        "id": "O0RQ29gkYKXg",
        "outputId": "ea42b155-2a74-4897-fe88-9c729ee1b554",
        "colab": {
          "base_uri": "https://localhost:8080/"
        }
      },
      "outputs": [
        {
          "output_type": "stream",
          "name": "stdout",
          "text": [
            "[9, 16, 25, 64]\n"
          ]
        }
      ],
      "source": [
        "lst30=[3,4,5,8]\n",
        "res6=[i**2 for i in lst30]\n",
        "print(res6)"
      ]
    },
    {
      "cell_type": "markdown",
      "metadata": {
        "id": "iLhsM6_HYKXg"
      },
      "source": [
        "### syntax of for\n"
      ]
    },
    {
      "cell_type": "markdown",
      "metadata": {
        "id": "gdjnexa6YKXh"
      },
      "source": [
        "#### Write a program to print the even numbers between 1 and 20"
      ]
    },
    {
      "cell_type": "code",
      "execution_count": null,
      "metadata": {
        "id": "-1KHv8j9YKXh",
        "outputId": "f0eb3a49-4a2a-4f5a-ebfb-a9034ee78c05",
        "colab": {
          "base_uri": "https://localhost:8080/"
        }
      },
      "outputs": [
        {
          "output_type": "stream",
          "name": "stdout",
          "text": [
            "[2, 4, 6, 8, 10, 12, 14, 16, 18, 20]\n"
          ]
        }
      ],
      "source": [
        "evens = []\n",
        "\n",
        "for n in range(1,21):\n",
        "    if n%2 == 0:\n",
        "        evens.append(n)\n",
        "print(evens)"
      ]
    },
    {
      "cell_type": "code",
      "execution_count": null,
      "metadata": {
        "id": "xWxopVm7YKXi",
        "outputId": "0a216b91-2aa0-425c-c645-6d60e7510ec9",
        "colab": {
          "base_uri": "https://localhost:8080/"
        }
      },
      "outputs": [
        {
          "output_type": "execute_result",
          "data": {
            "text/plain": [
              "[2, 4, 6, 8, 10, 12, 14, 16, 18, 20]"
            ]
          },
          "metadata": {},
          "execution_count": 77
        }
      ],
      "source": [
        "res8=[n for n in range(1,21) if n%2==0]\n",
        "res8"
      ]
    },
    {
      "cell_type": "code",
      "execution_count": null,
      "metadata": {
        "id": "5D5PrgiGYKXi",
        "outputId": "5366f892-4183-422a-d46f-9aed5a0ddd8f",
        "colab": {
          "base_uri": "https://localhost:8080/"
        }
      },
      "outputs": [
        {
          "output_type": "execute_result",
          "data": {
            "text/plain": [
              "[100, 2, 4, 6]"
            ]
          },
          "metadata": {},
          "execution_count": 78
        }
      ],
      "source": [
        "lst40=[100,2,3,4,5,6,7]\n",
        "res9=[n for n in lst40 if n%2==0]\n",
        "res9"
      ]
    },
    {
      "cell_type": "code",
      "execution_count": null,
      "metadata": {
        "id": "oqz_T99RYKXi",
        "outputId": "a53ec34f-1e08-4786-b4b8-ade93a901690",
        "colab": {
          "base_uri": "https://localhost:8080/"
        }
      },
      "outputs": [
        {
          "output_type": "execute_result",
          "data": {
            "text/plain": [
              "[1, 4, 27, 16, 125, 36, 343, 64, 729, 100, 1331, 144, 2197, 196, 3375]"
            ]
          },
          "metadata": {},
          "execution_count": 79
        }
      ],
      "source": [
        "res10=[n**2 if n%2==0 else n**3 for n in range(1,16)]\n",
        "res10"
      ]
    },
    {
      "cell_type": "code",
      "execution_count": null,
      "metadata": {
        "id": "xJMJj1IzYKXi",
        "outputId": "8e9a0fec-bdde-402e-a982-067188483802",
        "colab": {
          "base_uri": "https://localhost:8080/"
        }
      },
      "outputs": [
        {
          "output_type": "stream",
          "name": "stdout",
          "text": [
            "['Pass', 'Pass', 'Fail', 'Pass', 'Fail']\n"
          ]
        }
      ],
      "source": [
        "grades_list=[75,80,20,100,55]\n",
        "## write list comprehision for printing if the student pass or fail\n",
        "res=['Pass' if g>=70 else 'Fail' for g in grades_list]\n",
        "print(res)"
      ]
    },
    {
      "cell_type": "markdown",
      "metadata": {
        "id": "cdLpRj1tYKXi"
      },
      "source": [
        "### Nested for"
      ]
    },
    {
      "cell_type": "code",
      "execution_count": null,
      "metadata": {
        "id": "Hx3dJAFSYKXi",
        "outputId": "8575b177-f421-46ac-a5d9-225ddf27938f",
        "colab": {
          "base_uri": "https://localhost:8080/"
        }
      },
      "outputs": [
        {
          "output_type": "stream",
          "name": "stdout",
          "text": [
            "[1, 2, 3, 4, 5, 6, 7, 8, 9]\n"
          ]
        }
      ],
      "source": [
        "# 2-D List\n",
        "matrix = [[1, 2, 3],\n",
        "          [4, 5],\n",
        "          [6, 7, 8, 9]]\n",
        "\n",
        "flatten_matrix = []\n",
        "\n",
        "for row in matrix:\n",
        "        ##print(row)\n",
        "        for r in row:\n",
        "            flatten_matrix.append(r)\n",
        "\n",
        "print(flatten_matrix)"
      ]
    },
    {
      "cell_type": "code",
      "source": [
        "#join list\n",
        "l1=[\"h1\",\"h2\"]\n",
        "l2=[4,'h3',8,.7]\n",
        "l3=l1+l2\n",
        "l3"
      ],
      "metadata": {
        "id": "NKIVAWKQeHXb",
        "colab": {
          "base_uri": "https://localhost:8080/"
        },
        "outputId": "32f9eaee-5790-4984-970a-bbb196e10452"
      },
      "execution_count": 8,
      "outputs": [
        {
          "output_type": "execute_result",
          "data": {
            "text/plain": [
              "['h1', 'h2', 4, 'h3', 8, 0.7]"
            ]
          },
          "metadata": {},
          "execution_count": 8
        }
      ]
    },
    {
      "cell_type": "code",
      "source": [
        "l1.append(l2)\n",
        "l1"
      ],
      "metadata": {
        "colab": {
          "base_uri": "https://localhost:8080/"
        },
        "id": "xSCilPpgu0Si",
        "outputId": "d7944ede-3d72-4d01-b78d-4afc243e34e5"
      },
      "execution_count": 9,
      "outputs": [
        {
          "output_type": "execute_result",
          "data": {
            "text/plain": [
              "['h1', 'h2', [4, 'h3', 8, 0.7]]"
            ]
          },
          "metadata": {},
          "execution_count": 9
        }
      ]
    },
    {
      "cell_type": "code",
      "source": [
        "l1.extend({\"t\",8})\n",
        "l1"
      ],
      "metadata": {
        "colab": {
          "base_uri": "https://localhost:8080/"
        },
        "id": "LJXgjYOEvKH5",
        "outputId": "757924ff-b5ee-46e3-efdd-48c8a4069baf"
      },
      "execution_count": 13,
      "outputs": [
        {
          "output_type": "execute_result",
          "data": {
            "text/plain": [
              "['h1', 'h2', [4, 'h3', 8, 0.7], 4, 'h3', 8, 0.7, 't', 't', 8, 8, 't']"
            ]
          },
          "metadata": {},
          "execution_count": 13
        }
      ]
    },
    {
      "cell_type": "code",
      "source": [
        "'h1' not in l1"
      ],
      "metadata": {
        "colab": {
          "base_uri": "https://localhost:8080/"
        },
        "id": "6QHknU_OvsH1",
        "outputId": "4e4cb5ad-1279-4cf6-c37b-5e420a20f76d"
      },
      "execution_count": 15,
      "outputs": [
        {
          "output_type": "execute_result",
          "data": {
            "text/plain": [
              "False"
            ]
          },
          "metadata": {},
          "execution_count": 15
        }
      ]
    },
    {
      "cell_type": "code",
      "source": [
        "l1.reverse()\n",
        "l1"
      ],
      "metadata": {
        "colab": {
          "base_uri": "https://localhost:8080/"
        },
        "id": "NlULw3YWv-hw",
        "outputId": "97a4e4eb-d67b-4d9c-e4c2-d9806b0b922f"
      },
      "execution_count": 18,
      "outputs": [
        {
          "output_type": "execute_result",
          "data": {
            "text/plain": [
              "['t', 8, 8, 't', 't', 0.7, 8, 'h3', 4, [4, 'h3', 8, 0.7], 'h2', 'h1']"
            ]
          },
          "metadata": {},
          "execution_count": 18
        }
      ]
    },
    {
      "cell_type": "code",
      "source": [
        "l2=l2[::-1]\n",
        "l2"
      ],
      "metadata": {
        "colab": {
          "base_uri": "https://localhost:8080/"
        },
        "id": "tLx1sgxhwLkn",
        "outputId": "79e69e18-a0b7-4c01-8baf-cdc853aa9901"
      },
      "execution_count": 19,
      "outputs": [
        {
          "output_type": "execute_result",
          "data": {
            "text/plain": [
              "[0.7, 8, 'h3', 4]"
            ]
          },
          "metadata": {},
          "execution_count": 19
        }
      ]
    },
    {
      "cell_type": "code",
      "source": [
        "l4=[20,5,8,4,6,0]\n",
        "l4.sort(reverse=True)\n",
        "l4"
      ],
      "metadata": {
        "colab": {
          "base_uri": "https://localhost:8080/"
        },
        "id": "-JqU3e7EwxJr",
        "outputId": "a6c8358f-86a3-466a-9279-d7ff1d3225a8"
      },
      "execution_count": 22,
      "outputs": [
        {
          "output_type": "execute_result",
          "data": {
            "text/plain": [
              "[20, 8, 6, 5, 4, 0]"
            ]
          },
          "metadata": {},
          "execution_count": 22
        }
      ]
    },
    {
      "cell_type": "code",
      "source": [
        "sorted(l4)"
      ],
      "metadata": {
        "colab": {
          "base_uri": "https://localhost:8080/"
        },
        "id": "Epy4XPXQ4fgD",
        "outputId": "f424ac77-adb9-40c1-ea05-889c9dad5ff1"
      },
      "execution_count": 23,
      "outputs": [
        {
          "output_type": "execute_result",
          "data": {
            "text/plain": [
              "[0, 4, 5, 6, 8, 20]"
            ]
          },
          "metadata": {},
          "execution_count": 23
        }
      ]
    },
    {
      "cell_type": "code",
      "source": [
        "l4"
      ],
      "metadata": {
        "colab": {
          "base_uri": "https://localhost:8080/"
        },
        "id": "VZY9Ep8v49_B",
        "outputId": "b850faa1-ee4a-49bd-8aa1-d947d8c87831"
      },
      "execution_count": 25,
      "outputs": [
        {
          "output_type": "execute_result",
          "data": {
            "text/plain": [
              "[20, 8, 6, 5, 4, 0]"
            ]
          },
          "metadata": {},
          "execution_count": 25
        }
      ]
    },
    {
      "cell_type": "code",
      "source": [
        "for i in enumerate(l4):\n",
        "  print(i)"
      ],
      "metadata": {
        "colab": {
          "base_uri": "https://localhost:8080/"
        },
        "id": "Z8qL5rSL4uKd",
        "outputId": "2e545a32-1c1b-47b4-8f6d-e6a2e29efe0d"
      },
      "execution_count": 24,
      "outputs": [
        {
          "output_type": "stream",
          "name": "stdout",
          "text": [
            "(0, 20)\n",
            "(1, 8)\n",
            "(2, 6)\n",
            "(3, 5)\n",
            "(4, 4)\n",
            "(5, 0)\n"
          ]
        }
      ]
    },
    {
      "cell_type": "code",
      "source": [
        "#all(l4)\n",
        "any(l4)"
      ],
      "metadata": {
        "colab": {
          "base_uri": "https://localhost:8080/"
        },
        "id": "IE0HdTlB5KVh",
        "outputId": "5e4e29ff-5806-4c48-df2a-8a201e4327d8"
      },
      "execution_count": 27,
      "outputs": [
        {
          "output_type": "execute_result",
          "data": {
            "text/plain": [
              "True"
            ]
          },
          "metadata": {},
          "execution_count": 27
        }
      ]
    },
    {
      "cell_type": "code",
      "source": [
        "#list comprehensions\n",
        "t=\"welcome\"\n",
        "l5=[i for i in t]\n",
        "l5"
      ],
      "metadata": {
        "colab": {
          "base_uri": "https://localhost:8080/"
        },
        "id": "EW3PXtsG5aNo",
        "outputId": "d4682c41-b542-45f8-a06f-49a7362a261e"
      },
      "execution_count": 28,
      "outputs": [
        {
          "output_type": "execute_result",
          "data": {
            "text/plain": [
              "['w', 'e', 'l', 'c', 'o', 'm', 'e']"
            ]
          },
          "metadata": {},
          "execution_count": 28
        }
      ]
    },
    {
      "cell_type": "code",
      "source": [
        "even_num=[i for i in range (40) if i%2==0 ]\n",
        "even_num"
      ],
      "metadata": {
        "colab": {
          "base_uri": "https://localhost:8080/"
        },
        "id": "NNSXRHDM5_IP",
        "outputId": "4c234568-c51c-45ac-b351-d4296d94fef2"
      },
      "execution_count": 29,
      "outputs": [
        {
          "output_type": "execute_result",
          "data": {
            "text/plain": [
              "[0, 2, 4, 6, 8, 10, 12, 14, 16, 18, 20, 22, 24, 26, 28, 30, 32, 34, 36, 38]"
            ]
          },
          "metadata": {},
          "execution_count": 29
        }
      ]
    },
    {
      "cell_type": "code",
      "source": [
        "odd_num=[ i for i in range(40) if i%2==1]\n",
        "odd_num"
      ],
      "metadata": {
        "colab": {
          "base_uri": "https://localhost:8080/"
        },
        "id": "a689yN0c6aAP",
        "outputId": "60b132a3-c94b-473f-caa1-fa5cf835798a"
      },
      "execution_count": 30,
      "outputs": [
        {
          "output_type": "execute_result",
          "data": {
            "text/plain": [
              "[1, 3, 5, 7, 9, 11, 13, 15, 17, 19, 21, 23, 25, 27, 29, 31, 33, 35, 37, 39]"
            ]
          },
          "metadata": {},
          "execution_count": 30
        }
      ]
    },
    {
      "cell_type": "code",
      "source": [
        "sqr_num=[i**2 for i in range(10)]\n",
        "sqr_num"
      ],
      "metadata": {
        "colab": {
          "base_uri": "https://localhost:8080/"
        },
        "id": "n9p_rPsu6sSB",
        "outputId": "307f40a6-b9e1-4370-82ed-7802100f6d16"
      },
      "execution_count": 31,
      "outputs": [
        {
          "output_type": "execute_result",
          "data": {
            "text/plain": [
              "[0, 1, 4, 9, 16, 25, 36, 49, 64, 81]"
            ]
          },
          "metadata": {},
          "execution_count": 31
        }
      ]
    },
    {
      "cell_type": "code",
      "source": [
        "l5=[1,5,7,8,9]\n",
        "l6=[i*10 for i in l5]\n",
        "l6"
      ],
      "metadata": {
        "colab": {
          "base_uri": "https://localhost:8080/"
        },
        "id": "-Tk4_ASG7CA8",
        "outputId": "d81253c8-7cfe-4b1b-87d5-ef5b07f99d0a"
      },
      "execution_count": 32,
      "outputs": [
        {
          "output_type": "execute_result",
          "data": {
            "text/plain": [
              "[10, 50, 70, 80, 90]"
            ]
          },
          "metadata": {},
          "execution_count": 32
        }
      ]
    },
    {
      "cell_type": "code",
      "source": [
        "l7=[i for i in range(40) if i%3==0 if i%6==0 if i%9==0]\n",
        "l7"
      ],
      "metadata": {
        "colab": {
          "base_uri": "https://localhost:8080/"
        },
        "id": "5PJOlcy27Q3K",
        "outputId": "4186401c-d867-4f54-dbe8-6f18b0382f4e"
      },
      "execution_count": 33,
      "outputs": [
        {
          "output_type": "execute_result",
          "data": {
            "text/plain": [
              "[0, 18, 36]"
            ]
          },
          "metadata": {},
          "execution_count": 33
        }
      ]
    },
    {
      "cell_type": "code",
      "source": [
        "l8=[print(\"{} is even number\".format(i)) if i%2==0 else print(\"{} is odd number\".format(i)) for i in range(10)]"
      ],
      "metadata": {
        "colab": {
          "base_uri": "https://localhost:8080/"
        },
        "id": "OxjrxqZ78ENa",
        "outputId": "1ed31252-9412-472e-e839-6049a4c30401"
      },
      "execution_count": 34,
      "outputs": [
        {
          "output_type": "stream",
          "name": "stdout",
          "text": [
            "0 is even number\n",
            "1 is odd number\n",
            "2 is even number\n",
            "3 is odd number\n",
            "4 is even number\n",
            "5 is odd number\n",
            "6 is even number\n",
            "7 is odd number\n",
            "8 is even number\n",
            "9 is odd number\n"
          ]
        }
      ]
    },
    {
      "cell_type": "code",
      "source": [
        "#extract number from string\n",
        "mystr=\"one 1 two 2 three 3 five 5 six 9864\"\n",
        "num=[i for i in mystr if i.isdigit()]\n",
        "num"
      ],
      "metadata": {
        "colab": {
          "base_uri": "https://localhost:8080/"
        },
        "id": "vAJEpn-O89i-",
        "outputId": "4546899a-92eb-4ed4-c674-602ce27158dc"
      },
      "execution_count": 38,
      "outputs": [
        {
          "output_type": "execute_result",
          "data": {
            "text/plain": [
              "['1', '2', '3', '5', '9', '8', '6', '4']"
            ]
          },
          "metadata": {},
          "execution_count": 38
        }
      ]
    },
    {
      "cell_type": "code",
      "source": [
        "num2_alpha=[i for i in mystr  if i.isalpha()]\n",
        "num2_alpha"
      ],
      "metadata": {
        "colab": {
          "base_uri": "https://localhost:8080/"
        },
        "collapsed": true,
        "id": "sgookYRG9RYv",
        "outputId": "680c977b-0cb9-4bf9-8726-3709ca2be878"
      },
      "execution_count": 39,
      "outputs": [
        {
          "output_type": "execute_result",
          "data": {
            "text/plain": [
              "['o',\n",
              " 'n',\n",
              " 'e',\n",
              " 't',\n",
              " 'w',\n",
              " 'o',\n",
              " 't',\n",
              " 'h',\n",
              " 'r',\n",
              " 'e',\n",
              " 'e',\n",
              " 'f',\n",
              " 'i',\n",
              " 'v',\n",
              " 'e',\n",
              " 's',\n",
              " 'i',\n",
              " 'x']"
            ]
          },
          "metadata": {},
          "execution_count": 39
        }
      ]
    },
    {
      "cell_type": "code",
      "source": [
        "import random\n",
        "#Plot the execution times against the input sizes.\n",
        "\"\"\"\n",
        "O(n) - Linear: If the execution time roughly doubles\n",
        "when you double the input size, the complexity is likely O(n).\n",
        "O(n^2) - Quadratic: If the execution time roughly quadruples when you double the input size,\n",
        " the complexity is likely O(n^2).\n",
        "O(log n) - Logarithmic: If the execution time increases slowly as the input size grows,\n",
        " the complexity is likely O(log n).\n",
        "\"\"\"\n",
        "def search_list(lst, target):\n",
        "  \"\"\"Searches a list for a target value.\"\"\"\n",
        "  for i, value in enumerate(lst):\n",
        "    if value == target:\n",
        "      return i  # Return index if found\n",
        "  return -1  # Return -1 if not found\n",
        "\n",
        "# Example usage with a list of 1000 random numbers:\n",
        "my_list = [i for i in range(20)]\n",
        "target = 5\n",
        "\n",
        "%timeit search_list(my_list, target)"
      ],
      "metadata": {
        "colab": {
          "base_uri": "https://localhost:8080/"
        },
        "id": "A_OoLl9w_yMS",
        "outputId": "258c0519-3866-43ce-eac4-7bc1f06a4194"
      },
      "execution_count": 51,
      "outputs": [
        {
          "output_type": "stream",
          "name": "stdout",
          "text": [
            "615 ns ± 8.68 ns per loop (mean ± std. dev. of 7 runs, 1000000 loops each)\n"
          ]
        }
      ]
    },
    {
      "cell_type": "code",
      "source": [
        "!pip install memory_profiler"
      ],
      "metadata": {
        "colab": {
          "base_uri": "https://localhost:8080/"
        },
        "collapsed": true,
        "id": "mYEtjwnOAaeC",
        "outputId": "b0f93138-9233-4354-e7a9-e38418c8e7a4"
      },
      "execution_count": 42,
      "outputs": [
        {
          "output_type": "stream",
          "name": "stdout",
          "text": [
            "Collecting memory_profiler\n",
            "  Downloading memory_profiler-0.61.0-py3-none-any.whl.metadata (20 kB)\n",
            "Requirement already satisfied: psutil in /usr/local/lib/python3.10/dist-packages (from memory_profiler) (5.9.5)\n",
            "Downloading memory_profiler-0.61.0-py3-none-any.whl (31 kB)\n",
            "Installing collected packages: memory_profiler\n",
            "Successfully installed memory_profiler-0.61.0\n"
          ]
        }
      ]
    },
    {
      "cell_type": "code",
      "source": [
        "#%%file temp_script.py\n",
        "\n",
        "from memory_profiler import profile\n",
        "\n",
        "@profile\n",
        "def my_function():\n",
        "  a = [x for x in range(10000)]\n",
        "  b = [x**2 for x in range(10000)]\n",
        "  del b  # Remove b to see memory released"
      ],
      "metadata": {
        "id": "DQWWfN6NAvDQ"
      },
      "execution_count": 48,
      "outputs": []
    },
    {
      "cell_type": "markdown",
      "source": [
        "Tuples\n",
        "1. Tuple is similar to List except that the objects in tuple are immutable which means we cannot\n",
        "change the elements of a tuple once assigned.\n",
        "2. When we do not want to change the data over time, tuple is a preferred data type.\n",
        "3. Iterating over the elements of a tuple is faster compared to iterating over a list."
      ],
      "metadata": {
        "id": "6DXhA4De-g0s"
      }
    },
    {
      "cell_type": "code",
      "source": [
        "tup7 = ('Asif', 25 ,[50, 100],[150, 50] , {'John' , 'David'} , (99,22,33))\n",
        "len(tup7)\n",
        "tup7[2][0] #indexing\n",
        "tup7[-1]\n",
        "tup7[:] #slicing\n",
        "tup7[2:5]\n",
        "#del tup7[0] # Tuples are immutable which means we can't DELETE tuple items\n",
        "#tup7[0]=1 # Tuples are immutable which means we can't CHANGE tuple items\n",
        "#del tup7  # Deleting entire tuple object is possible"
      ],
      "metadata": {
        "colab": {
          "base_uri": "https://localhost:8080/"
        },
        "id": "ps9DXb8u-ey7",
        "outputId": "0b46446f-e2f9-4774-e0ae-d8514af7cb9b"
      },
      "execution_count": 69,
      "outputs": [
        {
          "output_type": "execute_result",
          "data": {
            "text/plain": [
              "([50, 100], [150, 50], {'David', 'John'})"
            ]
          },
          "metadata": {},
          "execution_count": 69
        }
      ]
    },
    {
      "cell_type": "code",
      "source": [
        "tup7.count(25)\n",
        "mytuple2 = (43,67,99,12,6,90,67)\n",
        "mytuple2.index(99)\n",
        "#mytuple2.sort()'tuple' object has no attribute 'sort'\n",
        "sorted(mytuple2)\n",
        "sorted(mytuple2,reverse=True)"
      ],
      "metadata": {
        "colab": {
          "base_uri": "https://localhost:8080/"
        },
        "id": "1thYBDeTG2k6",
        "outputId": "4d421e68-fcfb-4f56-bf6d-a4c21e27dddb"
      },
      "execution_count": 75,
      "outputs": [
        {
          "output_type": "execute_result",
          "data": {
            "text/plain": [
              "[99, 90, 67, 67, 43, 12, 6]"
            ]
          },
          "metadata": {},
          "execution_count": 75
        }
      ]
    },
    {
      "cell_type": "markdown",
      "source": [
        "Sets\n",
        "\n",
        "1) Unordered & Unindexed collection of items.\n",
        "\n",
        "2) Set elements are unique. Duplicate elements are not allowed.\n",
        "\n",
        "3) Set elements are immutable (cannot be changed).\n",
        "\n",
        "4) Set itself is mutable. We can add or remove items from it."
      ],
      "metadata": {
        "id": "gwd6t51HIA3H"
      }
    },
    {
      "cell_type": "code",
      "source": [
        "#unhashable type: 'list',# set doesn't allow mutable items like list,set\n",
        "myset={1,2,3.7,4,5,6,7,8,9,9,\"hadeer\",(3,9,0)}\n",
        "myset\n",
        "myset1=set()\n",
        "print(type(myset1))\n",
        "myset1=set(('h','y'))\n",
        "myset1\n",
        "#Add & Remove Items\n",
        "myset1.add(('v','h','u')) # Add item to a set using add() method\n",
        "myset1.update(['v','h','u'])#Add multiple item\n",
        "myset1.remove('h') # Remove item in a set using remove(), you will get an error if the item is not there to remove\n",
        "myset1.discard('h') # Remove item in a set using discard(), no error even if the item is not there to remove\n",
        "myset1.clear() # Remove all items in a set using clear() method\n",
        "#del myset1 # Delete the set completely\n",
        "myset1"
      ],
      "metadata": {
        "colab": {
          "base_uri": "https://localhost:8080/"
        },
        "collapsed": true,
        "id": "iAB1Qq88ICwm",
        "outputId": "7840641f-484c-418d-b16f-8f39aca53022"
      },
      "execution_count": 101,
      "outputs": [
        {
          "output_type": "stream",
          "name": "stdout",
          "text": [
            "<class 'set'>\n"
          ]
        },
        {
          "output_type": "execute_result",
          "data": {
            "text/plain": [
              "set()"
            ]
          },
          "metadata": {},
          "execution_count": 101
        }
      ]
    },
    {
      "cell_type": "markdown",
      "source": [
        "Dictionary\n",
        "\n",
        "   1-Dictionary is a mutable data type in Python.\n",
        "\n",
        "  2-A python dictionary is a collection of key and value pairs separated by a colon (:) & enclosed in curly braces {}.\n",
        "\n",
        "  3-Keys must be unique in a dictionary, duplicate values are allowed.\n"
      ],
      "metadata": {
        "id": "shT7tAjJQZks"
      }
    },
    {
      "cell_type": "code",
      "source": [
        "mydict=dict()\n",
        "mydict1={}"
      ],
      "metadata": {
        "id": "X-jcXfMdQYqz"
      },
      "execution_count": 102,
      "outputs": []
    },
    {
      "cell_type": "code",
      "source": [
        "mydict1={1:'a',2:'b',3:'c'}\n",
        "mydict1"
      ],
      "metadata": {
        "colab": {
          "base_uri": "https://localhost:8080/"
        },
        "id": "Buh5f_v5QY3h",
        "outputId": "f15dd29c-e3bf-4d96-ffb4-0c268b0cee2f"
      },
      "execution_count": 103,
      "outputs": [
        {
          "output_type": "execute_result",
          "data": {
            "text/plain": [
              "{1: 'a', 2: 'b', 3: 'c'}"
            ]
          },
          "metadata": {},
          "execution_count": 103
        }
      ]
    },
    {
      "cell_type": "code",
      "source": [
        "mydict=dict({1:'one' , 2:'two' , 3:'three'})\n",
        "mydict"
      ],
      "metadata": {
        "colab": {
          "base_uri": "https://localhost:8080/"
        },
        "id": "ig-qRh56Re-B",
        "outputId": "264ed557-b6b9-4928-fc4e-fe411dc1b380"
      },
      "execution_count": 104,
      "outputs": [
        {
          "output_type": "execute_result",
          "data": {
            "text/plain": [
              "{1: 'one', 2: 'two', 3: 'three'}"
            ]
          },
          "metadata": {},
          "execution_count": 104
        }
      ]
    },
    {
      "cell_type": "code",
      "source": [
        "mydict2={1:'one','A':'two',3:'three'} # dictionary with mixed keys\n",
        "mydict2.keys()  # Return Dictionary Keys using keys() method\n",
        "mydict2.values() # Return Dictionary Values using values() method\n",
        "mydict2.items()# Access each key-value pair within a dictionary"
      ],
      "metadata": {
        "colab": {
          "base_uri": "https://localhost:8080/"
        },
        "id": "S9To_edJRfMM",
        "outputId": "b30ea9af-7930-44a2-c538-956e4dab91e1"
      },
      "execution_count": 107,
      "outputs": [
        {
          "output_type": "execute_result",
          "data": {
            "text/plain": [
              "dict_items([(1, 'one'), ('A', 'two'), (3, 'three')])"
            ]
          },
          "metadata": {},
          "execution_count": 107
        }
      ]
    },
    {
      "cell_type": "code",
      "source": [
        "mydict3={1:'one' , 2:'two' , 'A':{'asif' , 'john' , 'Maria'}}\n",
        "mydict3['A']"
      ],
      "metadata": {
        "colab": {
          "base_uri": "https://localhost:8080/"
        },
        "id": "LiI-KgWiSisb",
        "outputId": "d15cca8b-6a55-4b9c-9e0b-a021ac36654e"
      },
      "execution_count": 110,
      "outputs": [
        {
          "output_type": "execute_result",
          "data": {
            "text/plain": [
              "{'Maria', 'asif', 'john'}"
            ]
          },
          "metadata": {},
          "execution_count": 110
        }
      ]
    },
    {
      "cell_type": "code",
      "source": [
        "mydict4 = {1:'one' , 2:'two' , 'A':{'Name':'asif' , 'Age' :20}, 'B': ('Bat', 'cat', 'hat')}\n",
        "mydict4['A']['Name']"
      ],
      "metadata": {
        "colab": {
          "base_uri": "https://localhost:8080/",
          "height": 36
        },
        "id": "b4hJKn2vTAkk",
        "outputId": "54095613-044f-4d52-9917-7e3dfa4e72bc"
      },
      "execution_count": 111,
      "outputs": [
        {
          "output_type": "execute_result",
          "data": {
            "text/plain": [
              "'asif'"
            ],
            "application/vnd.google.colaboratory.intrinsic+json": {
              "type": "string"
            }
          },
          "metadata": {},
          "execution_count": 111
        }
      ]
    },
    {
      "cell_type": "code",
      "source": [
        "keys={'a','b','c','d'}\n",
        "value=[10,20,30]\n",
        "mydict5=dict.fromkeys(keys,value)\n",
        "mydict5"
      ],
      "metadata": {
        "colab": {
          "base_uri": "https://localhost:8080/"
        },
        "id": "zw5Hy9h-TjKA",
        "outputId": "9560bc00-723d-4cd3-9325-bbc526e7c8f0"
      },
      "execution_count": 113,
      "outputs": [
        {
          "output_type": "execute_result",
          "data": {
            "text/plain": [
              "{'d': [10, 20, 30], 'a': [10, 20, 30], 'c': [10, 20, 30], 'b': [10, 20, 30]}"
            ]
          },
          "metadata": {},
          "execution_count": 113
        }
      ]
    },
    {
      "cell_type": "code",
      "source": [
        "value.append(40)\n",
        "mydict5"
      ],
      "metadata": {
        "colab": {
          "base_uri": "https://localhost:8080/"
        },
        "id": "re-rbneyT6uk",
        "outputId": "ed62fae8-06e9-4983-bcd2-dcfffb44a3c0"
      },
      "execution_count": 114,
      "outputs": [
        {
          "output_type": "execute_result",
          "data": {
            "text/plain": [
              "{'d': [10, 20, 30, 40],\n",
              " 'a': [10, 20, 30, 40],\n",
              " 'c': [10, 20, 30, 40],\n",
              " 'b': [10, 20, 30, 40]}"
            ]
          },
          "metadata": {},
          "execution_count": 114
        }
      ]
    },
    {
      "cell_type": "code",
      "source": [
        "#Accessing Items\n",
        "mydict = {1:'one' , 2:'two' , 3:'three' , 4:'four'}\n",
        "mydict[1]      # Access item using key\n",
        "mydict.get(2)  # Access item using get() method\n",
        "#Add, Remove & Change Items\n",
        "mydict1 = {'Name':'Asif' , 'ID': 12345 , 'DOB': 1991 , 'Address' : 'Hilsinki'}\n",
        "mydict1['DbB'] = 1992 # Changing Dictionary Items\n",
        "mydict1\n"
      ],
      "metadata": {
        "colab": {
          "base_uri": "https://localhost:8080/"
        },
        "id": "ApFwuXlhT64k",
        "outputId": "9f66fe84-eff5-4a4a-f6cc-370ca17b86c3"
      },
      "execution_count": 125,
      "outputs": [
        {
          "output_type": "execute_result",
          "data": {
            "text/plain": [
              "{'Name': 'Asif', 'ID': 12345, 'DOB': 1991, 'Address': 'Hilsinki', 'DbB': 1992}"
            ]
          },
          "metadata": {},
          "execution_count": 125
        }
      ]
    },
    {
      "cell_type": "code",
      "source": [
        "dict1 = {'DOB':1995}\n",
        "mydict1.update(dict1)\n",
        "mydict1\n"
      ],
      "metadata": {
        "colab": {
          "base_uri": "https://localhost:8080/"
        },
        "id": "Goeg6PQcT7BM",
        "outputId": "0ff3f4c3-1127-4bd5-9abe-fde07697993d"
      },
      "execution_count": 126,
      "outputs": [
        {
          "output_type": "execute_result",
          "data": {
            "text/plain": [
              "{'Name': 'Asif', 'ID': 12345, 'DOB': 1995, 'Address': 'Hilsinki', 'DbB': 1992}"
            ]
          },
          "metadata": {},
          "execution_count": 126
        }
      ]
    },
    {
      "cell_type": "code",
      "source": [
        "mydict1.pop('DbB')# Removing items in the dictionary using Pop method\n",
        "mydict1"
      ],
      "metadata": {
        "colab": {
          "base_uri": "https://localhost:8080/"
        },
        "id": "XDkkb2TdT7Ed",
        "outputId": "9b9ece0c-f8d9-40bd-843a-fe3841572f68"
      },
      "execution_count": 127,
      "outputs": [
        {
          "output_type": "execute_result",
          "data": {
            "text/plain": [
              "{'Name': 'Asif', 'ID': 12345, 'DOB': 1995, 'Address': 'Hilsinki'}"
            ]
          },
          "metadata": {},
          "execution_count": 127
        }
      ]
    },
    {
      "cell_type": "code",
      "source": [
        "mydict1.popitem() # A random item is removed\n"
      ],
      "metadata": {
        "colab": {
          "base_uri": "https://localhost:8080/"
        },
        "id": "_ixXN8MST7Hk",
        "outputId": "62fe5224-fd66-4b7a-84fd-237cc61e752b"
      },
      "execution_count": 128,
      "outputs": [
        {
          "output_type": "execute_result",
          "data": {
            "text/plain": [
              "('Address', 'Hilsinki')"
            ]
          },
          "metadata": {},
          "execution_count": 128
        }
      ]
    },
    {
      "cell_type": "code",
      "source": [
        "mydict1"
      ],
      "metadata": {
        "colab": {
          "base_uri": "https://localhost:8080/"
        },
        "id": "4Xj2aNvvT7K1",
        "outputId": "da3fd5e4-914f-4772-85ec-02b5e73737b0"
      },
      "execution_count": 129,
      "outputs": [
        {
          "output_type": "execute_result",
          "data": {
            "text/plain": [
              "{'Name': 'Asif', 'ID': 12345, 'DOB': 1995}"
            ]
          },
          "metadata": {},
          "execution_count": 129
        }
      ]
    },
    {
      "cell_type": "code",
      "source": [
        "del[mydict1['ID']] # Removing item using del method\n",
        "mydict1\n"
      ],
      "metadata": {
        "colab": {
          "base_uri": "https://localhost:8080/"
        },
        "id": "ZxKxTXV7T7Nd",
        "outputId": "8598a0b6-775d-456e-cc25-b22812138f98"
      },
      "execution_count": 130,
      "outputs": [
        {
          "output_type": "execute_result",
          "data": {
            "text/plain": [
              "{'Name': 'Asif', 'DOB': 1995}"
            ]
          },
          "metadata": {},
          "execution_count": 130
        }
      ]
    },
    {
      "cell_type": "code",
      "source": [
        "mydict1.clear() # Delete all items of the dictionary using clear method\n",
        "mydict1\n"
      ],
      "metadata": {
        "colab": {
          "base_uri": "https://localhost:8080/"
        },
        "id": "Du-T1LU1T7Qx",
        "outputId": "e452335d-c8f7-4d91-fdfb-29aeb89291d0"
      },
      "execution_count": 131,
      "outputs": [
        {
          "output_type": "execute_result",
          "data": {
            "text/plain": [
              "{}"
            ]
          },
          "metadata": {},
          "execution_count": 131
        }
      ]
    },
    {
      "cell_type": "code",
      "source": [
        "#Loop through a Dictionary\n",
        "mydict1 = {'Name':'Asif' , 'ID': 12345 , 'DOB': 1991 , 'Address': 'Hilsinki',\n",
        " 'Job': 'Analyst'}\n",
        "\n",
        "mydict1"
      ],
      "metadata": {
        "colab": {
          "base_uri": "https://localhost:8080/"
        },
        "id": "fqOS27VZWCYL",
        "outputId": "17278393-c875-4b7f-9462-5516a8c8a1a0"
      },
      "execution_count": 134,
      "outputs": [
        {
          "output_type": "execute_result",
          "data": {
            "text/plain": [
              "{'Name': 'Asif',\n",
              " 'ID': 12345,\n",
              " 'DOB': 1991,\n",
              " 'Address': 'Hilsinki',\n",
              " 'Job': 'Analyst'}"
            ]
          },
          "metadata": {},
          "execution_count": 134
        }
      ]
    },
    {
      "cell_type": "code",
      "source": [
        "for i in mydict1:\n",
        "  print(i,\":\",mydict1[i])"
      ],
      "metadata": {
        "colab": {
          "base_uri": "https://localhost:8080/"
        },
        "id": "YXamzSSjWCim",
        "outputId": "01173450-8141-4624-9dd8-0c3659516d38"
      },
      "execution_count": 136,
      "outputs": [
        {
          "output_type": "stream",
          "name": "stdout",
          "text": [
            "Name : Asif\n",
            "ID : 12345\n",
            "DOB : 1991\n",
            "Address : Hilsinki\n",
            "Job : Analyst\n"
          ]
        }
      ]
    },
    {
      "cell_type": "code",
      "source": [
        "#Dictionary Membership\n",
        "'Name' in mydict1# Membership test can be only done for keys.\n",
        "'Asif' in mydict1 # not check on values\n",
        "#All / Any also check on keys\n",
        "mydict1[0] = 'test1'\n",
        "all(mydict1)\n",
        "mydict1\n",
        "any(mydict1)"
      ],
      "metadata": {
        "colab": {
          "base_uri": "https://localhost:8080/"
        },
        "id": "xYl_J8kuW3YK",
        "outputId": "28b0a6d7-e1f7-43ac-a8c3-21db58b55d13"
      },
      "execution_count": 142,
      "outputs": [
        {
          "output_type": "execute_result",
          "data": {
            "text/plain": [
              "True"
            ]
          },
          "metadata": {},
          "execution_count": 142
        }
      ]
    },
    {
      "cell_type": "code",
      "source": [
        "#Dictionary Comprehension\n",
        "mydict={i:i*2 for i in range(10)}\n",
        "mydict"
      ],
      "metadata": {
        "colab": {
          "base_uri": "https://localhost:8080/"
        },
        "id": "E377PgL3X5dB",
        "outputId": "ebca3d73-c4bd-47fd-fe64-0b4504ee2459"
      },
      "execution_count": 144,
      "outputs": [
        {
          "output_type": "execute_result",
          "data": {
            "text/plain": [
              "{0: 0, 1: 2, 2: 4, 3: 6, 4: 8, 5: 10, 6: 12, 7: 14, 8: 16, 9: 18}"
            ]
          },
          "metadata": {},
          "execution_count": 144
        }
      ]
    },
    {
      "cell_type": "code",
      "source": [
        "key=['one','two','three','four']\n",
        "value=[1,2,3,4]\n",
        "mydic3={k:v   for (k,v)in zip(key,value)}\n",
        "mydic3"
      ],
      "metadata": {
        "colab": {
          "base_uri": "https://localhost:8080/"
        },
        "id": "qFaTgGQDYZTq",
        "outputId": "071944c4-e363-4914-e29f-dda1abe8a07a"
      },
      "execution_count": 145,
      "outputs": [
        {
          "output_type": "execute_result",
          "data": {
            "text/plain": [
              "{'one': 1, 'two': 2, 'three': 3, 'four': 4}"
            ]
          },
          "metadata": {},
          "execution_count": 145
        }
      ]
    },
    {
      "cell_type": "code",
      "source": [
        "mystr='hello'\n",
        "mydict4={k:v for k,v in enumerate(mystr)}\n",
        "mydict4"
      ],
      "metadata": {
        "colab": {
          "base_uri": "https://localhost:8080/"
        },
        "id": "-o9gRVW0YZhQ",
        "outputId": "8180b168-a477-46d0-c25c-45776ccabf4e"
      },
      "execution_count": 146,
      "outputs": [
        {
          "output_type": "execute_result",
          "data": {
            "text/plain": [
              "{0: 'h', 1: 'e', 2: 'l', 3: 'l', 4: 'o'}"
            ]
          },
          "metadata": {},
          "execution_count": 146
        }
      ]
    },
    {
      "cell_type": "code",
      "source": [
        "#Word Frequency using dictionary\n",
        "mystr4 = \"one two three four one two two three five five six seven six seven one\"\n"
      ],
      "metadata": {
        "id": "2Un71SvYYZtb"
      },
      "execution_count": 148,
      "outputs": []
    },
    {
      "cell_type": "code",
      "source": [
        "mystr4.count(\"one\")"
      ],
      "metadata": {
        "colab": {
          "base_uri": "https://localhost:8080/"
        },
        "id": "FInjUq9ObhLx",
        "outputId": "c2b32cdc-28f8-498d-ee51-4294a9c52181"
      },
      "execution_count": 150,
      "outputs": [
        {
          "output_type": "execute_result",
          "data": {
            "text/plain": [
              "3"
            ]
          },
          "metadata": {},
          "execution_count": 150
        }
      ]
    },
    {
      "cell_type": "code",
      "source": [
        "mystr5=mystr4.split()\n",
        "len(mystr5)"
      ],
      "metadata": {
        "colab": {
          "base_uri": "https://localhost:8080/"
        },
        "id": "4gh2QkCPatK9",
        "outputId": "f893fea0-de15-44f4-e595-acfd216ce24c"
      },
      "execution_count": 157,
      "outputs": [
        {
          "output_type": "execute_result",
          "data": {
            "text/plain": [
              "15"
            ]
          },
          "metadata": {},
          "execution_count": 157
        }
      ]
    },
    {
      "cell_type": "code",
      "source": [
        "mydict5={}\n",
        "for i in mystr5:\n",
        "  if i not in mydict5:\n",
        "    mydict5[i]=mystr5.count(i)\n",
        ""
      ],
      "metadata": {
        "id": "UgRGkQC9bQIX"
      },
      "execution_count": 151,
      "outputs": []
    },
    {
      "cell_type": "code",
      "source": [
        "mydict5"
      ],
      "metadata": {
        "colab": {
          "base_uri": "https://localhost:8080/"
        },
        "id": "TMLJjOhgbQV8",
        "outputId": "459df393-c9a7-4c7b-82ec-f1ed187eb424"
      },
      "execution_count": 152,
      "outputs": [
        {
          "output_type": "execute_result",
          "data": {
            "text/plain": [
              "{'one': 3, 'two': 3, 'three': 2, 'four': 1, 'five': 2, 'six': 2, 'seven': 2}"
            ]
          },
          "metadata": {},
          "execution_count": 152
        }
      ]
    },
    {
      "cell_type": "code",
      "source": [
        "myset5=set(mystr5) # to get unique values\n",
        "myset5"
      ],
      "metadata": {
        "colab": {
          "base_uri": "https://localhost:8080/"
        },
        "id": "b2Ub-5fGd-rB",
        "outputId": "bcb743de-cb3a-42eb-a9e0-70ef8b464602"
      },
      "execution_count": 153,
      "outputs": [
        {
          "output_type": "execute_result",
          "data": {
            "text/plain": [
              "{'five', 'four', 'one', 'seven', 'six', 'three', 'two'}"
            ]
          },
          "metadata": {},
          "execution_count": 153
        }
      ]
    },
    {
      "cell_type": "code",
      "source": [
        "#convert set to list to make it felixable  and indexing\n",
        "mylist5=list(myset5)\n",
        "mylist5"
      ],
      "metadata": {
        "colab": {
          "base_uri": "https://localhost:8080/"
        },
        "id": "rlIMv8rpd-97",
        "outputId": "178bd0f9-cdef-47e6-8cc2-c4439b9536ce"
      },
      "execution_count": 154,
      "outputs": [
        {
          "output_type": "execute_result",
          "data": {
            "text/plain": [
              "['five', 'six', 'seven', 'one', 'two', 'three', 'four']"
            ]
          },
          "metadata": {},
          "execution_count": 154
        }
      ]
    },
    {
      "cell_type": "code",
      "source": [
        "count=[0]*len(mylist5)\n",
        "for i in range (len(mylist5)):\n",
        "  for j in range(len( mystr5)):\n",
        "    if mylist5[i]==  mystr5[j]:\n",
        "      count[i]+=1\n",
        "    #print(\"value {} repited {} times in string in every iterate {}\".format(mylist5[i],count[i],j))\n",
        "  mydict5[mylist5[i]]=count[i]\n",
        "mydict5"
      ],
      "metadata": {
        "colab": {
          "base_uri": "https://localhost:8080/"
        },
        "id": "9zY6729fevmB",
        "outputId": "66eb76ae-10e1-41ea-bbb8-0bc320d6d737"
      },
      "execution_count": 158,
      "outputs": [
        {
          "output_type": "execute_result",
          "data": {
            "text/plain": [
              "{'one': 3, 'two': 3, 'three': 2, 'four': 1, 'five': 2, 'six': 2, 'seven': 2}"
            ]
          },
          "metadata": {},
          "execution_count": 158
        }
      ]
    },
    {
      "cell_type": "code",
      "source": [],
      "metadata": {
        "id": "_Habg900ev0f"
      },
      "execution_count": null,
      "outputs": []
    },
    {
      "cell_type": "markdown",
      "source": [
        "**Functions**\n",
        "\n",
        "  1-A function is a block of organized\n",
        "   code written to carry out a specified task.\n",
        "\n",
        "  2-Functions help break our program into smaller and modular chunks for better readability.\n",
        "\n",
        "  3-Information can be passed into a     function as arguments.\n",
        "\n",
        "  4-Parameters are specified after the\n",
        "   function name inside the parentheses.\n",
        "\n",
        "  5-We can add as many parameters as we\n",
        "   want. Parameters must be separated with a comma.\n",
        "  6- A function may or may not return data.\n",
        "  7- In Python a function is defined using the def keyword\n",
        "  \n",
        "**Parameter VS Argument**\n",
        "\n",
        "A parameter is the variable listed inside the parentheses in the function definition.\n",
        "An argument is the value that is sent to the function when it is called.\n",
        "\n",
        " ***Types of fuctions in python ***\n",
        "\n",
        "\n",
        "1-Built-in function :- Python predefined functions that are readily available for use like min() ,max() , sum() , print() etc.\n",
        "\n",
        "2-User-Defined Functions:- Function that we define ourselves to perform a specific task.\n",
        "\n",
        "3-Anonymous functions : Function that is defined without a name. Anonymous functions are also called as lambda functions. They are not declared with the def keyword.\n"
      ],
      "metadata": {
        "id": "Xrw_LeiXirEf"
      }
    },
    {
      "cell_type": "code",
      "source": [
        "def square (n):\n",
        "  n=n*n\n",
        "  return n\n",
        "square(10)"
      ],
      "metadata": {
        "colab": {
          "base_uri": "https://localhost:8080/"
        },
        "id": "9VQbe0oTkae4",
        "outputId": "0485fcab-34ad-4953-96cf-795b4dc6c595"
      },
      "execution_count": 159,
      "outputs": [
        {
          "output_type": "execute_result",
          "data": {
            "text/plain": [
              "100"
            ]
          },
          "metadata": {},
          "execution_count": 159
        }
      ]
    },
    {
      "cell_type": "code",
      "source": [
        "def odd_even (num):\n",
        "  \"\"\" This function will check whether a number is even or odd\"\"\"\n",
        "  if num%2==0:\n",
        "    print(num,'is even number')\n",
        "  else:\n",
        "    print(num,'is odd number')\n",
        "\n",
        "odd_even (2)\n",
        "odd_even (5)\n",
        "print(odd_even.__doc__)"
      ],
      "metadata": {
        "colab": {
          "base_uri": "https://localhost:8080/"
        },
        "id": "FT0cVAR2ev99",
        "outputId": "009e4ac2-dfae-40d5-836f-6dcf0efdeed2"
      },
      "execution_count": 163,
      "outputs": [
        {
          "output_type": "stream",
          "name": "stdout",
          "text": [
            "2 is even number\n",
            "5 is odd number\n",
            " This function will check whether a number is even or odd\n"
          ]
        }
      ]
    },
    {
      "cell_type": "code",
      "source": [
        "def myfunc(city = 'Mumbai'):\n",
        " print('Most Populous City :- ', city)\n",
        "\n",
        "myfunc() # When a function is called without an argument it will use default value"
      ],
      "metadata": {
        "colab": {
          "base_uri": "https://localhost:8080/"
        },
        "id": "QUMXze_zewJg",
        "outputId": "6dee70a0-a119-431b-f9e3-943053eede7e"
      },
      "execution_count": 164,
      "outputs": [
        {
          "output_type": "stream",
          "name": "stdout",
          "text": [
            "Most Populous City :-  Mumbai\n"
          ]
        }
      ]
    },
    {
      "cell_type": "code",
      "source": [
        "var=100 # variable with global scope\n",
        "def myfun():\n",
        "  var=10 # variable with local scope\n",
        "  print(var)\n",
        "myfun()\n",
        "print(var)"
      ],
      "metadata": {
        "colab": {
          "base_uri": "https://localhost:8080/"
        },
        "id": "H17z5TWKmib3",
        "outputId": "0930784a-e31c-49fe-faa4-5dfee062388a"
      },
      "execution_count": 168,
      "outputs": [
        {
          "output_type": "stream",
          "name": "stdout",
          "text": [
            "10\n",
            "100\n"
          ]
        }
      ]
    },
    {
      "cell_type": "code",
      "source": [
        "def swap (a,b):\n",
        "  temp=a\n",
        "  a=b\n",
        "  b=temp\n",
        "  return a,b\n",
        "\n",
        "a=10 ; b=20\n",
        "r=swap(a,b)\n",
        "\n",
        "\n"
      ],
      "metadata": {
        "colab": {
          "base_uri": "https://localhost:8080/"
        },
        "id": "C9jaSr5Tmip4",
        "outputId": "73955273-ee75-40ab-bcb5-41f3a1674ae6"
      },
      "execution_count": 173,
      "outputs": [
        {
          "output_type": "execute_result",
          "data": {
            "text/plain": [
              "(10, 20)"
            ]
          },
          "metadata": {},
          "execution_count": 173
        }
      ]
    },
    {
      "cell_type": "code",
      "source": [
        "# Calculate factorial of a number using recursive function\n",
        "def frac (num):\n",
        "  if num <=1:\n",
        "    return 1\n",
        "  else:\n",
        "    return num* frac(num-1)\n",
        "\n",
        "frac(4)"
      ],
      "metadata": {
        "colab": {
          "base_uri": "https://localhost:8080/"
        },
        "id": "9shZo8y3opL3",
        "outputId": "edfdf160-2c8e-4059-a5a5-d6288b9da962"
      },
      "execution_count": 174,
      "outputs": [
        {
          "output_type": "execute_result",
          "data": {
            "text/plain": [
              "24"
            ]
          },
          "metadata": {},
          "execution_count": 174
        }
      ]
    },
    {
      "cell_type": "code",
      "source": [
        "# Sum of first n natural numbers\n",
        "def add(num):\n",
        "  if num ==0:\n",
        "    return 0\n",
        "  else:\n",
        "    return num+add(num-1)\n",
        "\n",
        "add(5)"
      ],
      "metadata": {
        "colab": {
          "base_uri": "https://localhost:8080/"
        },
        "id": "D7_UNTajpcDW",
        "outputId": "3d43e30e-a56c-43fc-96df-6263f1bb5cbf"
      },
      "execution_count": 175,
      "outputs": [
        {
          "output_type": "execute_result",
          "data": {
            "text/plain": [
              "15"
            ]
          },
          "metadata": {},
          "execution_count": 175
        }
      ]
    },
    {
      "cell_type": "code",
      "source": [
        "def fiboacci(num):\n",
        "  if num <= 1:\n",
        "     return num\n",
        "  if num == 2:\n",
        "     return 1\n",
        "  else:\n",
        "     return(fiboacci(num-1) + fiboacci(num-2))\n",
        "\n",
        "nums = int(input(\"How many fibonacci numbers you want to generate -\"))\n",
        "for i in range(nums):\n",
        " print(fiboacci(i)) # Generate Fibonacci series"
      ],
      "metadata": {
        "colab": {
          "base_uri": "https://localhost:8080/"
        },
        "collapsed": true,
        "id": "B6I3xmT6pxgw",
        "outputId": "a1fee286-7e63-48a2-bcac-e7d2100302b9"
      },
      "execution_count": 178,
      "outputs": [
        {
          "output_type": "stream",
          "name": "stdout",
          "text": [
            "How many fibonacci numbers you want to generate -10\n",
            "0\n",
            "1\n",
            "1\n",
            "2\n",
            "3\n",
            "5\n",
            "8\n",
            "13\n",
            "21\n",
            "34\n"
          ]
        }
      ]
    },
    {
      "cell_type": "code",
      "source": [],
      "metadata": {
        "id": "Vpd26ygzr-TP"
      },
      "execution_count": null,
      "outputs": []
    }
  ],
  "metadata": {
    "kernelspec": {
      "display_name": "Python 3",
      "language": "python",
      "name": "python3"
    },
    "language_info": {
      "codemirror_mode": {
        "name": "ipython",
        "version": 3
      },
      "file_extension": ".py",
      "mimetype": "text/x-python",
      "name": "python",
      "nbconvert_exporter": "python",
      "pygments_lexer": "ipython3",
      "version": "3.8.5"
    },
    "colab": {
      "provenance": [],
      "include_colab_link": true
    }
  },
  "nbformat": 4,
  "nbformat_minor": 0
}