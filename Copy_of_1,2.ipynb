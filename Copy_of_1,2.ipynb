{
  "cells": [
    {
      "cell_type": "markdown",
      "metadata": {
        "id": "view-in-github",
        "colab_type": "text"
      },
      "source": [
        "<a href=\"https://colab.research.google.com/github/Hadeer-Youssef/Problem-Solving/blob/main/Copy_of_1%2C2.ipynb\" target=\"_parent\"><img src=\"https://colab.research.google.com/assets/colab-badge.svg\" alt=\"Open In Colab\"/></a>"
      ]
    },
    {
      "cell_type": "markdown",
      "metadata": {
        "id": "kdIN7h4sU_2N"
      },
      "source": [
        "### Installing Python Packages from a Jupyter Notebook"
      ]
    },
    {
      "cell_type": "markdown",
      "metadata": {
        "id": "6i7pFSv8U_2P"
      },
      "source": [
        " !pip install **packageName** <br>\n",
        " !conda install **packageName**"
      ]
    },
    {
      "cell_type": "code",
      "execution_count": null,
      "metadata": {
        "id": "teJ6Z9HVU_2Q",
        "outputId": "822e869a-fca4-44cb-f1d2-447605a0a978",
        "colab": {
          "base_uri": "https://localhost:8080/"
        }
      },
      "outputs": [
        {
          "output_type": "stream",
          "name": "stdout",
          "text": [
            "Requirement already satisfied: numpy in /usr/local/lib/python3.10/dist-packages (1.26.4)\n"
          ]
        }
      ],
      "source": [
        "!pip install numpy"
      ]
    },
    {
      "cell_type": "markdown",
      "metadata": {
        "id": "F01cqjcSU_2R"
      },
      "source": [
        "### pip vs conda"
      ]
    },
    {
      "cell_type": "markdown",
      "metadata": {
        "id": "GBah1V0tU_2R"
      },
      "source": [
        "* pip installs python packages in any environment.\n",
        "* conda installs any package in conda environments."
      ]
    },
    {
      "cell_type": "markdown",
      "metadata": {
        "id": "5pM5WTY0U_2S"
      },
      "source": [
        "### Hello World: Creat your First Python Program"
      ]
    },
    {
      "cell_type": "code",
      "execution_count": null,
      "metadata": {
        "id": "5L_X67HcU_2S",
        "outputId": "04e19f61-3a7a-4495-affe-708a147f4759",
        "colab": {
          "base_uri": "https://localhost:8080/"
        }
      },
      "outputs": [
        {
          "output_type": "stream",
          "name": "stdout",
          "text": [
            "Welcome to first lecture\n",
            "It is a great course\n"
          ]
        }
      ],
      "source": [
        "print(\"Welcome to first lecture\")\n",
        "print('It is a great course')"
      ]
    },
    {
      "cell_type": "code",
      "execution_count": null,
      "metadata": {
        "id": "WUDqioRCU_2S",
        "outputId": "8bff05d0-d303-4567-f688-4ad9b63461db",
        "colab": {
          "base_uri": "https://localhost:8080/"
        }
      },
      "outputs": [
        {
          "output_type": "stream",
          "name": "stdout",
          "text": [
            "10\n",
            "3.4\n"
          ]
        }
      ],
      "source": [
        "## print numbers\n",
        "print(10)\n",
        "print(3.4)   # floating point number"
      ]
    },
    {
      "cell_type": "code",
      "source": [
        "x=11\n",
        "x=x%10\n",
        "\n",
        "print(x)\n"
      ],
      "metadata": {
        "colab": {
          "base_uri": "https://localhost:8080/"
        },
        "id": "6MO5GLokyBoC",
        "outputId": "1ab58783-46cc-427f-a700-39b98a77954f"
      },
      "execution_count": null,
      "outputs": [
        {
          "output_type": "stream",
          "name": "stdout",
          "text": [
            "1\n"
          ]
        }
      ]
    },
    {
      "cell_type": "code",
      "source": [
        "x=\"11\"\n",
        "if x[0]==x[1]:\n",
        "    print(\"equal\")\n",
        "else:\n",
        "    print(\"not equal\")\n",
        "\n"
      ],
      "metadata": {
        "colab": {
          "base_uri": "https://localhost:8080/"
        },
        "id": "ueGf4RpIxMvN",
        "outputId": "2912abcc-33f0-418b-8013-923c075b14d9"
      },
      "execution_count": null,
      "outputs": [
        {
          "output_type": "stream",
          "name": "stdout",
          "text": [
            "equal\n"
          ]
        }
      ]
    },
    {
      "cell_type": "markdown",
      "metadata": {
        "id": "ZAo_CyqVU_2T"
      },
      "source": [
        "## Creating variables and assigning values\n",
        "A variable is a name that refers to a value.\n",
        "\n",
        "__To create a variable in Python, all you need to do is specify the variable name, and then assign a value to it.\n",
        "<variable name> = <value>__"
      ]
    },
    {
      "cell_type": "code",
      "execution_count": null,
      "metadata": {
        "id": "FyvqsK9NU_2T"
      },
      "outputs": [],
      "source": [
        "# integer\n",
        "number=10\n",
        "\n",
        "# float\n",
        "number2=10.5\n",
        "number3=0.5\n",
        "\n",
        "# string\n",
        "strVar='Maha'\n",
        "\n",
        "# boolean\n",
        "passing=False\n",
        "flag2=True\n",
        "\n",
        "# Empty value or null data type\n",
        "none_var=None   # null"
      ]
    },
    {
      "cell_type": "code",
      "execution_count": null,
      "metadata": {
        "id": "nVw-6Wm5U_2T",
        "outputId": "57510bdf-e98a-4e57-cac3-57c9a46a659d",
        "colab": {
          "base_uri": "https://localhost:8080/"
        }
      },
      "outputs": [
        {
          "output_type": "stream",
          "name": "stdout",
          "text": [
            "<class 'int'>\n",
            "<class 'str'>\n",
            "<class 'bool'>\n",
            "<class 'float'>\n"
          ]
        }
      ],
      "source": [
        "name=\"Norah\"\n",
        "age=26\n",
        "flag=False\n",
        "number=5.5\n",
        "\n",
        "print(type(age))\n",
        "print(type(name))\n",
        "print(type(flag))\n",
        "print(type(number))"
      ]
    },
    {
      "cell_type": "code",
      "execution_count": null,
      "metadata": {
        "id": "dNiIn2o8U_2T",
        "outputId": "8f67c911-f81e-43d4-bf99-e83531c412b5",
        "colab": {
          "base_uri": "https://localhost:8080/"
        }
      },
      "outputs": [
        {
          "output_type": "stream",
          "name": "stdout",
          "text": [
            "hello world lamma\n",
            "hello world lamma\n"
          ]
        }
      ],
      "source": [
        "print(\"hello\", \"world\", \"lamma\")\n",
        "print(\"hello world lamma\")"
      ]
    },
    {
      "cell_type": "code",
      "execution_count": null,
      "metadata": {
        "id": "y16KJyihU_2T",
        "outputId": "c30bb88e-e5d0-4296-cc6d-bd46f8844823",
        "colab": {
          "base_uri": "https://localhost:8080/"
        }
      },
      "outputs": [
        {
          "output_type": "stream",
          "name": "stdout",
          "text": [
            "Your name is Norah and my age is  26 years old\n"
          ]
        }
      ],
      "source": [
        "name=\"Norah\"\n",
        "age=26\n",
        "print('Your name is',name,'and my age is ',age, 'years old')"
      ]
    },
    {
      "cell_type": "code",
      "execution_count": null,
      "metadata": {
        "id": "QtNti_5iU_2T",
        "outputId": "ba65dbd0-5b09-4d7c-f492-617039bb04a5",
        "colab": {
          "base_uri": "https://localhost:8080/"
        }
      },
      "outputs": [
        {
          "output_type": "stream",
          "name": "stdout",
          "text": [
            "My child name is Fahad and his age is 3 years\n"
          ]
        }
      ],
      "source": [
        "name='Fahad'\n",
        "age=3\n",
        "# My child name is Fahad and his age is 3 years\n",
        "###  code there\n",
        "print('My child name is {} and his age is {} years'.format(name,age))"
      ]
    },
    {
      "cell_type": "code",
      "execution_count": null,
      "metadata": {
        "id": "JwDocyowU_2U",
        "outputId": "0ca669f2-06ed-4b51-ac7c-922839ccaebd",
        "colab": {
          "base_uri": "https://localhost:8080/"
        }
      },
      "outputs": [
        {
          "output_type": "stream",
          "name": "stdout",
          "text": [
            "<class 'int'>\n",
            "<class 'float'>\n",
            "10\n",
            "10.0\n"
          ]
        }
      ],
      "source": [
        "num1=10  #10\n",
        "num2=float(num1)  #10.0\n",
        "\n",
        "print(type(num1))\n",
        "print(type(num2))\n",
        "\n",
        "print(num1)\n",
        "print(num2)"
      ]
    },
    {
      "cell_type": "code",
      "execution_count": null,
      "metadata": {
        "id": "yxjq88VDU_2U",
        "outputId": "f0bad478-1013-43e2-9bcb-fc49e6824c00",
        "colab": {
          "base_uri": "https://localhost:8080/"
        }
      },
      "outputs": [
        {
          "output_type": "stream",
          "name": "stdout",
          "text": [
            "95.000000%\n"
          ]
        }
      ],
      "source": [
        "## percentage\n",
        "value= 95\n",
        "print(\"{:%}\".format(value/100))"
      ]
    },
    {
      "cell_type": "markdown",
      "metadata": {
        "id": "1COL4-JpU_2U"
      },
      "source": [
        "### Testing the type of variables\n",
        "\n",
        "- ##### In python, we can check the datatype of an object using the built-in function type."
      ]
    },
    {
      "cell_type": "code",
      "execution_count": null,
      "metadata": {
        "id": "rsOf5FqlU_2U",
        "outputId": "8fd66204-bbd8-429e-8c44-a0bc5dd51ffd",
        "colab": {
          "base_uri": "https://localhost:8080/"
        }
      },
      "outputs": [
        {
          "output_type": "stream",
          "name": "stdout",
          "text": [
            "<class 'float'>\n"
          ]
        }
      ],
      "source": [
        "pi=3.14\n",
        "print(type(pi))"
      ]
    },
    {
      "cell_type": "markdown",
      "metadata": {
        "id": "b4GMb810U_2U"
      },
      "source": [
        "### Asking the user for input\n",
        "Sometimes we would like to take the value for a variable from the user via their keyboard. Python provides a built-in function called __input__ that gets input from the keyboard"
      ]
    },
    {
      "cell_type": "code",
      "execution_count": null,
      "metadata": {
        "id": "qyINusRNU_2U",
        "outputId": "951fcd8c-8834-436d-d1a0-d29a53ca4026",
        "colab": {
          "base_uri": "https://localhost:8080/"
        }
      },
      "outputs": [
        {
          "name": "stdout",
          "output_type": "stream",
          "text": [
            "Enter number 5\n"
          ]
        }
      ],
      "source": [
        "\n",
        "no_of_childen=input(\"Enter number \")"
      ]
    },
    {
      "cell_type": "code",
      "execution_count": null,
      "metadata": {
        "id": "TVx1vkYSU_2U",
        "outputId": "8b25aa67-0a88-4073-f4b2-80b6364e8932",
        "colab": {
          "base_uri": "https://localhost:8080/"
        }
      },
      "outputs": [
        {
          "output_type": "stream",
          "name": "stdout",
          "text": [
            "How many kids do you have:2\n",
            "2\n"
          ]
        }
      ],
      "source": [
        "kids=input('How many kids do you have:')\n",
        "\n",
        "print(kids)"
      ]
    },
    {
      "cell_type": "code",
      "execution_count": null,
      "metadata": {
        "id": "dsNDeMV-U_2U",
        "outputId": "9dc70f99-5b09-4329-9e50-b8114f8cf528",
        "colab": {
          "base_uri": "https://localhost:8080/"
        }
      },
      "outputs": [
        {
          "output_type": "stream",
          "name": "stdout",
          "text": [
            "5\n"
          ]
        }
      ],
      "source": [
        "print(no_of_childen)"
      ]
    },
    {
      "cell_type": "code",
      "execution_count": null,
      "metadata": {
        "id": "MrjE24hqU_2U",
        "outputId": "7ccfdaed-9b52-4bcf-fb2a-f355962c4243",
        "colab": {
          "base_uri": "https://localhost:8080/"
        }
      },
      "outputs": [
        {
          "output_type": "stream",
          "name": "stdout",
          "text": [
            "['welcome', 'to', 'the', 'CSC605']\n"
          ]
        }
      ],
      "source": [
        "## Split a string into a list where each word is a list item:\n",
        "txt = \"welcome to the CSC605\"\n",
        "txt1=txt.split()\n",
        "print(txt1)"
      ]
    },
    {
      "cell_type": "code",
      "execution_count": null,
      "metadata": {
        "id": "mpKrqobdU_2U",
        "outputId": "578865bd-b55b-4d84-bcd9-578d846e00a1",
        "colab": {
          "base_uri": "https://localhost:8080/"
        }
      },
      "outputs": [
        {
          "output_type": "stream",
          "name": "stdout",
          "text": [
            "['welcome', ' to', ' the CSC605']\n"
          ]
        }
      ],
      "source": [
        "txt = \"welcome; to; the CSC605\"\n",
        "\n",
        "x = txt.split(';')\n",
        "\n",
        "print(x)"
      ]
    },
    {
      "cell_type": "code",
      "execution_count": null,
      "metadata": {
        "id": "AaSMYKX1U_2V",
        "outputId": "4f96224f-03cb-48bf-a549-b017ce7850bb",
        "colab": {
          "base_uri": "https://localhost:8080/"
        }
      },
      "outputs": [
        {
          "name": "stdout",
          "output_type": "stream",
          "text": [
            "7\n"
          ]
        }
      ],
      "source": [
        "a=input()\n",
        "a=int(a)"
      ]
    },
    {
      "cell_type": "code",
      "execution_count": null,
      "metadata": {
        "id": "nxI2G5wxU_2V",
        "outputId": "53cac195-d30e-491b-ab8d-2f11f8a36c61",
        "colab": {
          "base_uri": "https://localhost:8080/"
        }
      },
      "outputs": [
        {
          "output_type": "stream",
          "name": "stdout",
          "text": [
            "7\n"
          ]
        },
        {
          "output_type": "execute_result",
          "data": {
            "text/plain": [
              "int"
            ]
          },
          "metadata": {},
          "execution_count": 23
        }
      ],
      "source": [
        "print(a)\n",
        "type(a)"
      ]
    },
    {
      "cell_type": "code",
      "execution_count": null,
      "metadata": {
        "id": "aMidli7LU_2V",
        "outputId": "a7683d67-c8eb-4c1d-ae97-22424ed38e5b",
        "colab": {
          "base_uri": "https://localhost:8080/"
        }
      },
      "outputs": [
        {
          "output_type": "stream",
          "name": "stdout",
          "text": [
            "12\n",
            "<class 'str'>\n"
          ]
        }
      ],
      "source": [
        "x=12.9\n",
        "type(x)\n",
        "print(int(x))\n",
        "\n",
        "y=12\n",
        "y=str(y)\n",
        "print(type(y))"
      ]
    },
    {
      "cell_type": "code",
      "execution_count": null,
      "metadata": {
        "id": "CgKnjyoiU_2V",
        "outputId": "68427ce3-e6c4-4a47-bb3b-fa2bcde45060",
        "colab": {
          "base_uri": "https://localhost:8080/"
        }
      },
      "outputs": [
        {
          "output_type": "stream",
          "name": "stdout",
          "text": [
            "12\n"
          ]
        }
      ],
      "source": [
        "print(int(a)+5)"
      ]
    },
    {
      "cell_type": "markdown",
      "metadata": {
        "id": "AKPjC9QCU_2V"
      },
      "source": [
        "### Functions\n",
        "- A function is a block of code which only runs when it is called.\n",
        "- Variables that are defined inside a function body have a local scope, and those defined outside have a global scope.\n",
        "\n"
      ]
    },
    {
      "cell_type": "code",
      "execution_count": null,
      "metadata": {
        "id": "BGBLa_3jU_2V"
      },
      "outputs": [],
      "source": [
        "### Examples\n",
        "def fun_name():\n",
        "    print('first function')\n",
        "    print(\"hello world\")"
      ]
    },
    {
      "cell_type": "code",
      "execution_count": null,
      "metadata": {
        "id": "TgRqQA4rU_2V",
        "outputId": "ce230473-d75e-4578-8dd8-fa82d4b1ee38",
        "colab": {
          "base_uri": "https://localhost:8080/"
        }
      },
      "outputs": [
        {
          "output_type": "stream",
          "name": "stdout",
          "text": [
            "first function\n",
            "hello world\n"
          ]
        }
      ],
      "source": [
        "fun_name()"
      ]
    },
    {
      "cell_type": "code",
      "execution_count": null,
      "metadata": {
        "id": "wGxGmPuHU_2V",
        "outputId": "0b7aa0d2-b596-461e-bccb-ee706ec8b09b",
        "colab": {
          "base_uri": "https://localhost:8080/"
        }
      },
      "outputs": [
        {
          "output_type": "stream",
          "name": "stdout",
          "text": [
            "40\n"
          ]
        }
      ],
      "source": [
        "def fun2():\n",
        "    cc=10\n",
        "    print(cc+30)\n",
        "\n",
        "fun2()"
      ]
    },
    {
      "cell_type": "code",
      "execution_count": null,
      "metadata": {
        "id": "DFOjrCSSU_2W",
        "outputId": "d7f93afb-c1f5-4a97-c127-8e2373722b62",
        "colab": {
          "base_uri": "https://localhost:8080/"
        }
      },
      "outputs": [
        {
          "output_type": "stream",
          "name": "stdout",
          "text": [
            "22\n",
            "479\n"
          ]
        }
      ],
      "source": [
        "def addTwoNumbers(a,b):\n",
        "    return a+b\n",
        "\n",
        "print(addTwoNumbers(20,2) )\n",
        "\n",
        "res=addTwoNumbers(34,445)\n",
        "print(res)\n",
        "## return two outputs"
      ]
    },
    {
      "cell_type": "code",
      "execution_count": null,
      "metadata": {
        "id": "wo2p7_lSU_2W"
      },
      "outputs": [],
      "source": [
        "def add_and_substract_and_multiply(a,b):\n",
        "\n",
        "    return a+b, a-b , a*b  #(1100, 900)\n"
      ]
    },
    {
      "cell_type": "code",
      "execution_count": null,
      "metadata": {
        "id": "91vdUtPYU_2W",
        "outputId": "ee6a8c8a-bd72-4868-bcce-ed7a287c63b8",
        "colab": {
          "base_uri": "https://localhost:8080/"
        }
      },
      "outputs": [
        {
          "output_type": "stream",
          "name": "stdout",
          "text": [
            "(1100, 900, 100000)\n",
            "1100\n",
            "900\n",
            "100000\n"
          ]
        }
      ],
      "source": [
        "a1 =add_and_substract_and_multiply(1000,100)   #a1=(1100,900)\n",
        "print(a1)\n",
        "\n",
        "print(a1[0])\n",
        "print(a1[1])\n",
        "print(a1[2])"
      ]
    },
    {
      "cell_type": "code",
      "source": [
        "a1, a2 , a3 =add_and_substract_and_multiply(1000,100)   #a1=(1100,900)\n",
        "print(a1, \"   \",a2, \"  \" , a3)"
      ],
      "metadata": {
        "colab": {
          "base_uri": "https://localhost:8080/"
        },
        "id": "uBzZj8JkJj9U",
        "outputId": "df2af1d9-c8c2-4ffc-820d-295831d89f2b"
      },
      "execution_count": null,
      "outputs": [
        {
          "output_type": "stream",
          "name": "stdout",
          "text": [
            "1100     900    100000\n"
          ]
        }
      ]
    },
    {
      "cell_type": "markdown",
      "metadata": {
        "id": "cQLhEzlsU_2a"
      },
      "source": [
        "### dummy variables\n"
      ]
    },
    {
      "cell_type": "code",
      "execution_count": null,
      "metadata": {
        "id": "ma1MoPDiU_2a",
        "outputId": "f0d41a2f-3cb6-461e-c9e0-cbbb0eb54d10",
        "colab": {
          "base_uri": "https://localhost:8080/"
        }
      },
      "outputs": [
        {
          "output_type": "stream",
          "name": "stdout",
          "text": [
            "900\n"
          ]
        }
      ],
      "source": [
        "_, b1 , _=add_and_substract_and_multiply(1000,100)\n",
        "print(b1)"
      ]
    },
    {
      "cell_type": "markdown",
      "metadata": {
        "id": "zD5_KiPGU_2a"
      },
      "source": [
        "#### ### Default arguments\n",
        "A default argument is an argument that assumes a default value if a value is not provided in the function call for that argument."
      ]
    },
    {
      "cell_type": "code",
      "execution_count": null,
      "metadata": {
        "id": "RrkEFA0hU_2a",
        "outputId": "19b33ffb-2611-4cfc-9de2-9d15d17cd6b7",
        "colab": {
          "base_uri": "https://localhost:8080/"
        }
      },
      "outputs": [
        {
          "output_type": "stream",
          "name": "stdout",
          "text": [
            "150.0\n",
            "2000.0\n"
          ]
        }
      ],
      "source": [
        "## Examples\n",
        "def compute_tax(money, tax_rate=.15):\n",
        "    return money * tax_rate\n",
        "\n",
        "print(compute_tax(1000))\n",
        "print(compute_tax(10000, .2))"
      ]
    },
    {
      "cell_type": "code",
      "execution_count": null,
      "metadata": {
        "id": "K--HEs_xU_2a"
      },
      "outputs": [],
      "source": [
        "def fun(salary=10000, expenses=5000, homeRent=1500):\n",
        "    total=salary-homeRent-expenses\n",
        "    print(total)"
      ]
    },
    {
      "cell_type": "code",
      "execution_count": null,
      "metadata": {
        "id": "yV8gytOtU_2a",
        "outputId": "c3c41e81-6938-4325-952c-edeccdeaed18",
        "colab": {
          "base_uri": "https://localhost:8080/"
        }
      },
      "outputs": [
        {
          "output_type": "stream",
          "name": "stdout",
          "text": [
            "3500\n"
          ]
        }
      ],
      "source": [
        "fun(10000)"
      ]
    },
    {
      "cell_type": "code",
      "execution_count": null,
      "metadata": {
        "id": "sBL0G3PpU_2a"
      },
      "outputs": [],
      "source": [
        "a10=20\n",
        "a11=30\n",
        "a12=40\n",
        "\n",
        "a10,a11,a12=20,30,40"
      ]
    },
    {
      "cell_type": "code",
      "execution_count": null,
      "metadata": {
        "id": "8ml2I70UU_2a"
      },
      "outputs": [],
      "source": [
        "a, b, c = 1, 2, 3\n",
        "\n",
        "## dummy variable can have any name, but it is conventional to use the underscore (_) for assigning unwanted values:\n",
        "\n",
        "a, b, _ = 1, 2, 3"
      ]
    },
    {
      "cell_type": "code",
      "execution_count": null,
      "metadata": {
        "scrolled": true,
        "id": "p9Cm2KBiU_2a",
        "outputId": "f491d9e4-75fe-4ef9-dff1-149701a973f6",
        "colab": {
          "base_uri": "https://localhost:8080/"
        }
      },
      "outputs": [
        {
          "output_type": "stream",
          "name": "stdout",
          "text": [
            "3\n"
          ]
        }
      ],
      "source": [
        "print(_)"
      ]
    },
    {
      "cell_type": "markdown",
      "metadata": {
        "id": "sWtvRbxEU_2b"
      },
      "source": [
        "### Operators <br>\n",
        "- <font size=\"4\">Arithmetic is very similar to Java and C#</font>\n",
        "\n",
        "<font size=\"4\">\n",
        "- Addition +<br>\n",
        "- Subtraction -<br>\n",
        "- Division /<br>\n",
        "- Exponentiation **<br>\n",
        "- Modulus (remainder after division) %<br></font>\n"
      ]
    },
    {
      "cell_type": "code",
      "execution_count": null,
      "metadata": {
        "id": "6wsc6T3bU_2b",
        "outputId": "6899ae84-d098-44a5-bf8e-5b46a3dd9cbc",
        "colab": {
          "base_uri": "https://localhost:8080/"
        }
      },
      "outputs": [
        {
          "output_type": "stream",
          "name": "stdout",
          "text": [
            "16.0\n",
            "3.0\n",
            "48.0\n",
            "16\n"
          ]
        }
      ],
      "source": [
        "## examples\n",
        "n1=12.\n",
        "n2=4.\n",
        "print(n1+n2)\n",
        "print(n1/n2)\n",
        "print(n1*n2)\n",
        "print(2**4)"
      ]
    },
    {
      "cell_type": "code",
      "execution_count": null,
      "metadata": {
        "id": "wHP5ergXU_2b",
        "outputId": "31acbfea-c528-4f3a-93ea-73b9280ac6d9",
        "colab": {
          "base_uri": "https://localhost:8080/"
        }
      },
      "outputs": [
        {
          "output_type": "execute_result",
          "data": {
            "text/plain": [
              "True"
            ]
          },
          "metadata": {},
          "execution_count": 43
        }
      ],
      "source": [
        "100%5==0"
      ]
    },
    {
      "cell_type": "code",
      "source": [
        "print(9%7) #2"
      ],
      "metadata": {
        "colab": {
          "base_uri": "https://localhost:8080/"
        },
        "id": "K1pUdIHPiS4T",
        "outputId": "31a1d641-a6c7-4dfb-82a1-b7136a9fa465"
      },
      "execution_count": null,
      "outputs": [
        {
          "output_type": "stream",
          "name": "stdout",
          "text": [
            "2\n"
          ]
        }
      ]
    },
    {
      "cell_type": "code",
      "source": [
        "print(7%9)  # 0/9=0"
      ],
      "metadata": {
        "colab": {
          "base_uri": "https://localhost:8080/"
        },
        "id": "0jOJgioiLciD",
        "outputId": "737b883b-431e-44c0-99f3-32ed7a720a83"
      },
      "execution_count": null,
      "outputs": [
        {
          "output_type": "stream",
          "name": "stdout",
          "text": [
            "7\n"
          ]
        }
      ]
    },
    {
      "cell_type": "code",
      "execution_count": null,
      "metadata": {
        "id": "vfFRiLcuU_2b",
        "outputId": "1305b737-aac5-4261-bc69-a081bb0f929c",
        "colab": {
          "base_uri": "https://localhost:8080/"
        }
      },
      "outputs": [
        {
          "output_type": "stream",
          "name": "stdout",
          "text": [
            "9\n"
          ]
        }
      ],
      "source": [
        "print(3 ** 2)\n"
      ]
    },
    {
      "cell_type": "markdown",
      "metadata": {
        "id": "uoeJspT7U_2b"
      },
      "source": [
        "### Comparison operators <br>\n",
        "<font size=\"4\">\n",
        "- Equal: ==<br>\n",
        "- Not equal: != <br>\n",
        "- Greater than: > <br>\n",
        "- Less than: <<br>\n",
        "- Greater than or equal: >= <br>\n",
        "- Less than or equal: <=<br>\n",
        "    </font>"
      ]
    },
    {
      "cell_type": "code",
      "execution_count": null,
      "metadata": {
        "id": "LuvKJtCuU_2b",
        "outputId": "76e11187-03e2-407a-b608-19ba4c7cf665",
        "colab": {
          "base_uri": "https://localhost:8080/"
        }
      },
      "outputs": [
        {
          "output_type": "stream",
          "name": "stdout",
          "text": [
            "4\n"
          ]
        }
      ],
      "source": [
        "a=3\n",
        "a=a+1\n",
        "print(a)"
      ]
    },
    {
      "cell_type": "code",
      "execution_count": null,
      "metadata": {
        "id": "jEKj_oNBU_2b",
        "outputId": "de8c9829-0c4a-4110-839e-fd91e88d6615",
        "colab": {
          "base_uri": "https://localhost:8080/"
        }
      },
      "outputs": [
        {
          "output_type": "stream",
          "name": "stdout",
          "text": [
            "5\n"
          ]
        }
      ],
      "source": [
        "a +=1 # a=a+1\n",
        "print(a)"
      ]
    },
    {
      "cell_type": "code",
      "execution_count": null,
      "metadata": {
        "id": "xil05a2GU_2b",
        "outputId": "4071217d-8d65-4758-fac5-0df87c0a3b34",
        "colab": {
          "base_uri": "https://localhost:8080/"
        }
      },
      "outputs": [
        {
          "output_type": "stream",
          "name": "stdout",
          "text": [
            "0\n",
            "5\n",
            "10\n",
            "15\n",
            "20\n",
            "25\n",
            "30\n",
            "35\n",
            "40\n",
            "45\n",
            "50\n",
            "55\n",
            "60\n",
            "65\n",
            "70\n",
            "75\n",
            "80\n",
            "85\n",
            "90\n",
            "95\n"
          ]
        }
      ],
      "source": [
        "c=100\n",
        "for i in range(c):\n",
        "    if i % 5==0:\n",
        "        print(i)"
      ]
    },
    {
      "cell_type": "markdown",
      "metadata": {
        "id": "w-_eZjzRU_2b"
      },
      "source": [
        "### Python comments\n",
        "\n",
        "- Comments can be used to explain Python code.\n",
        "\n",
        "- Comments can be used to make the code more readable.\n",
        "\n",
        "- Comments can be used to prevent execution when testing code.\n",
        "\n",
        "##### Comments starts with a #, and Python will ignore them:"
      ]
    },
    {
      "cell_type": "code",
      "execution_count": null,
      "metadata": {
        "id": "IliIScNsU_2c"
      },
      "outputs": [],
      "source": [
        "# short comment\n",
        "'''\n",
        "this seleciton is to explain the comments\n",
        "this is done by ...\n",
        "'''\n",
        "def add(a,b):\n",
        "    pass\n",
        "\n",
        "def ABC(a,b):\n",
        "    return a+b\n"
      ]
    },
    {
      "cell_type": "code",
      "execution_count": null,
      "metadata": {
        "id": "SWpg_xl0U_2c",
        "colab": {
          "base_uri": "https://localhost:8080/"
        },
        "outputId": "1f7ac889-b05a-4c55-88fb-34aaba3a150b"
      },
      "outputs": [
        {
          "output_type": "stream",
          "name": "stdout",
          "text": [
            "Hello, World!\n"
          ]
        }
      ],
      "source": [
        "# single line\n",
        "# this is comment\n",
        "\"\"\"\n",
        "this comments are multiple\n",
        "lines\n",
        "\"\"\"\n",
        "\n",
        "\n",
        "\"\"\"\n",
        "This is a comment\n",
        "written in\n",
        "more than just one line\n",
        "\"\"\"\n",
        "print(\"Hello, World!\")"
      ]
    },
    {
      "cell_type": "markdown",
      "metadata": {
        "id": "4Ptz0uESU_2c"
      },
      "source": [
        "### Indentation (whitespace at the beginning of a line)\n",
        "- <font size=\"3.5\">Python uses indentation to indicate blocks, instead of {}</font>\n",
        "    - Makes the code simpler and more readable<br>\n",
        "    - In Java and C#, indenting is optional.  In Python, you must indent"
      ]
    },
    {
      "cell_type": "code",
      "execution_count": null,
      "metadata": {
        "id": "6EdK7Z0xU_2c"
      },
      "outputs": [],
      "source": [
        "a =10\n",
        "b=20\n",
        "\n",
        "def test():\n",
        "    print('test')\n",
        "    c=30\n",
        "\n",
        "d=10\n"
      ]
    },
    {
      "cell_type": "code",
      "execution_count": null,
      "metadata": {
        "id": "-B_dUxZ3U_2c"
      },
      "outputs": [],
      "source": []
    },
    {
      "cell_type": "markdown",
      "metadata": {
        "id": "1F18xO47U_2c"
      },
      "source": [
        "### Conditional statements\n",
        "\n",
        "In order to write useful programs, we almost always need the ability to check conditions and change the behavior of the program accordingly. Conditional statements give us this ability. The simplest form is the if statement, which has the genaral form:\n",
        "    "
      ]
    },
    {
      "cell_type": "code",
      "execution_count": null,
      "metadata": {
        "id": "5GYjZCCSU_2c",
        "outputId": "651ea441-cb99-497b-ee1c-78123b31e011",
        "colab": {
          "base_uri": "https://localhost:8080/"
        }
      },
      "outputs": [
        {
          "output_type": "stream",
          "name": "stdout",
          "text": [
            "fail\n",
            "Fail\n"
          ]
        }
      ],
      "source": [
        "#Examples\n",
        "grade=55\n",
        "\n",
        "if grade>=70:\n",
        "    print(\"pass\")\n",
        "else:\n",
        "    print('fail')\n",
        "\n",
        "if 90<=grade<=100:\n",
        "    print('A')\n",
        "elif grade<90 and grade>=80:\n",
        "    print(\"B\")\n",
        "elif  70<=grade<80:\n",
        "    print(\"C\")\n",
        "elif 0<=grade<70:\n",
        "    print(\"Fail\")\n",
        "else:\n",
        "    print(\"Invalid grade\")"
      ]
    },
    {
      "cell_type": "markdown",
      "metadata": {
        "id": "UIKr1xBxU_2c"
      },
      "source": [
        "#### Note:\n",
        "__In conditional statements it is possible to test the datatype with isinstance. However, it is usually not encouraged to rely on the type of the variable.__"
      ]
    },
    {
      "cell_type": "code",
      "execution_count": null,
      "metadata": {
        "id": "rNH-NAzIU_2c",
        "outputId": "8661bee5-86d8-4170-db73-a6b0e967fe92",
        "colab": {
          "base_uri": "https://localhost:8080/"
        }
      },
      "outputs": [
        {
          "output_type": "stream",
          "name": "stdout",
          "text": [
            "B\n"
          ]
        }
      ],
      "source": [
        "grade=80\n",
        "if isinstance(grade, int):\n",
        "    if 90<=grade<=100:\n",
        "        print('A')\n",
        "    elif grade<90 and grade>=80:\n",
        "        print(\"B\")\n",
        "    elif  70<=grade<80:\n",
        "        print(\"C\")\n",
        "    elif 0<=grade<70:\n",
        "        print(\"Fail\")\n",
        "    else:\n",
        "        print(\"Invalid grade\")\n",
        "else:\n",
        "        print(\"Incorrect input\")"
      ]
    },
    {
      "cell_type": "code",
      "execution_count": null,
      "metadata": {
        "id": "VNyWsmCSU_2c",
        "outputId": "94341fb7-9c55-4771-9c78-709322a92f81",
        "colab": {
          "base_uri": "https://localhost:8080/"
        }
      },
      "outputs": [
        {
          "output_type": "stream",
          "name": "stdout",
          "text": [
            "B\n"
          ]
        }
      ],
      "source": [
        "a=False\n",
        "\n",
        "if a:\n",
        "    print('A')\n",
        "else:\n",
        "    print('B')"
      ]
    },
    {
      "cell_type": "markdown",
      "metadata": {
        "id": "N4sD6DmVU_2d"
      },
      "source": [
        "### and - or operators"
      ]
    },
    {
      "cell_type": "code",
      "execution_count": null,
      "metadata": {
        "id": "4NE4XTsbU_2d",
        "outputId": "4a1bae34-fcea-4f0a-ab99-a9a25b8b4e8e",
        "colab": {
          "base_uri": "https://localhost:8080/"
        }
      },
      "outputs": [
        {
          "output_type": "stream",
          "name": "stdout",
          "text": [
            "Sorry you cannot take loan\n"
          ]
        }
      ],
      "source": [
        "salary=10000\n",
        "\n",
        "expericence=1\n",
        "\n",
        "if salary>=8000 and expericence>5:\n",
        "    print(\"Congs you derserve loan\")\n",
        "else:\n",
        "    print('Sorry you cannot take loan')\n"
      ]
    },
    {
      "cell_type": "code",
      "execution_count": null,
      "metadata": {
        "id": "2z0wd8CRU_2d"
      },
      "outputs": [],
      "source": [
        "a=20\n",
        "if 5<a<10:\n",
        "  print(\"A\")"
      ]
    },
    {
      "cell_type": "code",
      "execution_count": null,
      "metadata": {
        "id": "TPTNTVi2U_2d",
        "colab": {
          "base_uri": "https://localhost:8080/"
        },
        "outputId": "884771e4-10d0-494a-d730-aad93dcf5d84"
      },
      "outputs": [
        {
          "output_type": "stream",
          "name": "stdout",
          "text": [
            "Congs you derserve loan\n"
          ]
        }
      ],
      "source": [
        "if salary>=8000 or expericence>5:\n",
        "    print(\"Congs you derserve loan\")\n",
        "else:\n",
        "    print('Sorry you cannot take loan')"
      ]
    },
    {
      "cell_type": "markdown",
      "metadata": {
        "id": "w_MLZRGPU_2d"
      },
      "source": [
        "#### The pass Statement\n",
        "if statements cannot be empty, but if you for some reason have an if statement with no content, put in the pass statement to avoid getting an error."
      ]
    },
    {
      "cell_type": "code",
      "execution_count": null,
      "metadata": {
        "id": "5Dlldp_QU_2d"
      },
      "outputs": [],
      "source": [
        "def fun1():\n",
        "  pass\n",
        "\n",
        "fun1()\n",
        "\n"
      ]
    },
    {
      "cell_type": "markdown",
      "metadata": {
        "id": "6eyaPr06U_2d"
      },
      "source": [
        "### Lists\n",
        "\n",
        "- #### The list type is probably the most commonly used collection type in Python. Despite its name, a list is more like an array in other languages, mostly JavaScript. In Python, a list is merely an ordered collection of valid Python values. A list can be created by enclosing values, separated by commas, in square brackets:\n",
        "\n",
        "- #####  The elements of a list are not restricted to a single data type, which makes sense given that Python is a dynamic language:\n"
      ]
    },
    {
      "cell_type": "code",
      "execution_count": null,
      "metadata": {
        "id": "K8tRYxv3U_2d",
        "colab": {
          "base_uri": "https://localhost:8080/"
        },
        "outputId": "c93b02d8-6d48-443a-edde-fe4870e11286"
      },
      "outputs": [
        {
          "output_type": "stream",
          "name": "stdout",
          "text": [
            "[1, 5, 20, 4, 1]\n",
            "[1, 5, 20, 4, 1, 100]\n",
            "[1, 2.4, False, 'Saudi Arabia']\n",
            "[1, 5, 20, 4, 1, 100, 150]\n"
          ]
        }
      ],
      "source": [
        "# define empty list\n",
        "# method 1\n",
        "lst1=[]\n",
        "#method2\n",
        "lst2=list()\n",
        "\n",
        "# create list with values 1, 5, 20, 4,and 1\n",
        "lst3=[1,5,20,4,1]\n",
        "print(lst3)\n",
        "\n",
        "# add 100 to lst3\n",
        "lst3.append(100)\n",
        "print(lst3)\n",
        "\n",
        "\n",
        "# list with mixed data types\n",
        "lst4=[1, 2.4, False, 'Saudi Arabia']\n",
        "print(lst4)\n",
        "\n",
        "lst3.append(150)\n",
        "print(lst3)"
      ]
    },
    {
      "cell_type": "code",
      "execution_count": null,
      "metadata": {
        "id": "DQ9Q_fcqU_2d",
        "colab": {
          "base_uri": "https://localhost:8080/"
        },
        "outputId": "8e1c0eb5-094d-4ccc-bb80-3028f614f32f"
      },
      "outputs": [
        {
          "output_type": "stream",
          "name": "stdout",
          "text": [
            "7\n",
            "3\n",
            "5\n",
            "20\n",
            "20\n",
            "13\n",
            "3 20\n"
          ]
        }
      ],
      "source": [
        "lst=[3,5,7,9,11,13,20 ]\n",
        "\n",
        "#get length of list\n",
        "lst_len=len(lst)\n",
        "print(lst_len)\n",
        "\n",
        "\n",
        "# print to first element\n",
        "print(lst[0])\n",
        "print(lst[1])\n",
        "# print last element\n",
        "print(lst[len(lst)-1])   # size 5\n",
        "\n",
        "# method 2:\n",
        "print(lst[-1])\n",
        "\n",
        "## print next to last\n",
        "print(lst[-2])\n",
        "\n",
        "print(lst[0], lst[-1])"
      ]
    },
    {
      "cell_type": "code",
      "execution_count": null,
      "metadata": {
        "id": "YiF3ogIVU_2d",
        "colab": {
          "base_uri": "https://localhost:8080/"
        },
        "outputId": "862d85e7-af46-476c-fa80-8820f263a538"
      },
      "outputs": [
        {
          "output_type": "stream",
          "name": "stdout",
          "text": [
            "[3, 5, 7, 9]\n",
            "[3, 9]\n"
          ]
        }
      ],
      "source": [
        "lst=[3,5,7,9,11,13,20 ]\n",
        "\n",
        "# print first 4 elements\n",
        "print(lst[:4])\n",
        "\n",
        "##print(lst[start:stop:step])\n",
        "print(lst[:4:3])"
      ]
    },
    {
      "cell_type": "code",
      "source": [
        "lst=[3,5,7,9,11,13,20 ]\n",
        "print(lst[::-1]) ## for (i=n;i>=0, i--)"
      ],
      "metadata": {
        "colab": {
          "base_uri": "https://localhost:8080/"
        },
        "id": "k2Lfv3ChZdZh",
        "outputId": "2ba37401-af31-4b75-8db2-7ba69375c455"
      },
      "execution_count": null,
      "outputs": [
        {
          "output_type": "stream",
          "name": "stdout",
          "text": [
            "[20, 13, 11, 9, 7, 5, 3]\n"
          ]
        }
      ]
    },
    {
      "cell_type": "code",
      "source": [
        "print(lst[2::1])\n",
        "\n",
        "print(lst[::2])\n",
        "## 3, 7, 11, 20\n",
        "print(lst[:4])\n",
        "\n",
        "print(lst[0:-2:])  #  0 to -3\n",
        "print(lst[::-1]) ## for (i=n;i>=0, i--)"
      ],
      "metadata": {
        "colab": {
          "base_uri": "https://localhost:8080/"
        },
        "id": "6TpnEg6WPHEd",
        "outputId": "da33087f-303a-455c-d5e9-20b7e6f4f625"
      },
      "execution_count": null,
      "outputs": [
        {
          "output_type": "stream",
          "name": "stdout",
          "text": [
            "[7, 9, 11, 13, 20]\n",
            "[3, 7, 11, 20]\n",
            "[3, 5, 7, 9]\n",
            "[3, 5, 7, 9, 11]\n",
            "[20, 13, 11, 9, 7, 5, 3]\n"
          ]
        }
      ]
    },
    {
      "cell_type": "code",
      "execution_count": null,
      "metadata": {
        "id": "12bDnarvU_2e",
        "colab": {
          "base_uri": "https://localhost:8080/"
        },
        "outputId": "0453b9da-b121-4893-c513-d6fb8f80b135"
      },
      "outputs": [
        {
          "output_type": "stream",
          "name": "stdout",
          "text": [
            "[-20, 0, 3, 10]\n",
            "[5, 4, 3, 2, 1]\n",
            "[1, 2, 3, 4, 5]\n",
            "Peter\n",
            "Lewis\n",
            "Imogen\n",
            "Hannah\n"
          ]
        }
      ],
      "source": [
        "## sort list\n",
        "lst5=[3,10,0,-20]\n",
        "lst5.sort()\n",
        "print(lst5)\n",
        "\n",
        "# Example list\n",
        "my_list = [1, 2, 3, 4, 5]\n",
        "\n",
        "# Reversing the list in place\n",
        "my_list.reverse()\n",
        "\n",
        "# Printing the reversed list\n",
        "print(my_list)\n",
        "\n",
        "# 2: Reverse Using Slicing\n",
        "reversed_lst=my_list[::-1]\n",
        "print(reversed_lst)\n",
        "\n",
        "\n",
        "# 3: reverse using reversed\n",
        "\n",
        "studentNames = [\"Hannah\", \"Imogen\", \"Lewis\", \"Peter\"]\n",
        "for i in reversed(studentNames):\n",
        "\tprint(i)"
      ]
    },
    {
      "cell_type": "code",
      "execution_count": null,
      "metadata": {
        "scrolled": true,
        "id": "Ffg20nfwU_2e",
        "colab": {
          "base_uri": "https://localhost:8080/"
        },
        "outputId": "73869100-4042-4e16-b1a2-1febaf0dc983"
      },
      "outputs": [
        {
          "output_type": "stream",
          "name": "stdout",
          "text": [
            "[5, 3, 'Maha', 30, 90, 20]\n",
            "[1, 7, 5, 2]\n"
          ]
        }
      ],
      "source": [
        "list_temp=[5,3,30,90,20]\n",
        "# Add a new element to list at a specific index. L.insert(index, object)\n",
        "list_temp.insert(2,'Maha')\n",
        "print(list_temp)\n",
        "\n",
        "\n",
        "# Remove the first occurrence of a value with L.remove(value)\n",
        "lst6=[1,2,7,5,2]\n",
        "lst6.remove(2)\n",
        "print(lst6)"
      ]
    },
    {
      "cell_type": "code",
      "source": [
        "# Get the index in the list of the first item whose value is x. It will show an error if there is no such item.\n",
        "##ind=list_temp.index(30)\n",
        "lst7=[1,2,3,4,4,90,1,4]\n",
        "print(lst7.index(4))\n",
        "lst7.index(3)"
      ],
      "metadata": {
        "colab": {
          "base_uri": "https://localhost:8080/"
        },
        "id": "lfEdaBZNRzKP",
        "outputId": "d3415636-5e09-4a00-c667-e7c0ddfdad19"
      },
      "execution_count": null,
      "outputs": [
        {
          "output_type": "stream",
          "name": "stdout",
          "text": [
            "3\n"
          ]
        },
        {
          "output_type": "execute_result",
          "data": {
            "text/plain": [
              "2"
            ]
          },
          "metadata": {},
          "execution_count": 6
        }
      ]
    },
    {
      "cell_type": "code",
      "source": [
        "##count occurrence of any item in list\n",
        "print(lst7.count(4))\n",
        "\n",
        "# Example list\n",
        "my_list = [1, 2, 3, 2, 4, 2, 5]\n",
        "\n",
        "# Removing all occurrences of 2\n",
        "my_list = [x for x in my_list if x != 2]\n",
        "\n",
        "# Printing the updated list\n",
        "print(my_list)"
      ],
      "metadata": {
        "colab": {
          "base_uri": "https://localhost:8080/"
        },
        "id": "-oxY1yTXR1L1",
        "outputId": "5b67c956-3bb0-4cc9-de64-2a7bcf68b58d"
      },
      "execution_count": null,
      "outputs": [
        {
          "output_type": "stream",
          "name": "stdout",
          "text": [
            "3\n",
            "[1, 3, 4, 5]\n"
          ]
        }
      ]
    },
    {
      "cell_type": "code",
      "source": [
        " x=[i for i in my_list if i !=2]\n",
        " x"
      ],
      "metadata": {
        "colab": {
          "base_uri": "https://localhost:8080/"
        },
        "id": "SPGVJL74Tmd0",
        "outputId": "d55e76ba-e463-489c-cc7d-3d23bfeca66f"
      },
      "execution_count": null,
      "outputs": [
        {
          "output_type": "execute_result",
          "data": {
            "text/plain": [
              "[1, 3, 4, 5]"
            ]
          },
          "metadata": {},
          "execution_count": 10
        }
      ]
    },
    {
      "cell_type": "code",
      "source": [
        "my_list = [1, 2, 3, 2, 4, 2, 5]\n",
        "my_list.count(2)"
      ],
      "metadata": {
        "colab": {
          "base_uri": "https://localhost:8080/"
        },
        "id": "2o6kSr90UG-C",
        "outputId": "40b4afd8-115a-4f87-842b-1accdc54fc32"
      },
      "execution_count": null,
      "outputs": [
        {
          "output_type": "execute_result",
          "data": {
            "text/plain": [
              "3"
            ]
          },
          "metadata": {},
          "execution_count": 11
        }
      ]
    },
    {
      "cell_type": "code",
      "source": [
        "arr={}\n",
        "for i in my_list:\n",
        "  if i in arr:\n",
        "    pass\n",
        "  else:\n",
        "    arr[i]=my_list.count(i)\n"
      ],
      "metadata": {
        "id": "FAGZOfSSUXdD"
      },
      "execution_count": null,
      "outputs": []
    },
    {
      "cell_type": "code",
      "source": [
        "arr"
      ],
      "metadata": {
        "colab": {
          "base_uri": "https://localhost:8080/"
        },
        "id": "qQHB1CJlV3qV",
        "outputId": "9e135034-63ec-4092-c869-d454483d066a"
      },
      "execution_count": null,
      "outputs": [
        {
          "output_type": "execute_result",
          "data": {
            "text/plain": [
              "{1: 1, 2: 3, 3: 1, 4: 1, 5: 1}"
            ]
          },
          "metadata": {},
          "execution_count": 15
        }
      ]
    },
    {
      "cell_type": "markdown",
      "metadata": {
        "id": "09Dabdt-U_2e"
      },
      "source": [
        "### exercise:\n",
        "-_Write a code that counts the occurrance of each element in list b__"
      ]
    },
    {
      "cell_type": "code",
      "execution_count": null,
      "metadata": {
        "id": "cFNwRUw9U_2e"
      },
      "outputs": [],
      "source": [
        "lst = [1, 2, 45, 55, 5, 4, 4, 4, 4, 4, 4, 5456, 56, 6, 7, 67]"
      ]
    },
    {
      "cell_type": "code",
      "source": [
        "arr={}\n",
        "for i in lst:\n",
        "  if i not in arr:\n",
        "    print(\"the past arr is :\",arr)\n",
        "    arr[i]=lst.count(i)\n",
        "max_key=max(arr,key=arr.get)\n",
        "print(\"max occurance number is \",max_key )\n",
        "print(\"max occurance is \",arr[max_key])\n",
        "\n"
      ],
      "metadata": {
        "colab": {
          "base_uri": "https://localhost:8080/"
        },
        "id": "ZLZhIQIwWZBO",
        "outputId": "a70cb429-d7c3-4a16-9cda-d6259c5daf26"
      },
      "execution_count": null,
      "outputs": [
        {
          "output_type": "stream",
          "name": "stdout",
          "text": [
            "the past arr is : {}\n",
            "the past arr is : {1: 1}\n",
            "the past arr is : {1: 1, 2: 1}\n",
            "the past arr is : {1: 1, 2: 1, 45: 1}\n",
            "the past arr is : {1: 1, 2: 1, 45: 1, 55: 1}\n",
            "the past arr is : {1: 1, 2: 1, 45: 1, 55: 1, 5: 1}\n",
            "the past arr is : {1: 1, 2: 1, 45: 1, 55: 1, 5: 1, 4: 6}\n",
            "the past arr is : {1: 1, 2: 1, 45: 1, 55: 1, 5: 1, 4: 6, 5456: 1}\n",
            "the past arr is : {1: 1, 2: 1, 45: 1, 55: 1, 5: 1, 4: 6, 5456: 1, 56: 1}\n",
            "the past arr is : {1: 1, 2: 1, 45: 1, 55: 1, 5: 1, 4: 6, 5456: 1, 56: 1, 6: 1}\n",
            "the past arr is : {1: 1, 2: 1, 45: 1, 55: 1, 5: 1, 4: 6, 5456: 1, 56: 1, 6: 1, 7: 1}\n",
            "max occurance number is  4\n",
            "max occurance is  6\n"
          ]
        }
      ]
    },
    {
      "cell_type": "code",
      "source": [
        "\"\"\"\n",
        "Advantages of Sets\n",
        "\n",
        "1-Uniqueness: Sets only contain unique elements. This is a fundamental property of sets in mathematics and computer science. Any duplicate elements are automatically removed when creating or modifying a set.\n",
        "\n",
        "2-Efficient Membership Testing: Checking if an element is present in a set (using the in operator) is very fast. Sets are implemented using hash tables, which provide an average time complexity of O(1) for membership testing.\n",
        "\n",
        "3-Mathematical Set Operations: Python sets support various mathematical set operations like:\n",
        "\n",
        "   1-Union: Combining elements from two or more sets (union() or | operator)\n",
        "   2-Intersection: Finding common elements between sets (intersection() or & operator)\n",
        "   3-Difference: Finding elements present in one set but not in another (difference() or - operator)\n",
        "   4-Symmetric Difference: Finding elements present in either of the sets but not in both (symmetric_difference() or ^ operator)\n",
        "\n",
        "\"\"\""
      ],
      "metadata": {
        "id": "Fm3RUu-yvtAM"
      },
      "execution_count": null,
      "outputs": []
    },
    {
      "cell_type": "code",
      "source": [
        "#Removing Duplicates: Easily remove duplicates from a list or other iterable by converting\n",
        "# it to a set and then back to a list:\n",
        "my_list = [1, 2, 2, 3, 4, 4, 5]\n",
        "unique_list=list(set(my_list))\n",
        "unique_list"
      ],
      "metadata": {
        "colab": {
          "base_uri": "https://localhost:8080/"
        },
        "id": "TEnRdr7GwP71",
        "outputId": "ceff3168-3506-4e92-d29c-9c71a5cca7e1"
      },
      "execution_count": null,
      "outputs": [
        {
          "output_type": "execute_result",
          "data": {
            "text/plain": [
              "[1, 2, 3, 4, 5]"
            ]
          },
          "metadata": {},
          "execution_count": 1
        }
      ]
    },
    {
      "cell_type": "code",
      "source": [
        "my_name=\"hadeer\"\n",
        "print(set(my_name))"
      ],
      "metadata": {
        "colab": {
          "base_uri": "https://localhost:8080/"
        },
        "id": "UIrGhX_uw2dD",
        "outputId": "a2bdb5a5-c578-4ec6-e14a-b2a2755a7409"
      },
      "execution_count": null,
      "outputs": [
        {
          "output_type": "stream",
          "name": "stdout",
          "text": [
            "{'a', 'd', 'h', 'e', 'r'}\n"
          ]
        }
      ]
    },
    {
      "cell_type": "code",
      "source": [
        "#Order Doesn't Matter: Sets are unordered, meaning the elements are not stored in any specific sequence.\n",
        "#If the order of elements is important for your use case, then a list or tuple would be more suitable.\n",
        "x={1,4,9,6,8,8,9,5}\n",
        "print(len(x))\n",
        "for i in range(len(x)):\n",
        "  #TypeError: 'set' object is not subscriptable\n",
        "  print(x[i])\n",
        "for i ,val in enumerate(x):\n",
        "  print(\"index=\",i,\"and value=\",val,end=\" \")"
      ],
      "metadata": {
        "colab": {
          "base_uri": "https://localhost:8080/",
          "height": 237
        },
        "id": "iBUEujZmxKwv",
        "outputId": "dbd51052-74e6-4d2e-9e43-0f3c7cda6bee"
      },
      "execution_count": null,
      "outputs": [
        {
          "output_type": "stream",
          "name": "stdout",
          "text": [
            "6\n"
          ]
        },
        {
          "output_type": "error",
          "ename": "TypeError",
          "evalue": "'set' object is not subscriptable",
          "traceback": [
            "\u001b[0;31m---------------------------------------------------------------------------\u001b[0m",
            "\u001b[0;31mTypeError\u001b[0m                                 Traceback (most recent call last)",
            "\u001b[0;32m<ipython-input-22-3b515b4db3db>\u001b[0m in \u001b[0;36m<cell line: 5>\u001b[0;34m()\u001b[0m\n\u001b[1;32m      4\u001b[0m \u001b[0mprint\u001b[0m\u001b[0;34m(\u001b[0m\u001b[0mlen\u001b[0m\u001b[0;34m(\u001b[0m\u001b[0mx\u001b[0m\u001b[0;34m)\u001b[0m\u001b[0;34m)\u001b[0m\u001b[0;34m\u001b[0m\u001b[0;34m\u001b[0m\u001b[0m\n\u001b[1;32m      5\u001b[0m \u001b[0;32mfor\u001b[0m \u001b[0mi\u001b[0m \u001b[0;32min\u001b[0m \u001b[0mrange\u001b[0m\u001b[0;34m(\u001b[0m\u001b[0mlen\u001b[0m\u001b[0;34m(\u001b[0m\u001b[0mx\u001b[0m\u001b[0;34m)\u001b[0m\u001b[0;34m)\u001b[0m\u001b[0;34m:\u001b[0m\u001b[0;34m\u001b[0m\u001b[0;34m\u001b[0m\u001b[0m\n\u001b[0;32m----> 6\u001b[0;31m   \u001b[0mprint\u001b[0m\u001b[0;34m(\u001b[0m\u001b[0mx\u001b[0m\u001b[0;34m[\u001b[0m\u001b[0mi\u001b[0m\u001b[0;34m]\u001b[0m\u001b[0;34m)\u001b[0m\u001b[0;34m\u001b[0m\u001b[0;34m\u001b[0m\u001b[0m\n\u001b[0m\u001b[1;32m      7\u001b[0m \u001b[0;32mfor\u001b[0m \u001b[0mi\u001b[0m \u001b[0;34m,\u001b[0m\u001b[0mval\u001b[0m \u001b[0;32min\u001b[0m \u001b[0menumerate\u001b[0m\u001b[0;34m(\u001b[0m\u001b[0mx\u001b[0m\u001b[0;34m)\u001b[0m\u001b[0;34m:\u001b[0m\u001b[0;34m\u001b[0m\u001b[0;34m\u001b[0m\u001b[0m\n\u001b[1;32m      8\u001b[0m   \u001b[0mprint\u001b[0m\u001b[0;34m(\u001b[0m\u001b[0;34m\"index=\"\u001b[0m\u001b[0;34m,\u001b[0m\u001b[0mi\u001b[0m\u001b[0;34m,\u001b[0m\u001b[0;34m\"and value=\"\u001b[0m\u001b[0;34m,\u001b[0m\u001b[0mval\u001b[0m\u001b[0;34m,\u001b[0m\u001b[0mend\u001b[0m\u001b[0;34m=\u001b[0m\u001b[0;34m\" \"\u001b[0m\u001b[0;34m)\u001b[0m\u001b[0;34m\u001b[0m\u001b[0;34m\u001b[0m\u001b[0m\n",
            "\u001b[0;31mTypeError\u001b[0m: 'set' object is not subscriptable"
          ]
        }
      ]
    },
    {
      "cell_type": "code",
      "source": [
        "\"\"\"\n",
        "Use Cases\n",
        "\n",
        "1-Removing Duplicates: As mentioned earlier, efficiently removing duplicates from a collection.\n",
        "\n",
        "2-Membership Testing: Quickly checking if an item is part of a larger collection,\n",
        "like checking if a word is in a dictionary or if a user is in a database.\n",
        "\n",
        "3-Mathematical Computations: Performing mathematical set operations,\n",
        " such as finding common users between two websites or identifying differences in datasets.\n",
        "\n",
        "4-Data Validation: Ensuring that data entries are unique, such as validating usernames or product IDs.\n",
        "\n",
        "5-Graph Algorithms: Representing nodes and edges in graphs. Sets can be used to store the neighbors of a node.\n",
        "\n",
        "6-Data Analysis: Analyzing data sets by finding unique elements, common features,\n",
        "and relationships between data points.\n",
        "\"\"\""
      ],
      "metadata": {
        "id": "_9eeZ7N9xjz3"
      },
      "execution_count": null,
      "outputs": []
    },
    {
      "cell_type": "code",
      "source": [
        "\n",
        "def seq_repited (st,ls):\n",
        "  arr={}\n",
        "  for i in range(st,ls+1):\n",
        "    if i not in arr:\n",
        "      x=str(i)\n",
        "      y=set(x)\n",
        "      print(\"y=\",y)\n",
        "      if len(x)>1:\n",
        "       print(\"x=\",x)\n",
        "       if any(x.count(digit) > 1 for digit in set(x)):\n",
        "\n",
        "        arr[i]=i\n",
        "  return arr"
      ],
      "metadata": {
        "id": "or175P2iWnOm"
      },
      "execution_count": null,
      "outputs": []
    },
    {
      "cell_type": "code",
      "source": [
        "out=seq_repited (1,55)\n",
        "out"
      ],
      "metadata": {
        "colab": {
          "base_uri": "https://localhost:8080/"
        },
        "collapsed": true,
        "id": "KLczn578gy7v",
        "outputId": "43ca1c65-7a87-49c5-d968-88f30931ba24"
      },
      "execution_count": null,
      "outputs": [
        {
          "output_type": "stream",
          "name": "stdout",
          "text": [
            "y= {'1'}\n",
            "y= {'2'}\n",
            "y= {'3'}\n",
            "y= {'4'}\n",
            "y= {'5'}\n",
            "y= {'6'}\n",
            "y= {'7'}\n",
            "y= {'8'}\n",
            "y= {'9'}\n",
            "y= {'1', '0'}\n",
            "x= 10\n",
            "y= {'1'}\n",
            "x= 11\n",
            "y= {'2', '1'}\n",
            "x= 12\n",
            "y= {'1', '3'}\n",
            "x= 13\n",
            "y= {'1', '4'}\n",
            "x= 14\n",
            "y= {'1', '5'}\n",
            "x= 15\n",
            "y= {'1', '6'}\n",
            "x= 16\n",
            "y= {'1', '7'}\n",
            "x= 17\n",
            "y= {'1', '8'}\n",
            "x= 18\n",
            "y= {'1', '9'}\n",
            "x= 19\n",
            "y= {'2', '0'}\n",
            "x= 20\n",
            "y= {'2', '1'}\n",
            "x= 21\n",
            "y= {'2'}\n",
            "x= 22\n",
            "y= {'2', '3'}\n",
            "x= 23\n",
            "y= {'2', '4'}\n",
            "x= 24\n",
            "y= {'2', '5'}\n",
            "x= 25\n",
            "y= {'2', '6'}\n",
            "x= 26\n",
            "y= {'2', '7'}\n",
            "x= 27\n",
            "y= {'2', '8'}\n",
            "x= 28\n",
            "y= {'2', '9'}\n",
            "x= 29\n",
            "y= {'3', '0'}\n",
            "x= 30\n",
            "y= {'1', '3'}\n",
            "x= 31\n",
            "y= {'2', '3'}\n",
            "x= 32\n",
            "y= {'3'}\n",
            "x= 33\n",
            "y= {'3', '4'}\n",
            "x= 34\n",
            "y= {'3', '5'}\n",
            "x= 35\n",
            "y= {'3', '6'}\n",
            "x= 36\n",
            "y= {'7', '3'}\n",
            "x= 37\n",
            "y= {'3', '8'}\n",
            "x= 38\n",
            "y= {'3', '9'}\n",
            "x= 39\n",
            "y= {'4', '0'}\n",
            "x= 40\n",
            "y= {'1', '4'}\n",
            "x= 41\n",
            "y= {'2', '4'}\n",
            "x= 42\n",
            "y= {'3', '4'}\n",
            "x= 43\n",
            "y= {'4'}\n",
            "x= 44\n",
            "y= {'4', '5'}\n",
            "x= 45\n",
            "y= {'6', '4'}\n",
            "x= 46\n",
            "y= {'7', '4'}\n",
            "x= 47\n",
            "y= {'4', '8'}\n",
            "x= 48\n",
            "y= {'4', '9'}\n",
            "x= 49\n",
            "y= {'0', '5'}\n",
            "x= 50\n",
            "y= {'1', '5'}\n",
            "x= 51\n",
            "y= {'2', '5'}\n",
            "x= 52\n",
            "y= {'3', '5'}\n",
            "x= 53\n",
            "y= {'4', '5'}\n",
            "x= 54\n",
            "y= {'5'}\n",
            "x= 55\n"
          ]
        },
        {
          "output_type": "execute_result",
          "data": {
            "text/plain": [
              "{11: 11, 22: 22, 33: 33, 44: 44, 55: 55}"
            ]
          },
          "metadata": {},
          "execution_count": 5
        }
      ]
    },
    {
      "cell_type": "code",
      "source": [
        "#1-Repetition: Repeating a string multiple times using the * operator.\n",
        "stars=\"*\"*5\n",
        "print(stars)\n",
        "#2-Concatenation: Combining two or more strings together using the + operator.\n",
        "#Use Cases: Creating full names, joining sentences, building URLs, and formatting messages.\n",
        "full_name=\"hadeer\"+\" \"+\"youssef\"\n",
        "print(full_name)\n",
        "#3-Slicing: Extracting a portion of a string using index values.\n",
        "#Use Cases: Extracting parts of strings, parsing data, manipulating text.\n",
        "my_list = \"hadeer33\"\n",
        "print(my_list[0:3])\n",
        "#4-Membership Testing: Checking if a substring is present in a string using the in operator.\n",
        "#Use Cases: Validating inputs, searching for keywords, checking for patterns.\n",
        "if \"e\" in my_list:\n",
        "  print(\"yes\")\n",
        "\"\"\"\n",
        "String Methods: Python provides a wide range of built-in methods for manipulating strings:\n",
        "len(): Returns the length of a string.\n",
        "upper(), lower(): Converts a string to uppercase or lowercase.\n",
        "strip(): Removes leading and trailing whitespace.\n",
        "split(): Splits a string into a list of substrings based on a delimiter.\n",
        "replace(): Replaces a substring with another substring.\n",
        "find(): Finds the index of a substring.\n",
        "count(): Counts the occurrences of a substring.\n",
        "startswith(), endswith(): Checks if a string starts or ends with a specific substring.\n",
        "isalpha(), isdigit(), isalnum(): Checks if a string contains only letters\n",
        ", digits, or alphanumeric characters.\n",
        "\"\"\"\n",
        "print(my_list.upper())\n",
        "print(my_list.lower())\n",
        "print(my_list.strip())\n",
        "print(len(my_list))\n",
        "print(my_list.replace(\"a\",\"i\"))\n",
        "print(my_list.split())#based on delimiter\n",
        "print(my_list.index(\"e\"))\n",
        "print(my_list.find(\"e\"))\n",
        "print(my_list.count('e'))\n",
        "print(set(my_list))\n",
        "print(my_list)\n",
        "if my_list.startswith(\"h\"):\n",
        "  print(\"yes h\")\n",
        "elif(my_list.endswith(\"r\")):\n",
        "  print(\"yes\")\n",
        "elif(my_list.isalpha()):\n",
        "  print(\"yes\")\n",
        "elif(my_list.isdigit()):\n",
        "  print(\"yes\")\n",
        "elif(my_list.isalnum()):\n",
        "  print(\"yes alnum\")\n",
        "if any(my_list.count(char_v)>1 for char_v in set(my_list)) : # [1, 2, 3, 4, 5]\n",
        "    print(\"yes repited\")\n",
        "else:\n",
        "    print(\"no\")"
      ],
      "metadata": {
        "colab": {
          "base_uri": "https://localhost:8080/"
        },
        "collapsed": true,
        "id": "m-QLGi2fqVcC",
        "outputId": "d6063dbc-7b59-4132-ccfa-1fac8aed0a9b"
      },
      "execution_count": null,
      "outputs": [
        {
          "output_type": "stream",
          "name": "stdout",
          "text": [
            "*****\n",
            "hadeer youssef\n",
            "had\n",
            "yes\n",
            "HADEER33\n",
            "hadeer33\n",
            "hadeer33\n",
            "8\n",
            "hideer33\n",
            "['hadeer33']\n",
            "3\n",
            "3\n",
            "2\n",
            "{'e', 'r', '3', 'd', 'a', 'h'}\n",
            "hadeer33\n",
            "yes h\n",
            "yes repited\n"
          ]
        }
      ]
    },
    {
      "cell_type": "code",
      "source": [
        "\"\"\"\n",
        "Use Cases for Strings in General\n",
        "\n",
        "Representing Textual Data: Strings are the fundamental data type for storing and\n",
        "manipulating text in programs.\n",
        "\n",
        "Input and Output: Handling user input and displaying information to the user.\n",
        "\n",
        "Data Storage and Retrieval: Storing data in files or databases, often as text or JSON.\n",
        "\n",
        "Web Development: Building websites and web applications, where strings are used for HTML\n",
        "content, URLs, and communication with servers.\n",
        "\n",
        "Data Processing: Manipulating and cleaning textual data, such as parsing CSV files or\n",
        " extracting information from documents.\n",
        "\n",
        "Natural Language Processing: Working with human language, including tasks like text analysis,\n",
        "sentiment analysis, and machine translation.\n",
        "\n",
        "\n",
        "\"\"\""
      ],
      "metadata": {
        "id": "JUuqtQvb1Eac"
      },
      "execution_count": null,
      "outputs": []
    },
    {
      "cell_type": "markdown",
      "metadata": {
        "id": "0f0hNssHU_2e"
      },
      "source": [
        "### list of list -- Nested list"
      ]
    },
    {
      "cell_type": "code",
      "execution_count": null,
      "metadata": {
        "id": "bhPAyBv1U_2e",
        "colab": {
          "base_uri": "https://localhost:8080/"
        },
        "outputId": "59398ca0-97ca-4701-d298-57dd120cd4fc"
      },
      "outputs": [
        {
          "output_type": "stream",
          "name": "stdout",
          "text": [
            "[[1, 2], [10, 20, 22], [100, 200]]\n"
          ]
        }
      ],
      "source": [
        "lst=[[1,2],\n",
        "     [10,20,22],\n",
        "     [100,200]]\n",
        "\n",
        "print(lst)"
      ]
    },
    {
      "cell_type": "code",
      "source": [
        "print(lst[1])\n",
        "## print 2\n",
        "print(lst[0][1])\n",
        "\n",
        "## print 100\n",
        "print(lst[2][0])\n",
        "print(lst[-1][0])"
      ],
      "metadata": {
        "colab": {
          "base_uri": "https://localhost:8080/"
        },
        "id": "zhxkjOLHS6Z6",
        "outputId": "bf981373-a9d0-4416-dc16-c4fdf1c84944"
      },
      "execution_count": null,
      "outputs": [
        {
          "output_type": "stream",
          "name": "stdout",
          "text": [
            "[10, 20, 22]\n",
            "2\n",
            "100\n",
            "100\n"
          ]
        }
      ]
    },
    {
      "cell_type": "code",
      "source": [
        "lst1=[13,[1000,2000,30000], \"A7\"]\n",
        "## print 200\n",
        "print(lst1[1][1])"
      ],
      "metadata": {
        "colab": {
          "base_uri": "https://localhost:8080/"
        },
        "id": "NKoygZEUfsVg",
        "outputId": "9a9e7c93-0f4e-4b77-f532-c708b3c3b485"
      },
      "execution_count": null,
      "outputs": [
        {
          "output_type": "stream",
          "name": "stdout",
          "text": [
            "2000\n"
          ]
        }
      ]
    },
    {
      "cell_type": "code",
      "source": [
        "print(lst1)"
      ],
      "metadata": {
        "colab": {
          "base_uri": "https://localhost:8080/"
        },
        "id": "HsQMnC_Y0-vu",
        "outputId": "4a2693c9-a5ad-4efb-fa81-0adf97a48bc1"
      },
      "execution_count": null,
      "outputs": [
        {
          "output_type": "stream",
          "name": "stdout",
          "text": [
            "[13, [1000, 2000, 30000], 'A7']\n"
          ]
        }
      ]
    },
    {
      "cell_type": "markdown",
      "metadata": {
        "id": "7mcS4odBU_2e"
      },
      "source": [
        "### Loops\n",
        "\n",
        "- Loops are used to execute a set of statements repeatedly until a particular condition is satisfied.\n",
        "- Loops (repeated steps) have iteration variables that change each time through a loop.  \n",
        "- Often these iteration variables go through a sequence of numbers.\n",
        "<br><br>\n",
        "- There are __two__ types of loops in Python, __for__ and __while__.\n",
        "<br><br>\n",
        "- __break__ is used to exit a for loop or a while loop,\n",
        "- __continue__ is used to skip the current block, and return to the \"for\" or \"while\" statement.\n"
      ]
    },
    {
      "cell_type": "code",
      "execution_count": null,
      "metadata": {
        "id": "9CoUuvj9U_2e",
        "colab": {
          "base_uri": "https://localhost:8080/"
        },
        "outputId": "3d8361f6-7964-481b-8071-bee3f6b0856f"
      },
      "outputs": [
        {
          "output_type": "stream",
          "name": "stdout",
          "text": [
            "0 1 2 3 4 5 6 7 8 9 --------\n",
            "\n",
            "0 1 2 3 4 5 6 7 8 9 10 11 12 13 14 15 16 17 18 19 \n",
            "\n",
            "0 1 2 3 4 \n",
            "\n",
            "3 4 5 \n",
            "\n",
            "3 5 7 "
          ]
        }
      ],
      "source": [
        "# Prints out the numbers 0,1,2,3,4 using loop\n",
        "lst=['A', 2, 10, True]\n",
        "\n",
        "for i in range(10):\n",
        "    print(i, end=\" \")\n",
        "print('--------\\n')\n",
        "\n",
        "for i in range(20):\n",
        "    print(i, end=\" \")\n",
        "# print the numbers from 0 to 8\n",
        "# default value start=0\n",
        "# default value step=1\n",
        "\n",
        "print(\"\\n\")\n",
        "\n",
        "for x in range(5):\n",
        "    print(x, end=\" \")\n",
        "\n",
        "print(\"\\n\")\n",
        "\n",
        "# Prints out 3,4,5\n",
        "for x in range(3, 6):\n",
        "    print(x, end=\" \")\n",
        "\n",
        "print(\"\\n\")\n",
        "\n",
        "# Prints out 3,5,7\n",
        "for x in range(3, 8, 2):\n",
        "    print(x, end=\" \")\n"
      ]
    },
    {
      "cell_type": "code",
      "execution_count": null,
      "metadata": {
        "id": "_CSq6DKUU_2e",
        "colab": {
          "base_uri": "https://localhost:8080/"
        },
        "outputId": "a2d91b05-7f5d-487b-e054-4511490c9c00"
      },
      "outputs": [
        {
          "output_type": "stream",
          "name": "stdout",
          "text": [
            "2 3 5 7 5 10 \n",
            "\n",
            "2 3 5 7 5 10 \n",
            "-----\n",
            "2 3 5 7 5 10 \n",
            "-----\n",
            "item  0 2 item  1 3 item  2 5 item  3 7 item  4 5 item  5 10 "
          ]
        }
      ],
      "source": [
        "primes = [2, 3, 5, 7,5,10]\n",
        "# method 1\n",
        "for i in range(len(primes)):\n",
        "    print(primes[i],end=\" \")\n",
        "\n",
        "print(\"\\n\")\n",
        "# method 2\n",
        "for p in primes:\n",
        "    print(p,end=\" \")\n",
        "\n",
        "print('\\n-----')\n",
        "## foreach\n",
        "for p in primes:\n",
        "    print(p,end=\" \")\n",
        "print('\\n-----')\n",
        "###\n",
        "ind=0\n",
        "for p in primes:\n",
        "    print('item ',ind,p,end=\" \")\n",
        "    ind=ind+1\n",
        "###\n",
        "\n"
      ]
    },
    {
      "cell_type": "code",
      "source": [
        "print('-------------------------------')\n",
        "for index,val in enumerate(primes):\n",
        "    print('item ',index,val ,end=\" \")\n",
        "print(\"\\n--------------\")\n",
        "for ind, p in enumerate(primes, start=100):\n",
        "    print('item ',ind,p)"
      ],
      "metadata": {
        "colab": {
          "base_uri": "https://localhost:8080/"
        },
        "id": "DT3HvSVJ0ZLm",
        "outputId": "0bfeb2f5-5ab5-4e1f-97e2-6c731c5b35e6"
      },
      "execution_count": null,
      "outputs": [
        {
          "output_type": "stream",
          "name": "stdout",
          "text": [
            "-------------------------------\n",
            "item  0 2 item  1 3 item  2 5 item  3 7 item  4 5 item  5 10 \n",
            "--------------\n",
            "item  100 2\n",
            "item  101 3\n",
            "item  102 5\n",
            "item  103 7\n",
            "item  104 5\n",
            "item  105 10\n"
          ]
        }
      ]
    },
    {
      "cell_type": "code",
      "execution_count": null,
      "metadata": {
        "id": "zBHEP4T6U_2e",
        "colab": {
          "base_uri": "https://localhost:8080/"
        },
        "outputId": "e96f8efd-3f41-48c7-8eac-1a7889c8cf6d"
      },
      "outputs": [
        {
          "output_type": "stream",
          "name": "stdout",
          "text": [
            "Ahmad Mohammad Sami Mona Norah Fahad Majed \n",
            "---------\n",
            "Ahmad Mohammad Sami Mona Norah Fahad Majed "
          ]
        }
      ],
      "source": [
        "names = [\"Ahmad\", \"Mohammad\", \"Sami\", \"Mona\", \"Norah\", \"Fahad\", \"Majed\"]\n",
        "for i in range(len(names)):\n",
        "    print(names[i],end=\" \")\n",
        "print(\"\\n---------\")\n",
        "for name in names:\n",
        "    print(name,end=\" \")"
      ]
    },
    {
      "cell_type": "markdown",
      "metadata": {
        "id": "GPDxQFEkU_2f"
      },
      "source": [
        "### Write a code to print the occurance of each item in the blist"
      ]
    },
    {
      "cell_type": "code",
      "execution_count": null,
      "metadata": {
        "id": "3l4PyOINU_2f",
        "colab": {
          "base_uri": "https://localhost:8080/"
        },
        "outputId": "047a113f-d9d4-44cc-ad76-829590ebff3b"
      },
      "outputs": [
        {
          "output_type": "stream",
          "name": "stdout",
          "text": [
            " occurance of item: 1 is : 3\n",
            " occurance of item: 2 is : 1\n",
            " occurance of item: 3 is : 2\n",
            " occurance of item: 4 is : 1\n"
          ]
        },
        {
          "output_type": "execute_result",
          "data": {
            "text/plain": [
              "{1: 3, 2: 1, 3: 2, 4: 1}"
            ]
          },
          "metadata": {},
          "execution_count": 26
        }
      ],
      "source": [
        "blist = [1, 1, 1, 2, 3, 4,3]\n",
        "arr={}\n",
        "for n in blist:\n",
        "     if n not in arr:\n",
        "      arr[n]=blist.count(n)\n",
        "      print(' occurance of item:',n,'is :', blist.count(n))\n",
        "arr"
      ]
    },
    {
      "cell_type": "markdown",
      "metadata": {
        "id": "IipfAmfjU_2f"
      },
      "source": [
        "## in - not in keywords"
      ]
    },
    {
      "cell_type": "code",
      "execution_count": null,
      "metadata": {
        "id": "dfBuo4T5U_2f",
        "colab": {
          "base_uri": "https://localhost:8080/"
        },
        "outputId": "8cd8e8f5-2f27-4982-d141-eb0b67849882"
      },
      "outputs": [
        {
          "output_type": "stream",
          "name": "stdout",
          "text": [
            "False\n"
          ]
        }
      ],
      "source": [
        "clist=[1,4, 5, 10]\n",
        "## check if the element 1 and 0 is exist in clist\n",
        "res=1000 in clist\n",
        "print(res)"
      ]
    },
    {
      "cell_type": "code",
      "execution_count": null,
      "metadata": {
        "id": "ofDgmkHQU_2f",
        "colab": {
          "base_uri": "https://localhost:8080/"
        },
        "outputId": "50645137-c6a3-4de6-ca30-59d2c6bf2385"
      },
      "outputs": [
        {
          "output_type": "stream",
          "name": "stdout",
          "text": [
            "True\n"
          ]
        }
      ],
      "source": [
        "res1= 8 not in clist\n",
        "print(res1)"
      ]
    },
    {
      "cell_type": "markdown",
      "metadata": {
        "id": "Y-bfxYAyU_2f"
      },
      "source": [
        "### What is the drawback of the code above?"
      ]
    },
    {
      "cell_type": "code",
      "execution_count": null,
      "metadata": {
        "id": "ekTlXSttU_2f",
        "colab": {
          "base_uri": "https://localhost:8080/"
        },
        "outputId": "979ad94f-5659-408c-9565-908fb656f11f"
      },
      "outputs": [
        {
          "output_type": "stream",
          "name": "stdout",
          "text": [
            "occurance of element: 1 4\n",
            "occurance of element: 3 1\n",
            "occurance of element: 4 2\n",
            "occurance of element: 5 2\n",
            "occurance of element: 10 1\n",
            "lst1 [1, 3, 4, 5, 10]\n"
          ]
        }
      ],
      "source": [
        "def print_occruance(lst):\n",
        "    lst1=[]\n",
        "    for e in lst:\n",
        "       # isExist= e in lst1\n",
        "        if e not in lst1:\n",
        "            print('occurance of element:',e,lst.count(e))\n",
        "            lst1.append(e)\n",
        "    print(\"lst1\",lst1)\n",
        "print_occruance([1,1,3,4,4,5,5,1,10,1])"
      ]
    },
    {
      "cell_type": "markdown",
      "metadata": {
        "id": "loCgauiLU_2f"
      },
      "source": [
        "### zip funciton\n",
        "\n",
        "- Join two list or tuples together:\n"
      ]
    },
    {
      "cell_type": "code",
      "execution_count": null,
      "metadata": {
        "id": "_67p8DILU_2f",
        "colab": {
          "base_uri": "https://localhost:8080/"
        },
        "outputId": "ed218047-b32b-4881-a860-88dc53fb10a1"
      },
      "outputs": [
        {
          "output_type": "stream",
          "name": "stdout",
          "text": [
            "[(1, 'a'), (2, 'b'), (3, 'c'), (4, 'r'), (4, 'd')]\n"
          ]
        }
      ],
      "source": [
        "# Example lists\n",
        "list1 = [1, 2, 3,4,4]\n",
        "list2 = ['a', 'b', 'c',\"r\",\"d\"]\n",
        "# mapping\n",
        "# Zipping the lists\n",
        "\n",
        "print(list(zip(list1, list2)))"
      ]
    },
    {
      "cell_type": "code",
      "source": [
        "\n",
        "zipped_list = list(zip(list1, list2))\n",
        "\n",
        "# Printing the zipped list\n",
        "print(zipped_list)"
      ],
      "metadata": {
        "colab": {
          "base_uri": "https://localhost:8080/"
        },
        "id": "ylxKw2IuXNSJ",
        "outputId": "1e1d5a6b-ffc8-4963-d7ea-dedf60e15b75"
      },
      "execution_count": null,
      "outputs": [
        {
          "output_type": "stream",
          "name": "stdout",
          "text": [
            "[(1, 'a'), (2, 'b'), (3, 'c'), (4, 'r'), (4, 'd')]\n"
          ]
        }
      ]
    },
    {
      "cell_type": "code",
      "execution_count": null,
      "metadata": {
        "id": "8n6wL9kAU_2f",
        "colab": {
          "base_uri": "https://localhost:8080/"
        },
        "outputId": "893181ae-5be3-4ecd-bd58-504269179b90"
      },
      "outputs": [
        {
          "output_type": "stream",
          "name": "stdout",
          "text": [
            "(1, 2, 3, 4, 4) ('a', 'b', 'c', 'r', 'd')\n",
            "[1, 2, 3, 4, 4]\n",
            "['a', 'b', 'c', 'r', 'd']\n"
          ]
        }
      ],
      "source": [
        "# Unzipping the list\n",
        "unzipped_list1, unzipped_list2 = zip(*zipped_list)\n",
        "l1,l2=zip(*zipped_list)\n",
        "print(l1,l2)\n",
        "# Converting tuples back to lists\n",
        "unzipped_list1 = list(unzipped_list1)\n",
        "unzipped_list2 = list(unzipped_list2)\n",
        "\n",
        "# Printing the unzipped lists\n",
        "print(unzipped_list1)\n",
        "print(unzipped_list2)"
      ]
    },
    {
      "cell_type": "code",
      "execution_count": null,
      "metadata": {
        "id": "47hw0ZpQU_2f",
        "colab": {
          "base_uri": "https://localhost:8080/"
        },
        "outputId": "15adc3fa-71a1-41b8-e197-5081233fc5bc"
      },
      "outputs": [
        {
          "output_type": "stream",
          "name": "stdout",
          "text": [
            "<zip object at 0x793d20527b00>\n",
            "(1, 'A', [1, 2])\n",
            "(2, 'B', [3, 4])\n",
            "(3, 'C', [5, 6])\n",
            "(4, 'D', [3, 14])\n"
          ]
        }
      ],
      "source": [
        "lst1=[1,2,3,4]\n",
        "lst2=['A', 'B', 'C', 'D']\n",
        "lst3=[[1,2],[3,4],[5,6],[3,14]]\n",
        "zipped=zip(lst1,lst2,lst3)\n",
        "print(zipped)\n",
        "for row in zipped:\n",
        "    print(row)"
      ]
    },
    {
      "cell_type": "code",
      "execution_count": null,
      "metadata": {
        "id": "7abPYvWcU_2g",
        "colab": {
          "base_uri": "https://localhost:8080/"
        },
        "outputId": "a9d42e68-737e-4284-d726-31bfba70b68e"
      },
      "outputs": [
        {
          "output_type": "stream",
          "name": "stdout",
          "text": [
            "('x', 3)\n",
            "('y', 4)\n",
            "('z', 5)\n"
          ]
        }
      ],
      "source": [
        "coordinate = ['x', 'y', 'z']\n",
        "value = [3, 4, 5]\n",
        "zipped=zip(coordinate, value)\n",
        "## convert to list\n",
        "for i in zipped:\n",
        "   print(i)\n",
        "\n",
        "#print(l)\n"
      ]
    },
    {
      "cell_type": "code",
      "source": [
        "coordinate = ['x', 'y', 'z']\n",
        "value = [3, 4, 5]\n",
        "zipped=zip(coordinate, value)\n",
        "l=list(zipped)\n",
        "print(l)"
      ],
      "metadata": {
        "colab": {
          "base_uri": "https://localhost:8080/"
        },
        "id": "9i9f60Op-V1l",
        "outputId": "6a6bb1cf-a80b-4328-cf9a-f0fc377b1ab3"
      },
      "execution_count": null,
      "outputs": [
        {
          "output_type": "stream",
          "name": "stdout",
          "text": [
            "[('x', 3), ('y', 4), ('z', 5)]\n"
          ]
        }
      ]
    },
    {
      "cell_type": "code",
      "execution_count": null,
      "metadata": {
        "id": "H7VOYUGyU_2g",
        "colab": {
          "base_uri": "https://localhost:8080/"
        },
        "outputId": "3da71507-5db6-4875-c9e2-d8b054916775"
      },
      "outputs": [
        {
          "output_type": "stream",
          "name": "stdout",
          "text": [
            "('x', 'y', 'z')\n",
            "(3, 4, 5)\n"
          ]
        }
      ],
      "source": [
        "coordinate = ['x', 'y', 'z']\n",
        "value = [3, 4, 5]\n",
        "zipped=zip(coordinate, value)\n",
        "c, v=zip(*zipped)\n",
        "print(c)\n",
        "print(v)"
      ]
    },
    {
      "cell_type": "markdown",
      "metadata": {
        "id": "so-YRv08U_2g"
      },
      "source": [
        "### zip- Iterate over two lists in parallel"
      ]
    },
    {
      "cell_type": "code",
      "execution_count": null,
      "metadata": {
        "id": "Is_h4DUkU_2g",
        "colab": {
          "base_uri": "https://localhost:8080/"
        },
        "outputId": "70f1f637-d150-4e9e-c41c-5f2eeab611f6"
      },
      "outputs": [
        {
          "output_type": "stream",
          "name": "stdout",
          "text": [
            "30\n",
            "100\n",
            "240\n",
            "---------------\n",
            "30\n",
            "100\n",
            "240\n",
            "---------------\n",
            "index: 1 30\n",
            "index: 2 100\n",
            "index: 3 240\n"
          ]
        }
      ],
      "source": [
        "alist = ['a1', 'a2', 'a3']\n",
        "blist = ['b1', 'b2', 'b3']\n",
        "\n",
        "aa=[3,5,8]\n",
        "bb=[10,20,30,9]\n",
        "### method 1\n",
        "for i in range(len(aa)):\n",
        "    print(aa[i]*bb[i])\n",
        "\n",
        "print('---------------')\n",
        "## method 2\n",
        "\n",
        "for a, b in zip(aa,bb):\n",
        "    print(a*b)\n",
        "\n",
        "print('---------------')\n",
        "for ind, (a, b) in enumerate(zip(aa,bb),start=1):\n",
        "    print('index:',ind, a*b)"
      ]
    },
    {
      "cell_type": "code",
      "source": [
        "for index,[a,b] in enumerate(zip(aa,bb),start=2):\n",
        "  print(\"index=\",index,\"values=\",a*b)"
      ],
      "metadata": {
        "colab": {
          "base_uri": "https://localhost:8080/"
        },
        "id": "0SoEMpp3ANk1",
        "outputId": "0b7e933d-7825-4e54-dca2-18a0ba7c37f2"
      },
      "execution_count": null,
      "outputs": [
        {
          "output_type": "stream",
          "name": "stdout",
          "text": [
            "index= 2 values= 30\n",
            "index= 3 values= 100\n",
            "index= 4 values= 240\n"
          ]
        }
      ]
    },
    {
      "cell_type": "code",
      "source": [
        "for a,b in zip(aa,bb):\n",
        "  print(a*b)"
      ],
      "metadata": {
        "colab": {
          "base_uri": "https://localhost:8080/"
        },
        "id": "OGcYnP_vAC8F",
        "outputId": "c87c4b9f-2719-4b7e-9409-5d04cda20a51"
      },
      "execution_count": null,
      "outputs": [
        {
          "output_type": "stream",
          "name": "stdout",
          "text": [
            "30\n",
            "100\n",
            "240\n"
          ]
        }
      ]
    },
    {
      "cell_type": "markdown",
      "metadata": {
        "id": "FRDAcZxWU_2g"
      },
      "source": [
        "### What if we need indexes?\n",
        "\n",
        "- Python’s built-in __enumerate__ function allows us to loop over a list and retrieve both the index and the value of each item in the list:"
      ]
    },
    {
      "cell_type": "code",
      "execution_count": null,
      "metadata": {
        "id": "G3uoEA5GU_2h",
        "colab": {
          "base_uri": "https://localhost:8080/"
        },
        "outputId": "93f5b9bb-f560-4e8a-abc6-554fc72c37b3",
        "collapsed": true
      },
      "outputs": [
        {
          "output_type": "stream",
          "name": "stdout",
          "text": [
            "['Ahmad', 'Mohammad', 'Sami', 'Mona', 'Norah', 'Fahad', 'Majed']\n",
            "student: 1 : AHMAD\n",
            "student: 2 : MOHAMMAD\n",
            "student: 3 : SAMI\n",
            "student: 4 : MONA\n",
            "student: 5 : NORAH\n",
            "student: 6 : FAHAD\n",
            "student: 7 : MAJED\n",
            "\n",
            "student: 1 : Ahmad\n",
            "student: 2 : Mohammad\n",
            "student: 3 : Sami\n",
            "student: 4 : Mona\n",
            "student: 5 : Norah\n",
            "student: 6 : Fahad\n",
            "student: 7 : Majed\n"
          ]
        }
      ],
      "source": [
        "\n",
        "names = [\"Ahmad\", \"Mohammad\", \"Sami\", \"Mona\", \"Norah\", \"Fahad\", \"Majed\"]\n",
        "print(names)\n",
        "i=1\n",
        "for name in names:\n",
        "    print('student:',i,':', name.upper())\n",
        "    i+=1\n",
        "\n",
        "print()\n",
        "\n",
        "for ind, name in enumerate(names, start=1):\n",
        "    print('student:',ind,':', name)\n"
      ]
    },
    {
      "cell_type": "markdown",
      "metadata": {
        "id": "6gobJw93U_2h"
      },
      "source": [
        "####  A while loop statement in Python programming language repeatedly executes a target statement as long as a given condition is true."
      ]
    },
    {
      "cell_type": "code",
      "source": [
        "count=0\n",
        "while count<4:\n",
        "   print(count)\n",
        "   count+=1"
      ],
      "metadata": {
        "colab": {
          "base_uri": "https://localhost:8080/"
        },
        "id": "TT1-5CrkCBl3",
        "outputId": "ee9b4fd0-0e70-4daf-a761-87f663292f1f"
      },
      "execution_count": null,
      "outputs": [
        {
          "output_type": "stream",
          "name": "stdout",
          "text": [
            "0\n",
            "1\n",
            "2\n",
            "3\n"
          ]
        }
      ]
    },
    {
      "cell_type": "code",
      "execution_count": null,
      "metadata": {
        "id": "UVTl074IU_2h",
        "colab": {
          "base_uri": "https://localhost:8080/"
        },
        "outputId": "9bb1b63a-c9aa-492f-fcca-442ed0004762"
      },
      "outputs": [
        {
          "output_type": "stream",
          "name": "stdout",
          "text": [
            "The count is: 0\n",
            "The count is: 1\n",
            "The count is: 2\n",
            "The count is: 3\n",
            "The count is: 4\n",
            "The count is: 5\n",
            "The count is: 6\n",
            "The count is: 7\n",
            "The count is: 8\n",
            "The count is: 9\n"
          ]
        }
      ],
      "source": [
        "count = 0\n",
        "while (count <= 9):\n",
        "    print ('The count is:', count)\n",
        "    count = count + 1"
      ]
    },
    {
      "cell_type": "code",
      "execution_count": null,
      "metadata": {
        "id": "bWjwiZvSU_2h",
        "colab": {
          "base_uri": "https://localhost:8080/"
        },
        "outputId": "49d5610e-b85a-4955-feb4-a4f8f6257355"
      },
      "outputs": [
        {
          "output_type": "stream",
          "name": "stdout",
          "text": [
            "2\n",
            "3\n",
            "4\n",
            "5\n"
          ]
        }
      ],
      "source": [
        "i=2\n",
        "while i<10:\n",
        "    print(i)\n",
        "    if i==5:\n",
        "        break\n",
        "    i=i+1\n"
      ]
    },
    {
      "cell_type": "code",
      "execution_count": null,
      "metadata": {
        "id": "BT9DLAeQU_2h",
        "colab": {
          "base_uri": "https://localhost:8080/"
        },
        "outputId": "f7b2b717-4595-467f-e928-a7d29164318c"
      },
      "outputs": [
        {
          "output_type": "stream",
          "name": "stdout",
          "text": [
            "3\n",
            "4\n",
            "6\n",
            "7\n",
            "8\n",
            "9\n",
            "10\n"
          ]
        }
      ],
      "source": [
        "i=2\n",
        "while i<10:\n",
        "    i=i+1\n",
        "    if i==5:\n",
        "        continue\n",
        "    print(i)"
      ]
    },
    {
      "cell_type": "code",
      "source": [
        "j=5\n",
        "while j:\n",
        "\n",
        "    j-=1\n",
        "    if j==2:\n",
        "      continue\n",
        "    print(j)\n"
      ],
      "metadata": {
        "colab": {
          "base_uri": "https://localhost:8080/"
        },
        "id": "OqLSXWqRCi59",
        "outputId": "3a650016-6efe-426c-ac98-88ea36c1359b"
      },
      "execution_count": null,
      "outputs": [
        {
          "output_type": "stream",
          "name": "stdout",
          "text": [
            "4\n",
            "3\n",
            "1\n",
            "0\n"
          ]
        }
      ]
    },
    {
      "cell_type": "code",
      "execution_count": null,
      "metadata": {
        "id": "hMgKiJ42U_2h",
        "colab": {
          "base_uri": "https://localhost:8080/"
        },
        "outputId": "c9d6b6dc-eed1-4e29-f003-d86b0f49bb72"
      },
      "outputs": [
        {
          "output_type": "stream",
          "name": "stdout",
          "text": [
            "15\n",
            "14\n",
            "13\n",
            "12\n",
            "11\n",
            "10\n"
          ]
        }
      ],
      "source": [
        "j=15\n",
        "while j:\n",
        "    print(j)\n",
        "    if j==10:\n",
        "        break\n",
        "    j=j-1\n"
      ]
    },
    {
      "cell_type": "markdown",
      "metadata": {
        "id": "S41K88u0U_2h"
      },
      "source": [
        "### sets\n",
        "<font size=\"4\">\n",
        "- A set is an unordered collection of items. Every set element is unique (no duplicates)\n",
        "\n",
        "- In Python, sets are written with curly brackets.\n",
        "</font>"
      ]
    },
    {
      "cell_type": "code",
      "execution_count": null,
      "metadata": {
        "id": "f7HEq7BGU_2h"
      },
      "outputs": [],
      "source": [
        "lst=[1,2,1,2,3]\n"
      ]
    },
    {
      "cell_type": "code",
      "execution_count": null,
      "metadata": {
        "id": "whQmoPalU_2h",
        "colab": {
          "base_uri": "https://localhost:8080/"
        },
        "outputId": "516b1eed-a9db-45ec-a8d7-dc978ad2c3f2"
      },
      "outputs": [
        {
          "output_type": "stream",
          "name": "stdout",
          "text": [
            "<class 'set'>\n",
            "<class 'set'>\n",
            "{1, 2, 3, 5, (3, 80), frozenset({80, 3})}\n"
          ]
        }
      ],
      "source": [
        "##empty list\n",
        "lst100=[]\n",
        "lst101=list()\n",
        "\n",
        "##empty set\n",
        "setB=set()\n",
        "print(type(setB))\n",
        "\n",
        "# create a set consists of 12,45,55\n",
        "setA= {3,2,1}\n",
        "print(type(setA))\n",
        "\n",
        "# add new element 100 to the set\n",
        "setA.add(5)\n",
        "\"\"\"\n",
        "The error message \"TypeError: unhashable type: 'list'\" indicates that you are trying\n",
        "to add a list [3,8] as an element to the set setA. Sets in Python require their elements to be hashable,\n",
        "meaning they need a hash value that remains constant during their lifetime\n",
        "Lists are mutable and thus not hashable, leading to this error. This is why setA.add([3,8]) fails.\n",
        "\"\"\"\n",
        "#setA.add([3,80]) error\n",
        "#setA.add({3,80}) error\n",
        "\"\"\"\n",
        "The error \"TypeError: unhashable type: 'set'\" arises because you are attempting to add a set ({3, 80})\n",
        "as an element to another set (setA). In Python, sets can only contain hashable elements,\n",
        " which means the elements must be immutable (unchangeable).\n",
        "Sets themselves are mutable and therefore not hashable. This is why you cannot have a set within another set.\n",
        "\"\"\"\n",
        "# Option 2: Use frozenset (immutable set)\n",
        "setA.add(frozenset({3, 80})) # frozenset is immutable and can be added to a set\n",
        "setA.add((3,80))\n",
        "\n",
        "print(setA)"
      ]
    },
    {
      "cell_type": "code",
      "execution_count": null,
      "metadata": {
        "id": "ndgrXEMEU_2h",
        "colab": {
          "base_uri": "https://localhost:8080/"
        },
        "outputId": "2fd40daf-7108-4209-9fe7-793b4ea3483a"
      },
      "outputs": [
        {
          "output_type": "stream",
          "name": "stdout",
          "text": [
            "[1, 2, 3, 4]\n",
            "[{1, 2, 3, 4}, 1, 'a']\n",
            "{1, 2, 3, 4}\n"
          ]
        }
      ],
      "source": [
        "##convert from set to list\n",
        "set200={1,2,3,4}\n",
        "lst200=list(set200)\n",
        "print(lst200)\n",
        "\n",
        "set300={1,2,3,4}\n",
        "lst300=[set300, 1, \"a\"]\n",
        "\n",
        "print(lst300)\n",
        "print(lst300[0])"
      ]
    },
    {
      "cell_type": "code",
      "execution_count": null,
      "metadata": {
        "id": "0wD4MRyzU_2h",
        "colab": {
          "base_uri": "https://localhost:8080/"
        },
        "outputId": "f37dae1b-558c-402e-f987-e4b3031e7503"
      },
      "outputs": [
        {
          "output_type": "stream",
          "name": "stdout",
          "text": [
            "{1.0, (1, 2, 3), 'Hello'}\n"
          ]
        }
      ],
      "source": [
        "# Different types of sets in Python\n",
        "# set of integers\n",
        "my_set = {1, 2, 3}\n",
        "\n",
        "\n",
        "# set of mixed datatypes\n",
        "my_set = {1.0, \"Hello\", (1, 2, 3)}\n",
        "print(my_set)"
      ]
    },
    {
      "cell_type": "markdown",
      "metadata": {
        "id": "xLu_ALgWU_2i"
      },
      "source": []
    },
    {
      "cell_type": "code",
      "execution_count": null,
      "metadata": {
        "id": "iJ7ZZUvPU_2i",
        "colab": {
          "base_uri": "https://localhost:8080/"
        },
        "outputId": "1cba2676-c35a-44ce-afb6-3f87a9b5cf88"
      },
      "outputs": [
        {
          "output_type": "stream",
          "name": "stdout",
          "text": [
            "{1, 3, 4, 5, 6}\n",
            "{1, 3, 4, 5, 6, 10}\n",
            "{1, 4, 5, 6, 10}\n",
            "{1, 4, 5, 6, 10}\n"
          ]
        }
      ],
      "source": [
        "# Difference between discard() and remove()\n",
        "\n",
        "# initialize my_set\n",
        "my_set = {1, 3, 4, 5, 6}\n",
        "print(my_set)\n",
        "\n",
        "## add 10 to set\n",
        "my_set.add(10)\n",
        "print(my_set)\n",
        "\n",
        "# discard an element\n",
        "my_set.discard(3)\n",
        "print(my_set)\n",
        "my_set.discard(200)\n",
        "print(my_set)"
      ]
    },
    {
      "cell_type": "code",
      "source": [
        "# remove an element\n",
        "my_set.remove(6)\n",
        "print(my_set)\n",
        "\n",
        "my_set.remove(600)\n",
        "print(my_set)"
      ],
      "metadata": {
        "colab": {
          "base_uri": "https://localhost:8080/",
          "height": 219
        },
        "id": "VvQ-M5X_lVEi",
        "outputId": "5b1865d3-ad50-46b3-be12-8f0f796ea5ae"
      },
      "execution_count": null,
      "outputs": [
        {
          "output_type": "stream",
          "name": "stdout",
          "text": [
            "{1, 4, 5, 10}\n"
          ]
        },
        {
          "output_type": "error",
          "ename": "KeyError",
          "evalue": "600",
          "traceback": [
            "\u001b[0;31m---------------------------------------------------------------------------\u001b[0m",
            "\u001b[0;31mKeyError\u001b[0m                                  Traceback (most recent call last)",
            "\u001b[0;32m<ipython-input-125-6ced5108439d>\u001b[0m in \u001b[0;36m<cell line: 5>\u001b[0;34m()\u001b[0m\n\u001b[1;32m      3\u001b[0m \u001b[0mprint\u001b[0m\u001b[0;34m(\u001b[0m\u001b[0mmy_set\u001b[0m\u001b[0;34m)\u001b[0m\u001b[0;34m\u001b[0m\u001b[0;34m\u001b[0m\u001b[0m\n\u001b[1;32m      4\u001b[0m \u001b[0;34m\u001b[0m\u001b[0m\n\u001b[0;32m----> 5\u001b[0;31m \u001b[0mmy_set\u001b[0m\u001b[0;34m.\u001b[0m\u001b[0mremove\u001b[0m\u001b[0;34m(\u001b[0m\u001b[0;36m600\u001b[0m\u001b[0;34m)\u001b[0m\u001b[0;34m\u001b[0m\u001b[0;34m\u001b[0m\u001b[0m\n\u001b[0m\u001b[1;32m      6\u001b[0m \u001b[0mprint\u001b[0m\u001b[0;34m(\u001b[0m\u001b[0mmy_set\u001b[0m\u001b[0;34m)\u001b[0m\u001b[0;34m\u001b[0m\u001b[0;34m\u001b[0m\u001b[0m\n",
            "\u001b[0;31mKeyError\u001b[0m: 600"
          ]
        }
      ]
    },
    {
      "cell_type": "markdown",
      "metadata": {
        "id": "alJBL35EU_2i"
      },
      "source": [
        "## what is the difference between remove and discard?\n",
        "\n",
        "The remove() method raises an error when the specified element doesn't exist in the given set, however the discard() method doesn't raise any error if the specified element is not present in the set and the set remains unchanged"
      ]
    },
    {
      "cell_type": "code",
      "execution_count": null,
      "metadata": {
        "id": "Bsw1dobUU_2i",
        "colab": {
          "base_uri": "https://localhost:8080/",
          "height": 200
        },
        "outputId": "1425304b-aaf4-484f-9516-6c936b06125d"
      },
      "outputs": [
        {
          "output_type": "stream",
          "name": "stdout",
          "text": [
            "[12, 4, 5, True]\n"
          ]
        },
        {
          "output_type": "error",
          "ename": "NameError",
          "evalue": "name 'aaa' is not defined",
          "traceback": [
            "\u001b[0;31m---------------------------------------------------------------------------\u001b[0m",
            "\u001b[0;31mNameError\u001b[0m                                 Traceback (most recent call last)",
            "\u001b[0;32m<ipython-input-129-7ff15afd614f>\u001b[0m in \u001b[0;36m<cell line: 6>\u001b[0;34m()\u001b[0m\n\u001b[1;32m      4\u001b[0m \u001b[0mprint\u001b[0m\u001b[0;34m(\u001b[0m\u001b[0maaa\u001b[0m\u001b[0;34m)\u001b[0m\u001b[0;34m\u001b[0m\u001b[0;34m\u001b[0m\u001b[0m\n\u001b[1;32m      5\u001b[0m \u001b[0;32mdel\u001b[0m \u001b[0maaa\u001b[0m   \u001b[0;31m#### The del keyword is used to delete objects.\u001b[0m\u001b[0;34m\u001b[0m\u001b[0;34m\u001b[0m\u001b[0m\n\u001b[0;32m----> 6\u001b[0;31m \u001b[0mprint\u001b[0m\u001b[0;34m(\u001b[0m\u001b[0maaa\u001b[0m\u001b[0;34m)\u001b[0m\u001b[0;34m\u001b[0m\u001b[0;34m\u001b[0m\u001b[0m\n\u001b[0m",
            "\u001b[0;31mNameError\u001b[0m: name 'aaa' is not defined"
          ]
        }
      ],
      "source": [
        "aaa=[12,4,5,True]\n",
        "#aaa=None\n",
        "##print(aaa)\n",
        "print(aaa)\n",
        "del aaa   #### The del keyword is used to delete objects.\n",
        "print(aaa)"
      ]
    },
    {
      "cell_type": "markdown",
      "metadata": {
        "id": "cREU79rDU_2i"
      },
      "source": [
        "#### Difference Between Python del vs Assigning to None\n",
        "The difference is that x = None will free whatever it referenced but keep the name around even though it's just referencing None (which is a type, NoneType). On the other hand, del x will completely remove both the name and what it referenced."
      ]
    },
    {
      "cell_type": "markdown",
      "metadata": {
        "id": "iE_JcpkcU_2i"
      },
      "source": [
        "### Python Set Operations"
      ]
    },
    {
      "cell_type": "code",
      "execution_count": null,
      "metadata": {
        "colab": {
          "base_uri": "https://localhost:8080/"
        },
        "id": "9qFXE3OxU_2i",
        "outputId": "1ffa68a4-e5e6-4809-91fc-59d1aca39f27"
      },
      "outputs": [
        {
          "output_type": "stream",
          "name": "stdout",
          "text": [
            "{1, 4, 7}\n",
            "{1, 3, 4, 7, 10, 11}\n",
            "{1, 3, 4, 7, 10, 11}\n"
          ]
        }
      ],
      "source": [
        "aa={1,3,4,7}\n",
        "bb={1,4,7,10,11}\n",
        "\n",
        "## intersection\n",
        "print(aa & bb)\n",
        "\n",
        "##uniion\n",
        "\n",
        "c=aa | bb\n",
        "c.add(1)\n",
        "\n",
        "print(c)\n",
        "print(aa | bb)\n",
        "\n",
        "\n"
      ]
    },
    {
      "cell_type": "markdown",
      "metadata": {
        "id": "X_akKjT_U_2i"
      },
      "source": [
        "### dictionary\n",
        "##### In Python, a dictionary is an unordered collection of items, with each item consisting of a key: value pair (separated by a colon)."
      ]
    },
    {
      "cell_type": "code",
      "execution_count": null,
      "metadata": {
        "id": "ftkHqVA3U_2i",
        "colab": {
          "base_uri": "https://localhost:8080/"
        },
        "outputId": "7af8ab0c-b273-4ff3-d583-da660858fe65"
      },
      "outputs": [
        {
          "output_type": "stream",
          "name": "stdout",
          "text": [
            "{'color': 'blue', 'fruit': 'apple', 'pet': 'dog', 'weight': 20, 'dimeter': 20}\n",
            "blue\n",
            "{'color': 'blue', 'fruit': 'apple', 'pet': 'dog', 'weight': 20, 'dimeter': 20, 10: 200}\n",
            "color : blue\n",
            "fruit : apple\n",
            "pet : dog\n",
            "weight : 20\n",
            "dimeter : 20\n",
            "10 : 200\n",
            "--------------\n",
            "color blue\n",
            "fruit apple\n",
            "pet dog\n",
            "weight 20\n",
            "dimeter 20\n",
            "10 200\n",
            "dict_keys(['color', 'fruit', 'pet', 'weight', 'dimeter', 10])\n",
            "dict_values(['blue', 'apple', 'dog', 20, 20, 200])\n"
          ]
        }
      ],
      "source": [
        "# empty dictionary\n",
        "myDict = dict()\n",
        "myDict1={}\n",
        "\n",
        "info={'Saleh':40, 'NorAH':24}\n",
        "\n",
        "#### Distinguish set and dictionary while creating empty set\n",
        "\n",
        "a_dict = {'color': 'blue', 'fruit': 'apple', 'pet': 'dog', 'weight':20}\n",
        "\n",
        "a_dict['dimeter']=1.3 #Add\n",
        "\n",
        "a_dict['dimeter']=20  #update\n",
        "print(a_dict)\n",
        "print(a_dict['color'])\n",
        "\n",
        "a_dict[10]=200\n",
        "print(a_dict)\n",
        "# iterating through iterms\n",
        "\n",
        "for key, value in a_dict.items():\n",
        "    print(key,':', value)\n",
        "print('--------------')\n",
        "\n",
        "for k, v in a_dict.items():\n",
        "    print(k,v)\n",
        "\n",
        "print(a_dict.keys())\n",
        "print(a_dict.values())"
      ]
    },
    {
      "cell_type": "markdown",
      "metadata": {
        "id": "3wDbr1vjU_2i"
      },
      "source": [
        "### tuple\n",
        "- A tuple is a collection which is ordered and unchangeable. In Python tuples are written with round brackets."
      ]
    },
    {
      "cell_type": "code",
      "execution_count": null,
      "metadata": {
        "id": "LKEp9-x9U_2i",
        "colab": {
          "base_uri": "https://localhost:8080/"
        },
        "outputId": "15c1e71f-fda7-440a-b041-7b42cc34a9c6"
      },
      "outputs": [
        {
          "output_type": "stream",
          "name": "stdout",
          "text": [
            "('p', 'r', 'o', 'g', 'r', 'a', 'm', 'i', 'z')\n"
          ]
        }
      ],
      "source": [
        "my_tuple = ('p','r','o','g','r','a','m','i','z')\n",
        "print(my_tuple)"
      ]
    },
    {
      "cell_type": "code",
      "execution_count": null,
      "metadata": {
        "id": "_WXIv-XhU_2j",
        "colab": {
          "base_uri": "https://localhost:8080/"
        },
        "outputId": "091243ee-d51a-4a81-a6cc-4127c331aa46"
      },
      "outputs": [
        {
          "output_type": "stream",
          "name": "stdout",
          "text": [
            "p\n"
          ]
        }
      ],
      "source": [
        "print(my_tuple[0])"
      ]
    },
    {
      "cell_type": "code",
      "execution_count": null,
      "metadata": {
        "id": "UV9Rfp1PU_2j",
        "colab": {
          "base_uri": "https://localhost:8080/",
          "height": 146
        },
        "outputId": "1e7cbf5c-c233-462f-a2cb-db733fa654a9"
      },
      "outputs": [
        {
          "output_type": "error",
          "ename": "TypeError",
          "evalue": "'tuple' object does not support item assignment",
          "traceback": [
            "\u001b[0;31m---------------------------------------------------------------------------\u001b[0m",
            "\u001b[0;31mTypeError\u001b[0m                                 Traceback (most recent call last)",
            "\u001b[0;32m<ipython-input-134-2da6f0af6dd7>\u001b[0m in \u001b[0;36m<cell line: 1>\u001b[0;34m()\u001b[0m\n\u001b[0;32m----> 1\u001b[0;31m \u001b[0mmy_tuple\u001b[0m\u001b[0;34m[\u001b[0m\u001b[0;36m0\u001b[0m\u001b[0;34m]\u001b[0m\u001b[0;34m=\u001b[0m\u001b[0;34m'k'\u001b[0m\u001b[0;34m\u001b[0m\u001b[0;34m\u001b[0m\u001b[0m\n\u001b[0m",
            "\u001b[0;31mTypeError\u001b[0m: 'tuple' object does not support item assignment"
          ]
        }
      ],
      "source": [
        "my_tuple[0]='k'"
      ]
    },
    {
      "cell_type": "markdown",
      "metadata": {
        "id": "HxtjescmU_2j"
      },
      "source": [
        "### Q) How to change the value in tuple?"
      ]
    },
    {
      "cell_type": "code",
      "execution_count": null,
      "metadata": {
        "id": "0t6ixBpUU_2j",
        "colab": {
          "base_uri": "https://localhost:8080/"
        },
        "outputId": "30a185f2-3d3d-4a14-d08d-eec8338012a1"
      },
      "outputs": [
        {
          "output_type": "stream",
          "name": "stdout",
          "text": [
            "['K', 'r', 'o', 'g', 'r', 'a', 'm', 'i', 'z']\n"
          ]
        },
        {
          "output_type": "execute_result",
          "data": {
            "text/plain": [
              "('K', 'r', 'o', 'g', 'r', 'a', 'm', 'i', 'z')"
            ]
          },
          "metadata": {},
          "execution_count": 135
        }
      ],
      "source": [
        "my_lst10=list(my_tuple)\n",
        "\n",
        "my_lst10[0]='K'\n",
        "print(my_lst10)\n",
        "\n",
        "my_tuple1=tuple(my_lst10)\n",
        "my_tuple1"
      ]
    },
    {
      "cell_type": "markdown",
      "metadata": {
        "id": "XkySZO3mU_2j"
      },
      "source": [
        "### Importing Modules and packages\n",
        "\n",
        "<font size=\"4\">\n",
        "    \n",
        "- Module is a file consisting of Python code. Module can define functions , classes and variables.\n",
        "- To make use of the functions in a module, you’ll need to import the module with an import statement.\n",
        "    <font size=\"3\">AAAAAA</font>"
      ]
    },
    {
      "cell_type": "code",
      "execution_count": null,
      "metadata": {
        "id": "4qVcyltaU_2j",
        "colab": {
          "base_uri": "https://localhost:8080/"
        },
        "outputId": "90f55930-9cf6-4e89-929d-c5c88b9a10de"
      },
      "outputs": [
        {
          "output_type": "stream",
          "name": "stdout",
          "text": [
            "0.8939966636005579\n",
            "3.141592653589793\n",
            "[0. 0. 0. 0. 0.]\n",
            "30\n",
            "3.0\n"
          ]
        },
        {
          "output_type": "execute_result",
          "data": {
            "text/plain": [
              "<function math.acos(x, /)>"
            ]
          },
          "metadata": {},
          "execution_count": 136
        }
      ],
      "source": [
        "# method 1\n",
        "import math\n",
        "import numpy\n",
        "\n",
        "print(math.sin(90))\n",
        "print(math.pi)\n",
        "print(numpy.zeros(5))\n",
        "\n",
        "# methed 2\n",
        "import numpy as np\n",
        "import pandas as pd\n",
        "\n",
        "pd.DataFrame()\n",
        "print(np.add(10,20))\n",
        "\n",
        "# method 3\n",
        "from math import log10, pi, sin, ceil, floor\n",
        "print(log10(1000))\n",
        "from math import sin,pi , ceil\n",
        "sin(90)\n",
        "#method 4\n",
        "from math import *\n",
        "acos"
      ]
    },
    {
      "cell_type": "code",
      "source": [
        "import math\n",
        "\n",
        "# Angle in degrees\n",
        "angle_in_degrees = 90\n",
        "\n",
        "# Convert degrees to radians\n",
        "angle_in_radians = math.radians(angle_in_degrees)\n",
        "\n",
        "# Calculate the sine of the angle\n",
        "sin_value = math.sin(angle_in_radians)\n",
        "\n",
        "# Print the result\n",
        "print(sin_value)\n"
      ],
      "metadata": {
        "colab": {
          "base_uri": "https://localhost:8080/"
        },
        "id": "hpYlR0iq5-ee",
        "outputId": "de78101d-9379-4744-d4d7-1a23f9bf19f4"
      },
      "execution_count": null,
      "outputs": [
        {
          "output_type": "stream",
          "name": "stdout",
          "text": [
            "1.0\n"
          ]
        }
      ]
    },
    {
      "cell_type": "code",
      "execution_count": null,
      "metadata": {
        "colab": {
          "base_uri": "https://localhost:8080/"
        },
        "id": "Dv6OhOjlU_2j",
        "outputId": "c1fb4389-8da6-49c2-bdb2-c06203de67fb",
        "collapsed": true
      },
      "outputs": [
        {
          "output_type": "stream",
          "name": "stdout",
          "text": [
            "Help on built-in module math:\n",
            "\n",
            "NAME\n",
            "    math\n",
            "\n",
            "DESCRIPTION\n",
            "    This module provides access to the mathematical functions\n",
            "    defined by the C standard.\n",
            "\n",
            "FUNCTIONS\n",
            "    acos(x, /)\n",
            "        Return the arc cosine (measured in radians) of x.\n",
            "        \n",
            "        The result is between 0 and pi.\n",
            "    \n",
            "    acosh(x, /)\n",
            "        Return the inverse hyperbolic cosine of x.\n",
            "    \n",
            "    asin(x, /)\n",
            "        Return the arc sine (measured in radians) of x.\n",
            "        \n",
            "        The result is between -pi/2 and pi/2.\n",
            "    \n",
            "    asinh(x, /)\n",
            "        Return the inverse hyperbolic sine of x.\n",
            "    \n",
            "    atan(x, /)\n",
            "        Return the arc tangent (measured in radians) of x.\n",
            "        \n",
            "        The result is between -pi/2 and pi/2.\n",
            "    \n",
            "    atan2(y, x, /)\n",
            "        Return the arc tangent (measured in radians) of y/x.\n",
            "        \n",
            "        Unlike atan(y/x), the signs of both x and y are considered.\n",
            "    \n",
            "    atanh(x, /)\n",
            "        Return the inverse hyperbolic tangent of x.\n",
            "    \n",
            "    ceil(x, /)\n",
            "        Return the ceiling of x as an Integral.\n",
            "        \n",
            "        This is the smallest integer >= x.\n",
            "    \n",
            "    comb(n, k, /)\n",
            "        Number of ways to choose k items from n items without repetition and without order.\n",
            "        \n",
            "        Evaluates to n! / (k! * (n - k)!) when k <= n and evaluates\n",
            "        to zero when k > n.\n",
            "        \n",
            "        Also called the binomial coefficient because it is equivalent\n",
            "        to the coefficient of k-th term in polynomial expansion of the\n",
            "        expression (1 + x)**n.\n",
            "        \n",
            "        Raises TypeError if either of the arguments are not integers.\n",
            "        Raises ValueError if either of the arguments are negative.\n",
            "    \n",
            "    copysign(x, y, /)\n",
            "        Return a float with the magnitude (absolute value) of x but the sign of y.\n",
            "        \n",
            "        On platforms that support signed zeros, copysign(1.0, -0.0)\n",
            "        returns -1.0.\n",
            "    \n",
            "    cos(x, /)\n",
            "        Return the cosine of x (measured in radians).\n",
            "    \n",
            "    cosh(x, /)\n",
            "        Return the hyperbolic cosine of x.\n",
            "    \n",
            "    degrees(x, /)\n",
            "        Convert angle x from radians to degrees.\n",
            "    \n",
            "    dist(p, q, /)\n",
            "        Return the Euclidean distance between two points p and q.\n",
            "        \n",
            "        The points should be specified as sequences (or iterables) of\n",
            "        coordinates.  Both inputs must have the same dimension.\n",
            "        \n",
            "        Roughly equivalent to:\n",
            "            sqrt(sum((px - qx) ** 2.0 for px, qx in zip(p, q)))\n",
            "    \n",
            "    erf(x, /)\n",
            "        Error function at x.\n",
            "    \n",
            "    erfc(x, /)\n",
            "        Complementary error function at x.\n",
            "    \n",
            "    exp(x, /)\n",
            "        Return e raised to the power of x.\n",
            "    \n",
            "    expm1(x, /)\n",
            "        Return exp(x)-1.\n",
            "        \n",
            "        This function avoids the loss of precision involved in the direct evaluation of exp(x)-1 for small x.\n",
            "    \n",
            "    fabs(x, /)\n",
            "        Return the absolute value of the float x.\n",
            "    \n",
            "    factorial(x, /)\n",
            "        Find x!.\n",
            "        \n",
            "        Raise a ValueError if x is negative or non-integral.\n",
            "    \n",
            "    floor(x, /)\n",
            "        Return the floor of x as an Integral.\n",
            "        \n",
            "        This is the largest integer <= x.\n",
            "    \n",
            "    fmod(x, y, /)\n",
            "        Return fmod(x, y), according to platform C.\n",
            "        \n",
            "        x % y may differ.\n",
            "    \n",
            "    frexp(x, /)\n",
            "        Return the mantissa and exponent of x, as pair (m, e).\n",
            "        \n",
            "        m is a float and e is an int, such that x = m * 2.**e.\n",
            "        If x is 0, m and e are both 0.  Else 0.5 <= abs(m) < 1.0.\n",
            "    \n",
            "    fsum(seq, /)\n",
            "        Return an accurate floating point sum of values in the iterable seq.\n",
            "        \n",
            "        Assumes IEEE-754 floating point arithmetic.\n",
            "    \n",
            "    gamma(x, /)\n",
            "        Gamma function at x.\n",
            "    \n",
            "    gcd(*integers)\n",
            "        Greatest Common Divisor.\n",
            "    \n",
            "    hypot(...)\n",
            "        hypot(*coordinates) -> value\n",
            "        \n",
            "        Multidimensional Euclidean distance from the origin to a point.\n",
            "        \n",
            "        Roughly equivalent to:\n",
            "            sqrt(sum(x**2 for x in coordinates))\n",
            "        \n",
            "        For a two dimensional point (x, y), gives the hypotenuse\n",
            "        using the Pythagorean theorem:  sqrt(x*x + y*y).\n",
            "        \n",
            "        For example, the hypotenuse of a 3/4/5 right triangle is:\n",
            "        \n",
            "            >>> hypot(3.0, 4.0)\n",
            "            5.0\n",
            "    \n",
            "    isclose(a, b, *, rel_tol=1e-09, abs_tol=0.0)\n",
            "        Determine whether two floating point numbers are close in value.\n",
            "        \n",
            "          rel_tol\n",
            "            maximum difference for being considered \"close\", relative to the\n",
            "            magnitude of the input values\n",
            "          abs_tol\n",
            "            maximum difference for being considered \"close\", regardless of the\n",
            "            magnitude of the input values\n",
            "        \n",
            "        Return True if a is close in value to b, and False otherwise.\n",
            "        \n",
            "        For the values to be considered close, the difference between them\n",
            "        must be smaller than at least one of the tolerances.\n",
            "        \n",
            "        -inf, inf and NaN behave similarly to the IEEE 754 Standard.  That\n",
            "        is, NaN is not close to anything, even itself.  inf and -inf are\n",
            "        only close to themselves.\n",
            "    \n",
            "    isfinite(x, /)\n",
            "        Return True if x is neither an infinity nor a NaN, and False otherwise.\n",
            "    \n",
            "    isinf(x, /)\n",
            "        Return True if x is a positive or negative infinity, and False otherwise.\n",
            "    \n",
            "    isnan(x, /)\n",
            "        Return True if x is a NaN (not a number), and False otherwise.\n",
            "    \n",
            "    isqrt(n, /)\n",
            "        Return the integer part of the square root of the input.\n",
            "    \n",
            "    lcm(*integers)\n",
            "        Least Common Multiple.\n",
            "    \n",
            "    ldexp(x, i, /)\n",
            "        Return x * (2**i).\n",
            "        \n",
            "        This is essentially the inverse of frexp().\n",
            "    \n",
            "    lgamma(x, /)\n",
            "        Natural logarithm of absolute value of Gamma function at x.\n",
            "    \n",
            "    log(...)\n",
            "        log(x, [base=math.e])\n",
            "        Return the logarithm of x to the given base.\n",
            "        \n",
            "        If the base not specified, returns the natural logarithm (base e) of x.\n",
            "    \n",
            "    log10(x, /)\n",
            "        Return the base 10 logarithm of x.\n",
            "    \n",
            "    log1p(x, /)\n",
            "        Return the natural logarithm of 1+x (base e).\n",
            "        \n",
            "        The result is computed in a way which is accurate for x near zero.\n",
            "    \n",
            "    log2(x, /)\n",
            "        Return the base 2 logarithm of x.\n",
            "    \n",
            "    modf(x, /)\n",
            "        Return the fractional and integer parts of x.\n",
            "        \n",
            "        Both results carry the sign of x and are floats.\n",
            "    \n",
            "    nextafter(x, y, /)\n",
            "        Return the next floating-point value after x towards y.\n",
            "    \n",
            "    perm(n, k=None, /)\n",
            "        Number of ways to choose k items from n items without repetition and with order.\n",
            "        \n",
            "        Evaluates to n! / (n - k)! when k <= n and evaluates\n",
            "        to zero when k > n.\n",
            "        \n",
            "        If k is not specified or is None, then k defaults to n\n",
            "        and the function returns n!.\n",
            "        \n",
            "        Raises TypeError if either of the arguments are not integers.\n",
            "        Raises ValueError if either of the arguments are negative.\n",
            "    \n",
            "    pow(x, y, /)\n",
            "        Return x**y (x to the power of y).\n",
            "    \n",
            "    prod(iterable, /, *, start=1)\n",
            "        Calculate the product of all the elements in the input iterable.\n",
            "        \n",
            "        The default start value for the product is 1.\n",
            "        \n",
            "        When the iterable is empty, return the start value.  This function is\n",
            "        intended specifically for use with numeric values and may reject\n",
            "        non-numeric types.\n",
            "    \n",
            "    radians(x, /)\n",
            "        Convert angle x from degrees to radians.\n",
            "    \n",
            "    remainder(x, y, /)\n",
            "        Difference between x and the closest integer multiple of y.\n",
            "        \n",
            "        Return x - n*y where n*y is the closest integer multiple of y.\n",
            "        In the case where x is exactly halfway between two multiples of\n",
            "        y, the nearest even value of n is used. The result is always exact.\n",
            "    \n",
            "    sin(x, /)\n",
            "        Return the sine of x (measured in radians).\n",
            "    \n",
            "    sinh(x, /)\n",
            "        Return the hyperbolic sine of x.\n",
            "    \n",
            "    sqrt(x, /)\n",
            "        Return the square root of x.\n",
            "    \n",
            "    tan(x, /)\n",
            "        Return the tangent of x (measured in radians).\n",
            "    \n",
            "    tanh(x, /)\n",
            "        Return the hyperbolic tangent of x.\n",
            "    \n",
            "    trunc(x, /)\n",
            "        Truncates the Real x to the nearest Integral toward 0.\n",
            "        \n",
            "        Uses the __trunc__ magic method.\n",
            "    \n",
            "    ulp(x, /)\n",
            "        Return the value of the least significant bit of the float x.\n",
            "\n",
            "DATA\n",
            "    e = 2.718281828459045\n",
            "    inf = inf\n",
            "    nan = nan\n",
            "    pi = 3.141592653589793\n",
            "    tau = 6.283185307179586\n",
            "\n",
            "FILE\n",
            "    (built-in)\n",
            "\n",
            "\n"
          ]
        }
      ],
      "source": [
        "import math\n",
        "help(math)"
      ]
    },
    {
      "cell_type": "markdown",
      "metadata": {
        "id": "cWWVIZo6U_2k"
      },
      "source": [
        "### random module\n",
        "- random.random(): Generates a random float number between 0.0 to 1.0. The function doesn't need any arguments.\n",
        "- random.randint(): Returns a random integer between the specified integers.\n",
        "- random.shuffle(): This functions randomly reorders the elements in a list.\n",
        "- random.choice():  Returns a randomly selected element from a non-empty sequence. An empty sequence as argument raises an IndexError.\n",
        "- random.sample returns a list with a randomly selection of a specified number of items from a sequnce.\n",
        "- random.randrange(): Returns a randomly selected element from the range created by the start, stop and step arguments. The value of start is 0 by default. Similarly, the value of step is 1 by default.\n",
        "\n",
        "\n"
      ]
    },
    {
      "cell_type": "code",
      "source": [
        "import random\n",
        "\n",
        "# Generate a random float number between 0.0 and 1.0\n",
        "random_float = random.random()\n",
        "print(\"Random float:\", random_float)"
      ],
      "metadata": {
        "id": "zNTNFlvh8-Q-",
        "colab": {
          "base_uri": "https://localhost:8080/"
        },
        "outputId": "24af8161-a7ca-4dde-a1ed-728b003662b6"
      },
      "execution_count": null,
      "outputs": [
        {
          "output_type": "stream",
          "name": "stdout",
          "text": [
            "Random float: 0.20946513488047813\n"
          ]
        }
      ]
    },
    {
      "cell_type": "code",
      "source": [
        "import random\n",
        "\n",
        "# Generate a random integer between 1 and 10\n",
        "random_int = random.randint(1, 10)\n",
        "print(\"Random integer:\", random_int)\n"
      ],
      "metadata": {
        "id": "SBWFLyxd9AfS",
        "colab": {
          "base_uri": "https://localhost:8080/"
        },
        "outputId": "fc1e50ae-1f61-4972-9885-18b681ff8ff1"
      },
      "execution_count": null,
      "outputs": [
        {
          "output_type": "stream",
          "name": "stdout",
          "text": [
            "Random integer: 9\n"
          ]
        }
      ]
    },
    {
      "cell_type": "code",
      "source": [
        "import random\n",
        "\n",
        "# Example list\n",
        "my_list = [1, 2, 3, 4, 5]\n",
        "\n",
        "# Shuffle the list\n",
        "random.shuffle(my_list)\n",
        "print(\"Shuffled list:\", my_list)\n"
      ],
      "metadata": {
        "id": "nt-QaTjb9CjI",
        "colab": {
          "base_uri": "https://localhost:8080/"
        },
        "outputId": "5f7f2aef-436b-4bbf-c15a-172f6e5655cd"
      },
      "execution_count": null,
      "outputs": [
        {
          "output_type": "stream",
          "name": "stdout",
          "text": [
            "Shuffled list: [5, 2, 4, 1, 3]\n"
          ]
        }
      ]
    },
    {
      "cell_type": "code",
      "source": [
        "import random\n",
        "\n",
        "# Example list\n",
        "my_list = ['apple', 'banana', 'cherry', 'date']\n",
        "\n",
        "# Select a random element from the list\n",
        "random_element = random.choice(my_list)\n",
        "print(\"Random choice:\", random_element)\n"
      ],
      "metadata": {
        "id": "tlOehE309F4d",
        "colab": {
          "base_uri": "https://localhost:8080/"
        },
        "outputId": "7310ad63-c592-47e7-865c-f17d8350510c"
      },
      "execution_count": null,
      "outputs": [
        {
          "output_type": "stream",
          "name": "stdout",
          "text": [
            "Random choice: date\n"
          ]
        }
      ]
    },
    {
      "cell_type": "code",
      "source": [
        "import random\n",
        "\n",
        "# Example list\n",
        "my_list = ['apple', 'banana', 'cherry', 'date', 'elderberry']\n",
        "\n",
        "# Select 3 random elements from the list\n",
        "random_sample = random.sample(my_list, 3)\n",
        "print(\"Random sample:\", random_sample)\n"
      ],
      "metadata": {
        "id": "ybbUFtVb9Igj",
        "colab": {
          "base_uri": "https://localhost:8080/"
        },
        "outputId": "9f3d4e35-7226-4423-a67d-1f33c904f018"
      },
      "execution_count": null,
      "outputs": [
        {
          "output_type": "stream",
          "name": "stdout",
          "text": [
            "Random sample: ['elderberry', 'apple', 'date']\n"
          ]
        }
      ]
    },
    {
      "cell_type": "code",
      "source": [
        "import random\n",
        "\n",
        "# Generate a random element from the range 0 to 9 (inclusive)\n",
        "random_range = random.randrange(10)\n",
        "print(\"Random range element:\", random_range)\n",
        "\n",
        "# Generate a random element from the range 1 to 10 (inclusive)\n",
        "random_range_with_start = random.randrange(1, 11)\n",
        "print(\"Random range element with start:\", random_range_with_start)\n",
        "\n",
        "# Generate a random element from the range 1 to 10 (inclusive) with step 2\n",
        "random_range_with_step = random.randrange(1, 11, 2)\n",
        "print(\"Random range element with step:\", random_range_with_step)\n"
      ],
      "metadata": {
        "id": "AmgFYj1E9KNz",
        "colab": {
          "base_uri": "https://localhost:8080/"
        },
        "outputId": "85d9a1d4-4cfe-4294-c6df-29128bf88f5d"
      },
      "execution_count": null,
      "outputs": [
        {
          "output_type": "stream",
          "name": "stdout",
          "text": [
            "Random range element: 1\n",
            "Random range element with start: 1\n",
            "Random range element with step: 3\n"
          ]
        }
      ]
    },
    {
      "cell_type": "code",
      "execution_count": null,
      "metadata": {
        "id": "Z8kmO2oPU_2k",
        "colab": {
          "base_uri": "https://localhost:8080/"
        },
        "outputId": "fcb651b2-473e-4113-99a4-11d66e2100c7"
      },
      "outputs": [
        {
          "output_type": "stream",
          "name": "stdout",
          "text": [
            "0.9056396761745207\n"
          ]
        }
      ],
      "source": [
        "import random\n",
        "random.seed(20)\n",
        "print(random.random())"
      ]
    },
    {
      "cell_type": "code",
      "execution_count": null,
      "metadata": {
        "id": "xR0L-p2-U_2k",
        "colab": {
          "base_uri": "https://localhost:8080/"
        },
        "outputId": "6cc45158-dc35-4478-cdb5-fab2f563a8dd"
      },
      "outputs": [
        {
          "output_type": "stream",
          "name": "stdout",
          "text": [
            "[1, 2, 3, 4, 5, 6, 7, 8, 9, 10, 11, 12, 13, 14, 15, 16, 17, 18, 19]\n",
            "[16, 13, 18, 6, 19, 17, 8, 14, 15, 2, 12, 7, 1, 3, 10, 11, 4, 9, 5]\n"
          ]
        }
      ],
      "source": [
        "arr=list(range(1,20))\n",
        "print(arr)\n",
        "random.shuffle(arr)\n",
        "print(arr)"
      ]
    },
    {
      "cell_type": "markdown",
      "metadata": {
        "id": "vc_sOSDsU_2l"
      },
      "source": [
        "### Loops"
      ]
    },
    {
      "cell_type": "markdown",
      "metadata": {
        "id": "Y7W-4kgOU_2m"
      },
      "source": [
        "# Exercise\n",
        "#### Simple Mathematical Operators"
      ]
    }
  ],
  "metadata": {
    "kernelspec": {
      "display_name": "Python 3",
      "name": "python3"
    },
    "language_info": {
      "codemirror_mode": {
        "name": "ipython",
        "version": 3
      },
      "file_extension": ".py",
      "mimetype": "text/x-python",
      "name": "python",
      "nbconvert_exporter": "python",
      "pygments_lexer": "ipython3",
      "version": "3.8.8"
    },
    "colab": {
      "provenance": [],
      "collapsed_sections": [
        "kdIN7h4sU_2N"
      ],
      "include_colab_link": true
    }
  },
  "nbformat": 4,
  "nbformat_minor": 0
}